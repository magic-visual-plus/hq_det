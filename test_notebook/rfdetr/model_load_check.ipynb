{
 "cells": [
  {
   "cell_type": "markdown",
   "metadata": {},
   "source": [
    "# 模型加载情况检查"
   ]
  },
  {
   "cell_type": "code",
   "execution_count": 5,
   "metadata": {},
   "outputs": [],
   "source": [
    "import torch\n",
    "from hq_det.trainer import DefaultAugmentation\n",
    "from hq_det.tools.train_rfdetr import MyTrainer\n",
    "from hq_det.trainer import HQTrainerArguments"
   ]
  },
  {
   "cell_type": "code",
   "execution_count": 2,
   "metadata": {},
   "outputs": [],
   "source": [
    "dataset_path = \"/root/autodl-tmp/chengdu_v2_dataset\"\n",
    "model_path = \"/root/autodl-tmp/model/rfdetr/rf-detr-base.pth\""
   ]
  },
  {
   "cell_type": "code",
   "execution_count": 3,
   "metadata": {},
   "outputs": [
    {
     "data": {
      "text/html": [
       "<pre style=\"white-space:pre;overflow-x:auto;line-height:normal;font-family:Menlo,'DejaVu Sans Mono',consolas,'Courier New',monospace\"><span style=\"font-style: italic\">                                                Training Arguments                                                 </span>\n",
       "┏━━━━━━━━━━━━━━━━━━━━━━━━━━━━━━━━━━━┳━━━━━━━━━━━━━━━━━━━━━━━━━━━━━━━━━━━━━━━━━━━━━━━━━━━━━━━━━━━━━━━━━━━━━━━━━━━━━┓\n",
       "┃<span style=\"font-weight: bold\"> Parameter                         </span>┃<span style=\"font-weight: bold\"> Value                                                                       </span>┃\n",
       "┡━━━━━━━━━━━━━━━━━━━━━━━━━━━━━━━━━━━╇━━━━━━━━━━━━━━━━━━━━━━━━━━━━━━━━━━━━━━━━━━━━━━━━━━━━━━━━━━━━━━━━━━━━━━━━━━━━━┩\n",
       "│<span style=\"color: #008080; text-decoration-color: #008080\"> data_path                         </span>│<span style=\"color: #008000; text-decoration-color: #008000\"> /root/autodl-tmp/chengdu_v2_dataset                                         </span>│\n",
       "│<span style=\"color: #008080; text-decoration-color: #008080\"> image_size                        </span>│<span style=\"color: #008000; text-decoration-color: #008000\"> 1024                                                                        </span>│\n",
       "│<span style=\"color: #008080; text-decoration-color: #008080\"> num_data_workers                  </span>│<span style=\"color: #008000; text-decoration-color: #008000\"> 4                                                                           </span>│\n",
       "│<span style=\"color: #008080; text-decoration-color: #008080\"> num_epoches                       </span>│<span style=\"color: #008000; text-decoration-color: #008000\"> 10                                                                          </span>│\n",
       "│<span style=\"color: #008080; text-decoration-color: #008080\"> warmup_epochs                     </span>│<span style=\"color: #008000; text-decoration-color: #008000\"> 5                                                                           </span>│\n",
       "│<span style=\"color: #008080; text-decoration-color: #008080\"> batch_size                        </span>│<span style=\"color: #008000; text-decoration-color: #008000\"> 16                                                                          </span>│\n",
       "│<span style=\"color: #008080; text-decoration-color: #008080\"> gradient_update_interval          </span>│<span style=\"color: #008000; text-decoration-color: #008000\"> 2                                                                           </span>│\n",
       "│<span style=\"color: #008080; text-decoration-color: #008080\"> enable_amp                        </span>│<span style=\"color: #008000; text-decoration-color: #008000\"> False                                                                       </span>│\n",
       "│<span style=\"color: #008080; text-decoration-color: #008080\"> max_grad_norm                     </span>│<span style=\"color: #008000; text-decoration-color: #008000\"> 5.0                                                                         </span>│\n",
       "│<span style=\"color: #008080; text-decoration-color: #008080\"> lr0                               </span>│<span style=\"color: #008000; text-decoration-color: #008000\"> 0.0001                                                                      </span>│\n",
       "│<span style=\"color: #008080; text-decoration-color: #008080\"> lr_min                            </span>│<span style=\"color: #008000; text-decoration-color: #008000\"> 1e-05                                                                       </span>│\n",
       "│<span style=\"color: #008080; text-decoration-color: #008080\"> lr_backbone_mult                  </span>│<span style=\"color: #008000; text-decoration-color: #008000\"> 1                                                                           </span>│\n",
       "│<span style=\"color: #008080; text-decoration-color: #008080\"> device                            </span>│<span style=\"color: #008000; text-decoration-color: #008000\"> cuda                                                                        </span>│\n",
       "│<span style=\"color: #008080; text-decoration-color: #008080\"> devices                           </span>│<span style=\"color: #008000; text-decoration-color: #008000\"> [0]                                                                         </span>│\n",
       "│<span style=\"color: #008080; text-decoration-color: #008080\"> checkpoint_path                   </span>│<span style=\"color: #008000; text-decoration-color: #008000\"> ./output                                                                    </span>│\n",
       "│<span style=\"color: #008080; text-decoration-color: #008080\"> output_path                       </span>│<span style=\"color: #008000; text-decoration-color: #008000\"> ./output                                                                    </span>│\n",
       "│<span style=\"color: #008080; text-decoration-color: #008080\"> checkpoint_interval               </span>│<span style=\"color: #008000; text-decoration-color: #008000\"> 1                                                                           </span>│\n",
       "│<span style=\"color: #008080; text-decoration-color: #008080\"> model_argument                    </span>│<span style=\"color: #008000; text-decoration-color: #008000\"> {'model': '/root/autodl-tmp/model/rfdetr/rf-detr-base.pth', 'model_type':   </span>│\n",
       "│<span style=\"color: #008080; text-decoration-color: #008080\">                                   </span>│<span style=\"color: #008000; text-decoration-color: #008000\"> 'base', 'lr_encoder': 0.00015, 'lr_component_decay': 0.7}                   </span>│\n",
       "│<span style=\"color: #008080; text-decoration-color: #008080\"> class_id2names                    </span>│<span style=\"color: #008000; text-decoration-color: #008000\"> None                                                                        </span>│\n",
       "│<span style=\"color: #008080; text-decoration-color: #008080\"> eval_class_names                  </span>│<span style=\"color: #008000; text-decoration-color: #008000\"> []                                                                          </span>│\n",
       "└───────────────────────────────────┴─────────────────────────────────────────────────────────────────────────────┘\n",
       "</pre>\n"
      ],
      "text/plain": [
       "\u001b[3m                                                Training Arguments                                                 \u001b[0m\n",
       "┏━━━━━━━━━━━━━━━━━━━━━━━━━━━━━━━━━━━┳━━━━━━━━━━━━━━━━━━━━━━━━━━━━━━━━━━━━━━━━━━━━━━━━━━━━━━━━━━━━━━━━━━━━━━━━━━━━━┓\n",
       "┃\u001b[1m \u001b[0m\u001b[1mParameter                        \u001b[0m\u001b[1m \u001b[0m┃\u001b[1m \u001b[0m\u001b[1mValue                                                                      \u001b[0m\u001b[1m \u001b[0m┃\n",
       "┡━━━━━━━━━━━━━━━━━━━━━━━━━━━━━━━━━━━╇━━━━━━━━━━━━━━━━━━━━━━━━━━━━━━━━━━━━━━━━━━━━━━━━━━━━━━━━━━━━━━━━━━━━━━━━━━━━━┩\n",
       "│\u001b[36m \u001b[0m\u001b[36mdata_path                        \u001b[0m\u001b[36m \u001b[0m│\u001b[32m \u001b[0m\u001b[32m/root/autodl-tmp/chengdu_v2_dataset                                        \u001b[0m\u001b[32m \u001b[0m│\n",
       "│\u001b[36m \u001b[0m\u001b[36mimage_size                       \u001b[0m\u001b[36m \u001b[0m│\u001b[32m \u001b[0m\u001b[32m1024                                                                       \u001b[0m\u001b[32m \u001b[0m│\n",
       "│\u001b[36m \u001b[0m\u001b[36mnum_data_workers                 \u001b[0m\u001b[36m \u001b[0m│\u001b[32m \u001b[0m\u001b[32m4                                                                          \u001b[0m\u001b[32m \u001b[0m│\n",
       "│\u001b[36m \u001b[0m\u001b[36mnum_epoches                      \u001b[0m\u001b[36m \u001b[0m│\u001b[32m \u001b[0m\u001b[32m10                                                                         \u001b[0m\u001b[32m \u001b[0m│\n",
       "│\u001b[36m \u001b[0m\u001b[36mwarmup_epochs                    \u001b[0m\u001b[36m \u001b[0m│\u001b[32m \u001b[0m\u001b[32m5                                                                          \u001b[0m\u001b[32m \u001b[0m│\n",
       "│\u001b[36m \u001b[0m\u001b[36mbatch_size                       \u001b[0m\u001b[36m \u001b[0m│\u001b[32m \u001b[0m\u001b[32m16                                                                         \u001b[0m\u001b[32m \u001b[0m│\n",
       "│\u001b[36m \u001b[0m\u001b[36mgradient_update_interval         \u001b[0m\u001b[36m \u001b[0m│\u001b[32m \u001b[0m\u001b[32m2                                                                          \u001b[0m\u001b[32m \u001b[0m│\n",
       "│\u001b[36m \u001b[0m\u001b[36menable_amp                       \u001b[0m\u001b[36m \u001b[0m│\u001b[32m \u001b[0m\u001b[32mFalse                                                                      \u001b[0m\u001b[32m \u001b[0m│\n",
       "│\u001b[36m \u001b[0m\u001b[36mmax_grad_norm                    \u001b[0m\u001b[36m \u001b[0m│\u001b[32m \u001b[0m\u001b[32m5.0                                                                        \u001b[0m\u001b[32m \u001b[0m│\n",
       "│\u001b[36m \u001b[0m\u001b[36mlr0                              \u001b[0m\u001b[36m \u001b[0m│\u001b[32m \u001b[0m\u001b[32m0.0001                                                                     \u001b[0m\u001b[32m \u001b[0m│\n",
       "│\u001b[36m \u001b[0m\u001b[36mlr_min                           \u001b[0m\u001b[36m \u001b[0m│\u001b[32m \u001b[0m\u001b[32m1e-05                                                                      \u001b[0m\u001b[32m \u001b[0m│\n",
       "│\u001b[36m \u001b[0m\u001b[36mlr_backbone_mult                 \u001b[0m\u001b[36m \u001b[0m│\u001b[32m \u001b[0m\u001b[32m1                                                                          \u001b[0m\u001b[32m \u001b[0m│\n",
       "│\u001b[36m \u001b[0m\u001b[36mdevice                           \u001b[0m\u001b[36m \u001b[0m│\u001b[32m \u001b[0m\u001b[32mcuda                                                                       \u001b[0m\u001b[32m \u001b[0m│\n",
       "│\u001b[36m \u001b[0m\u001b[36mdevices                          \u001b[0m\u001b[36m \u001b[0m│\u001b[32m \u001b[0m\u001b[32m[0]                                                                        \u001b[0m\u001b[32m \u001b[0m│\n",
       "│\u001b[36m \u001b[0m\u001b[36mcheckpoint_path                  \u001b[0m\u001b[36m \u001b[0m│\u001b[32m \u001b[0m\u001b[32m./output                                                                   \u001b[0m\u001b[32m \u001b[0m│\n",
       "│\u001b[36m \u001b[0m\u001b[36moutput_path                      \u001b[0m\u001b[36m \u001b[0m│\u001b[32m \u001b[0m\u001b[32m./output                                                                   \u001b[0m\u001b[32m \u001b[0m│\n",
       "│\u001b[36m \u001b[0m\u001b[36mcheckpoint_interval              \u001b[0m\u001b[36m \u001b[0m│\u001b[32m \u001b[0m\u001b[32m1                                                                          \u001b[0m\u001b[32m \u001b[0m│\n",
       "│\u001b[36m \u001b[0m\u001b[36mmodel_argument                   \u001b[0m\u001b[36m \u001b[0m│\u001b[32m \u001b[0m\u001b[32m{'model': '/root/autodl-tmp/model/rfdetr/rf-detr-base.pth', 'model_type':  \u001b[0m\u001b[32m \u001b[0m│\n",
       "│\u001b[36m                                   \u001b[0m│\u001b[32m \u001b[0m\u001b[32m'base', 'lr_encoder': 0.00015, 'lr_component_decay': 0.7}                  \u001b[0m\u001b[32m \u001b[0m│\n",
       "│\u001b[36m \u001b[0m\u001b[36mclass_id2names                   \u001b[0m\u001b[36m \u001b[0m│\u001b[32m \u001b[0m\u001b[32mNone                                                                       \u001b[0m\u001b[32m \u001b[0m│\n",
       "│\u001b[36m \u001b[0m\u001b[36meval_class_names                 \u001b[0m\u001b[36m \u001b[0m│\u001b[32m \u001b[0m\u001b[32m[]                                                                         \u001b[0m\u001b[32m \u001b[0m│\n",
       "└───────────────────────────────────┴─────────────────────────────────────────────────────────────────────────────┘\n"
      ]
     },
     "metadata": {},
     "output_type": "display_data"
    },
    {
     "data": {
      "text/html": [
       "<pre style=\"white-space:pre;overflow-x:auto;line-height:normal;font-family:Menlo,'DejaVu Sans Mono',consolas,'Courier New',monospace\">\n",
       "<span style=\"color: #008080; text-decoration-color: #008080\">devices:</span>\n",
       "</pre>\n"
      ],
      "text/plain": [
       "\n",
       "\u001b[36mdevices:\u001b[0m\n"
      ]
     },
     "metadata": {},
     "output_type": "display_data"
    },
    {
     "data": {
      "text/html": [
       "<pre style=\"white-space:pre;overflow-x:auto;line-height:normal;font-family:Menlo,'DejaVu Sans Mono',consolas,'Courier New',monospace\">  <span style=\"font-weight: bold\">[</span><span style=\"color: #008080; text-decoration-color: #008080; font-weight: bold\">0</span><span style=\"font-weight: bold\">]</span>: <span style=\"color: #008080; text-decoration-color: #008080; font-weight: bold\">0</span>\n",
       "</pre>\n"
      ],
      "text/plain": [
       "  \u001b[1m[\u001b[0m\u001b[1;36m0\u001b[0m\u001b[1m]\u001b[0m: \u001b[1;36m0\u001b[0m\n"
      ]
     },
     "metadata": {},
     "output_type": "display_data"
    },
    {
     "data": {
      "text/html": [
       "<pre style=\"white-space:pre;overflow-x:auto;line-height:normal;font-family:Menlo,'DejaVu Sans Mono',consolas,'Courier New',monospace\">\n",
       "<span style=\"color: #008080; text-decoration-color: #008080\">model_argument:</span>\n",
       "</pre>\n"
      ],
      "text/plain": [
       "\n",
       "\u001b[36mmodel_argument:\u001b[0m\n"
      ]
     },
     "metadata": {},
     "output_type": "display_data"
    },
    {
     "data": {
      "text/html": [
       "<pre style=\"white-space:pre;overflow-x:auto;line-height:normal;font-family:Menlo,'DejaVu Sans Mono',consolas,'Courier New',monospace\">  model: <span style=\"color: #800080; text-decoration-color: #800080\">/root/autodl-tmp/model/rfdetr/</span><span style=\"color: #ff00ff; text-decoration-color: #ff00ff\">rf-detr-base.pth</span>\n",
       "</pre>\n"
      ],
      "text/plain": [
       "  model: \u001b[35m/root/autodl-tmp/model/rfdetr/\u001b[0m\u001b[95mrf-detr-base.pth\u001b[0m\n"
      ]
     },
     "metadata": {},
     "output_type": "display_data"
    },
    {
     "data": {
      "text/html": [
       "<pre style=\"white-space:pre;overflow-x:auto;line-height:normal;font-family:Menlo,'DejaVu Sans Mono',consolas,'Courier New',monospace\">  model_type: base\n",
       "</pre>\n"
      ],
      "text/plain": [
       "  model_type: base\n"
      ]
     },
     "metadata": {},
     "output_type": "display_data"
    },
    {
     "data": {
      "text/html": [
       "<pre style=\"white-space:pre;overflow-x:auto;line-height:normal;font-family:Menlo,'DejaVu Sans Mono',consolas,'Courier New',monospace\">  lr_encoder: <span style=\"color: #008080; text-decoration-color: #008080; font-weight: bold\">0.00015</span>\n",
       "</pre>\n"
      ],
      "text/plain": [
       "  lr_encoder: \u001b[1;36m0.00015\u001b[0m\n"
      ]
     },
     "metadata": {},
     "output_type": "display_data"
    },
    {
     "data": {
      "text/html": [
       "<pre style=\"white-space:pre;overflow-x:auto;line-height:normal;font-family:Menlo,'DejaVu Sans Mono',consolas,'Courier New',monospace\">  lr_component_decay: <span style=\"color: #008080; text-decoration-color: #008080; font-weight: bold\">0.7</span>\n",
       "</pre>\n"
      ],
      "text/plain": [
       "  lr_component_decay: \u001b[1;36m0.7\u001b[0m\n"
      ]
     },
     "metadata": {},
     "output_type": "display_data"
    },
    {
     "data": {
      "text/html": [
       "<pre style=\"white-space:pre;overflow-x:auto;line-height:normal;font-family:Menlo,'DejaVu Sans Mono',consolas,'Courier New',monospace\">\n",
       "<span style=\"color: #008080; text-decoration-color: #008080\">eval_class_names:</span>\n",
       "</pre>\n"
      ],
      "text/plain": [
       "\n",
       "\u001b[36meval_class_names:\u001b[0m\n"
      ]
     },
     "metadata": {},
     "output_type": "display_data"
    },
    {
     "name": "stderr",
     "output_type": "stream",
     "text": [
      "\u001b[32m2025-06-23 02:58:19.731\u001b[0m | \u001b[1mINFO    \u001b[0m | \u001b[36mhq_det.dataset\u001b[0m:\u001b[36m__init__\u001b[0m:\u001b[36m118\u001b[0m - \u001b[1mCocoDetection: img_folder /root/autodl-tmp/chengdu_v2_dataset/train using 3204 images\u001b[0m\n",
      "\u001b[32m2025-06-23 02:58:19.732\u001b[0m | \u001b[1mINFO    \u001b[0m | \u001b[36mhq_det.dataset\u001b[0m:\u001b[36m__init__\u001b[0m:\u001b[36m124\u001b[0m - \u001b[1mid 2 names {0: '其他', 1: '划伤', 2: '划痕', 3: '压痕', 4: '吊紧', 5: '异物外漏', 6: '折痕', 7: '抛线', 8: '拼接间隙', 9: '水渍', 10: '水珠', 11: '烫伤', 12: '爆针线', 13: '白点', 14: '破损', 15: '碰伤', 16: '红标签', 17: '线头', 18: '脏污', 19: '褶皱(贯穿)', 20: '褶皱（轻度）', 21: '褶皱（重度）', 22: '重跳针'}\u001b[0m\n",
      "\u001b[32m2025-06-23 02:58:19.741\u001b[0m | \u001b[1mINFO    \u001b[0m | \u001b[36mhq_det.dataset\u001b[0m:\u001b[36m__init__\u001b[0m:\u001b[36m118\u001b[0m - \u001b[1mCocoDetection: img_folder /root/autodl-tmp/chengdu_v2_dataset/valid using 802 images\u001b[0m\n",
      "\u001b[32m2025-06-23 02:58:19.742\u001b[0m | \u001b[1mINFO    \u001b[0m | \u001b[36mhq_det.dataset\u001b[0m:\u001b[36m__init__\u001b[0m:\u001b[36m124\u001b[0m - \u001b[1mid 2 names {0: '其他', 1: '划伤', 2: '划痕', 3: '压痕', 4: '吊紧', 5: '异物外漏', 6: '折痕', 7: '抛线', 8: '拼接间隙', 9: '水渍', 10: '水珠', 11: '烫伤', 12: '爆针线', 13: '白点', 14: '破损', 15: '碰伤', 16: '红标签', 17: '线头', 18: '脏污', 19: '褶皱(贯穿)', 20: '褶皱（轻度）', 21: '褶皱（重度）', 22: '重跳针'}\u001b[0m\n"
     ]
    },
    {
     "name": "stdout",
     "output_type": "stream",
     "text": [
      "loading annotations into memory...\n",
      "Done (t=0.03s)\n",
      "creating index...\n",
      "index created!\n",
      "loading annotations into memory...\n",
      "Done (t=0.01s)\n",
      "creating index...\n",
      "index created!\n"
     ]
    },
    {
     "data": {
      "text/html": [
       "<pre style=\"white-space:pre;overflow-x:auto;line-height:normal;font-family:Menlo,'DejaVu Sans Mono',consolas,'Courier New',monospace\"><span style=\"font-style: italic\">                                                Dataset Information                                                </span>\n",
       "┏━━━━━━━━━━━━━━━━━━━━━━━━━━━━━━━━━━━━━━━━━━━━━━━━━━━━━━━━━━━━━━━━━━━┳━━━━━━━━━━━━━━━━━━━━━━━━━━━━━━━━━━━━━━━━━━━━━┓\n",
       "┃<span style=\"font-weight: bold\"> Dataset                                                           </span>┃<span style=\"font-weight: bold\">                                        Size </span>┃\n",
       "┡━━━━━━━━━━━━━━━━━━━━━━━━━━━━━━━━━━━━━━━━━━━━━━━━━━━━━━━━━━━━━━━━━━━╇━━━━━━━━━━━━━━━━━━━━━━━━━━━━━━━━━━━━━━━━━━━━━┩\n",
       "│<span style=\"color: #008080; text-decoration-color: #008080\"> Training                                                          </span>│<span style=\"color: #800080; text-decoration-color: #800080\">                                       3,204 </span>│\n",
       "│<span style=\"color: #008080; text-decoration-color: #008080\"> Validation                                                        </span>│<span style=\"color: #800080; text-decoration-color: #800080\">                                         802 </span>│\n",
       "└───────────────────────────────────────────────────────────────────┴─────────────────────────────────────────────┘\n",
       "</pre>\n"
      ],
      "text/plain": [
       "\u001b[3m                                                Dataset Information                                                \u001b[0m\n",
       "┏━━━━━━━━━━━━━━━━━━━━━━━━━━━━━━━━━━━━━━━━━━━━━━━━━━━━━━━━━━━━━━━━━━━┳━━━━━━━━━━━━━━━━━━━━━━━━━━━━━━━━━━━━━━━━━━━━━┓\n",
       "┃\u001b[1m \u001b[0m\u001b[1mDataset                                                          \u001b[0m\u001b[1m \u001b[0m┃\u001b[1m \u001b[0m\u001b[1m                                       Size\u001b[0m\u001b[1m \u001b[0m┃\n",
       "┡━━━━━━━━━━━━━━━━━━━━━━━━━━━━━━━━━━━━━━━━━━━━━━━━━━━━━━━━━━━━━━━━━━━╇━━━━━━━━━━━━━━━━━━━━━━━━━━━━━━━━━━━━━━━━━━━━━┩\n",
       "│\u001b[36m \u001b[0m\u001b[36mTraining                                                         \u001b[0m\u001b[36m \u001b[0m│\u001b[35m \u001b[0m\u001b[35m                                      3,204\u001b[0m\u001b[35m \u001b[0m│\n",
       "│\u001b[36m \u001b[0m\u001b[36mValidation                                                       \u001b[0m\u001b[36m \u001b[0m│\u001b[35m \u001b[0m\u001b[35m                                        802\u001b[0m\u001b[35m \u001b[0m│\n",
       "└───────────────────────────────────────────────────────────────────┴─────────────────────────────────────────────┘\n"
      ]
     },
     "metadata": {},
     "output_type": "display_data"
    },
    {
     "data": {
      "text/html": [
       "<pre style=\"white-space:pre;overflow-x:auto;line-height:normal;font-family:Menlo,'DejaVu Sans Mono',consolas,'Courier New',monospace\"><span style=\"font-style: italic\">                                             Class Mapping (Total: 23)                                             </span>\n",
       "┏━━━━━━━━━━━━━━━━━━━━━━━━━━━━━━━━━━━━━━━━━━━━━━━━━━━━━━━━━━━━━━━━━━━━━━━━━━━━━━━━━━━━━━━━━━━━━━━━━━━━━━━━━━━━━━━━━┓\n",
       "┃<span style=\"font-weight: bold\"> Classes                                                                                                         </span>┃\n",
       "┡━━━━━━━━━━━━━━━━━━━━━━━━━━━━━━━━━━━━━━━━━━━━━━━━━━━━━━━━━━━━━━━━━━━━━━━━━━━━━━━━━━━━━━━━━━━━━━━━━━━━━━━━━━━━━━━━━┩\n",
       "│<span style=\"color: #008000; text-decoration-color: #008000\"> 0: 其他                                                                                                         </span>│\n",
       "│<span style=\"color: #008000; text-decoration-color: #008000\"> 1: 划伤                                                                                                         </span>│\n",
       "│<span style=\"color: #008000; text-decoration-color: #008000\"> 2: 划痕                                                                                                         </span>│\n",
       "│<span style=\"color: #008000; text-decoration-color: #008000\"> 3: 压痕                                                                                                         </span>│\n",
       "│<span style=\"color: #008000; text-decoration-color: #008000\"> 4: 吊紧                                                                                                         </span>│\n",
       "│<span style=\"color: #008000; text-decoration-color: #008000\"> 5: 异物外漏                                                                                                     </span>│\n",
       "│<span style=\"color: #008000; text-decoration-color: #008000\"> 6: 折痕                                                                                                         </span>│\n",
       "│<span style=\"color: #008000; text-decoration-color: #008000\"> 7: 抛线                                                                                                         </span>│\n",
       "│<span style=\"color: #008000; text-decoration-color: #008000\"> 8: 拼接间隙                                                                                                     </span>│\n",
       "│<span style=\"color: #008000; text-decoration-color: #008000\"> 9: 水渍                                                                                                         </span>│\n",
       "│<span style=\"color: #008000; text-decoration-color: #008000\"> 10: 水珠                                                                                                        </span>│\n",
       "│<span style=\"color: #008000; text-decoration-color: #008000\"> 11: 烫伤                                                                                                        </span>│\n",
       "│<span style=\"color: #008000; text-decoration-color: #008000\"> 12: 爆针线                                                                                                      </span>│\n",
       "│<span style=\"color: #008000; text-decoration-color: #008000\"> 13: 白点                                                                                                        </span>│\n",
       "│<span style=\"color: #008000; text-decoration-color: #008000\"> 14: 破损                                                                                                        </span>│\n",
       "│<span style=\"color: #008000; text-decoration-color: #008000\"> 15: 碰伤                                                                                                        </span>│\n",
       "│<span style=\"color: #008000; text-decoration-color: #008000\"> 16: 红标签                                                                                                      </span>│\n",
       "│<span style=\"color: #008000; text-decoration-color: #008000\"> 17: 线头                                                                                                        </span>│\n",
       "│<span style=\"color: #008000; text-decoration-color: #008000\"> 18: 脏污                                                                                                        </span>│\n",
       "│<span style=\"color: #008000; text-decoration-color: #008000\"> 19: 褶皱(贯穿)                                                                                                  </span>│\n",
       "│<span style=\"color: #008000; text-decoration-color: #008000\"> 20: 褶皱（轻度）                                                                                                </span>│\n",
       "│<span style=\"color: #008000; text-decoration-color: #008000\"> 21: 褶皱（重度）                                                                                                </span>│\n",
       "│<span style=\"color: #008000; text-decoration-color: #008000\"> 22: 重跳针                                                                                                      </span>│\n",
       "└─────────────────────────────────────────────────────────────────────────────────────────────────────────────────┘\n",
       "</pre>\n"
      ],
      "text/plain": [
       "\u001b[3m                                             Class Mapping (Total: 23)                                             \u001b[0m\n",
       "┏━━━━━━━━━━━━━━━━━━━━━━━━━━━━━━━━━━━━━━━━━━━━━━━━━━━━━━━━━━━━━━━━━━━━━━━━━━━━━━━━━━━━━━━━━━━━━━━━━━━━━━━━━━━━━━━━━┓\n",
       "┃\u001b[1m \u001b[0m\u001b[1mClasses                                                                                                        \u001b[0m\u001b[1m \u001b[0m┃\n",
       "┡━━━━━━━━━━━━━━━━━━━━━━━━━━━━━━━━━━━━━━━━━━━━━━━━━━━━━━━━━━━━━━━━━━━━━━━━━━━━━━━━━━━━━━━━━━━━━━━━━━━━━━━━━━━━━━━━━┩\n",
       "│\u001b[32m \u001b[0m\u001b[32m0: 其他                                                                                                        \u001b[0m\u001b[32m \u001b[0m│\n",
       "│\u001b[32m \u001b[0m\u001b[32m1: 划伤                                                                                                        \u001b[0m\u001b[32m \u001b[0m│\n",
       "│\u001b[32m \u001b[0m\u001b[32m2: 划痕                                                                                                        \u001b[0m\u001b[32m \u001b[0m│\n",
       "│\u001b[32m \u001b[0m\u001b[32m3: 压痕                                                                                                        \u001b[0m\u001b[32m \u001b[0m│\n",
       "│\u001b[32m \u001b[0m\u001b[32m4: 吊紧                                                                                                        \u001b[0m\u001b[32m \u001b[0m│\n",
       "│\u001b[32m \u001b[0m\u001b[32m5: 异物外漏                                                                                                    \u001b[0m\u001b[32m \u001b[0m│\n",
       "│\u001b[32m \u001b[0m\u001b[32m6: 折痕                                                                                                        \u001b[0m\u001b[32m \u001b[0m│\n",
       "│\u001b[32m \u001b[0m\u001b[32m7: 抛线                                                                                                        \u001b[0m\u001b[32m \u001b[0m│\n",
       "│\u001b[32m \u001b[0m\u001b[32m8: 拼接间隙                                                                                                    \u001b[0m\u001b[32m \u001b[0m│\n",
       "│\u001b[32m \u001b[0m\u001b[32m9: 水渍                                                                                                        \u001b[0m\u001b[32m \u001b[0m│\n",
       "│\u001b[32m \u001b[0m\u001b[32m10: 水珠                                                                                                       \u001b[0m\u001b[32m \u001b[0m│\n",
       "│\u001b[32m \u001b[0m\u001b[32m11: 烫伤                                                                                                       \u001b[0m\u001b[32m \u001b[0m│\n",
       "│\u001b[32m \u001b[0m\u001b[32m12: 爆针线                                                                                                     \u001b[0m\u001b[32m \u001b[0m│\n",
       "│\u001b[32m \u001b[0m\u001b[32m13: 白点                                                                                                       \u001b[0m\u001b[32m \u001b[0m│\n",
       "│\u001b[32m \u001b[0m\u001b[32m14: 破损                                                                                                       \u001b[0m\u001b[32m \u001b[0m│\n",
       "│\u001b[32m \u001b[0m\u001b[32m15: 碰伤                                                                                                       \u001b[0m\u001b[32m \u001b[0m│\n",
       "│\u001b[32m \u001b[0m\u001b[32m16: 红标签                                                                                                     \u001b[0m\u001b[32m \u001b[0m│\n",
       "│\u001b[32m \u001b[0m\u001b[32m17: 线头                                                                                                       \u001b[0m\u001b[32m \u001b[0m│\n",
       "│\u001b[32m \u001b[0m\u001b[32m18: 脏污                                                                                                       \u001b[0m\u001b[32m \u001b[0m│\n",
       "│\u001b[32m \u001b[0m\u001b[32m19: 褶皱(贯穿)                                                                                                 \u001b[0m\u001b[32m \u001b[0m│\n",
       "│\u001b[32m \u001b[0m\u001b[32m20: 褶皱（轻度）                                                                                               \u001b[0m\u001b[32m \u001b[0m│\n",
       "│\u001b[32m \u001b[0m\u001b[32m21: 褶皱（重度）                                                                                               \u001b[0m\u001b[32m \u001b[0m│\n",
       "│\u001b[32m \u001b[0m\u001b[32m22: 重跳针                                                                                                     \u001b[0m\u001b[32m \u001b[0m│\n",
       "└─────────────────────────────────────────────────────────────────────────────────────────────────────────────────┘\n"
      ]
     },
     "metadata": {},
     "output_type": "display_data"
    },
    {
     "data": {
      "text/html": [
       "<pre style=\"white-space:pre;overflow-x:auto;line-height:normal;font-family:Menlo,'DejaVu Sans Mono',consolas,'Courier New',monospace\"><span style=\"font-style: italic\">                                         Training Data Augmentation Steps                                          </span>\n",
       "┏━━━━━━━━━━━━━┳━━━━━━━━━━━━━━━━━━━━━━━━━━━━━━━━━━┳━━━━━━━━━━━━━━━━━━━━━━━━━━━━━━━━━━━━━━━━━━━━━━━━━━━━━━━━━━━━━━━━┓\n",
       "┃<span style=\"font-weight: bold\">         No. </span>┃<span style=\"font-weight: bold\"> Transform Name                   </span>┃<span style=\"font-weight: bold\"> Parameters                                                     </span>┃\n",
       "┡━━━━━━━━━━━━━╇━━━━━━━━━━━━━━━━━━━━━━━━━━━━━━━━━━╇━━━━━━━━━━━━━━━━━━━━━━━━━━━━━━━━━━━━━━━━━━━━━━━━━━━━━━━━━━━━━━━━┩\n",
       "│<span style=\"color: #008080; text-decoration-color: #008080\">           1 </span>│<span style=\"color: #008000; text-decoration-color: #008000\"> ToNumpy                          </span>│<span style=\"color: #808000; text-decoration-color: #808000\"> {}                                                             </span>│\n",
       "│<span style=\"color: #008080; text-decoration-color: #008080\">           2 </span>│<span style=\"color: #008000; text-decoration-color: #008000\"> RandomHorizontalFlip             </span>│<span style=\"color: #808000; text-decoration-color: #808000\"> {'p': 0.5}                                                     </span>│\n",
       "│<span style=\"color: #008080; text-decoration-color: #008080\">           3 </span>│<span style=\"color: #008000; text-decoration-color: #008000\"> RandomVerticalFlip               </span>│<span style=\"color: #808000; text-decoration-color: #808000\"> {'p': 0.5}                                                     </span>│\n",
       "│<span style=\"color: #008080; text-decoration-color: #008080\">           4 </span>│<span style=\"color: #008000; text-decoration-color: #008000\"> RandomGrayScale                  </span>│<span style=\"color: #808000; text-decoration-color: #808000\"> {'p': 0.5}                                                     </span>│\n",
       "│<span style=\"color: #008080; text-decoration-color: #008080\">           5 </span>│<span style=\"color: #008000; text-decoration-color: #008000\"> RandomShuffleChannel             </span>│<span style=\"color: #808000; text-decoration-color: #808000\"> {'p': 0.5}                                                     </span>│\n",
       "│<span style=\"color: #008080; text-decoration-color: #008080\">           6 </span>│<span style=\"color: #008000; text-decoration-color: #008000\"> RandomRotate90                   </span>│<span style=\"color: #808000; text-decoration-color: #808000\"> {'p': 0.1, 'transform': Rot90(name=UnnamedRot90,               </span>│\n",
       "│<span style=\"color: #008080; text-decoration-color: #008080\">             </span>│<span style=\"color: #008000; text-decoration-color: #008000\">                                  </span>│<span style=\"color: #808000; text-decoration-color: #808000\"> parameters=[DiscreteUniform(Deterministic(int 1),              </span>│\n",
       "│<span style=\"color: #008080; text-decoration-color: #008080\">             </span>│<span style=\"color: #008000; text-decoration-color: #008000\">                                  </span>│<span style=\"color: #808000; text-decoration-color: #808000\"> Deterministic(int 3)), True], deterministic=False)}            </span>│\n",
       "│<span style=\"color: #008080; text-decoration-color: #008080\">           7 </span>│<span style=\"color: #008000; text-decoration-color: #008000\"> RandomRotate                     </span>│<span style=\"color: #808000; text-decoration-color: #808000\"> {'p': 0.1, 'transform': Affine(name=UnnamedAffine,             </span>│\n",
       "│<span style=\"color: #008080; text-decoration-color: #008080\">             </span>│<span style=\"color: #008000; text-decoration-color: #008000\">                                  </span>│<span style=\"color: #808000; text-decoration-color: #808000\"> parameters=[Deterministic(float 1.00000000),                   </span>│\n",
       "│<span style=\"color: #008080; text-decoration-color: #008080\">             </span>│<span style=\"color: #008000; text-decoration-color: #008000\">                                  </span>│<span style=\"color: #808000; text-decoration-color: #808000\"> (Deterministic(int 0), None, 'px'), Uniform(Deterministic(int  </span>│\n",
       "│<span style=\"color: #008080; text-decoration-color: #008080\">             </span>│<span style=\"color: #008000; text-decoration-color: #008000\">                                  </span>│<span style=\"color: #808000; text-decoration-color: #808000\"> -10), Deterministic(int 10)), Deterministic(float 0.00000000), </span>│\n",
       "│<span style=\"color: #008080; text-decoration-color: #008080\">             </span>│<span style=\"color: #008000; text-decoration-color: #008000\">                                  </span>│<span style=\"color: #808000; text-decoration-color: #808000\"> Deterministic(int 1), Deterministic(int 0),                    </span>│\n",
       "│<span style=\"color: #008080; text-decoration-color: #008080\">             </span>│<span style=\"color: #008000; text-decoration-color: #008000\">                                  </span>│<span style=\"color: #808000; text-decoration-color: #808000\"> Deterministic(constant), auto, False], deterministic=False)}   </span>│\n",
       "│<span style=\"color: #008080; text-decoration-color: #008080\">           8 </span>│<span style=\"color: #008000; text-decoration-color: #008000\"> RandomAffine                     </span>│<span style=\"color: #808000; text-decoration-color: #808000\"> {'p': 0.1, 'transform': Affine(name=UnnamedAffine,             </span>│\n",
       "│<span style=\"color: #008080; text-decoration-color: #008080\">             </span>│<span style=\"color: #008000; text-decoration-color: #008000\">                                  </span>│<span style=\"color: #808000; text-decoration-color: #808000\"> parameters=[Deterministic(float 1.00000000),                   </span>│\n",
       "│<span style=\"color: #008080; text-decoration-color: #008080\">             </span>│<span style=\"color: #008000; text-decoration-color: #008000\">                                  </span>│<span style=\"color: #808000; text-decoration-color: #808000\"> (Deterministic(int 0), None, 'px'), Deterministic(float        </span>│\n",
       "│<span style=\"color: #008080; text-decoration-color: #008080\">             </span>│<span style=\"color: #008000; text-decoration-color: #008000\">                                  </span>│<span style=\"color: #808000; text-decoration-color: #808000\"> 0.00000000), Uniform(Deterministic(int -10), Deterministic(int </span>│\n",
       "│<span style=\"color: #008080; text-decoration-color: #008080\">             </span>│<span style=\"color: #008000; text-decoration-color: #008000\">                                  </span>│<span style=\"color: #808000; text-decoration-color: #808000\"> 10)), Deterministic(int 1), Deterministic(int 0),              </span>│\n",
       "│<span style=\"color: #008080; text-decoration-color: #008080\">             </span>│<span style=\"color: #008000; text-decoration-color: #008000\">                                  </span>│<span style=\"color: #808000; text-decoration-color: #808000\"> Deterministic(constant), auto, False], deterministic=False)}   </span>│\n",
       "│<span style=\"color: #008080; text-decoration-color: #008080\">           9 </span>│<span style=\"color: #008000; text-decoration-color: #008000\"> RandomPerspective                </span>│<span style=\"color: #808000; text-decoration-color: #808000\"> {'p': 0.1, 'transform':                                        </span>│\n",
       "│<span style=\"color: #008080; text-decoration-color: #008080\">             </span>│<span style=\"color: #008000; text-decoration-color: #008000\">                                  </span>│<span style=\"color: #808000; text-decoration-color: #808000\"> PerspectiveTransform(name=UnnamedPerspectiveTransform,         </span>│\n",
       "│<span style=\"color: #008080; text-decoration-color: #008080\">             </span>│<span style=\"color: #008000; text-decoration-color: #008000\">                                  </span>│<span style=\"color: #808000; text-decoration-color: #808000\"> parameters=[Normal(loc=Deterministic(int 0),                   </span>│\n",
       "│<span style=\"color: #008080; text-decoration-color: #008080\">             </span>│<span style=\"color: #008000; text-decoration-color: #008000\">                                  </span>│<span style=\"color: #808000; text-decoration-color: #808000\"> scale=Uniform(Deterministic(float 0.00000000),                 </span>│\n",
       "│<span style=\"color: #008080; text-decoration-color: #008080\">             </span>│<span style=\"color: #008000; text-decoration-color: #008000\">                                  </span>│<span style=\"color: #808000; text-decoration-color: #808000\"> Deterministic(float 0.10000000))), True, Deterministic(int 0), </span>│\n",
       "│<span style=\"color: #008080; text-decoration-color: #008080\">             </span>│<span style=\"color: #008000; text-decoration-color: #008000\">                                  </span>│<span style=\"color: #808000; text-decoration-color: #808000\"> Deterministic(constant), False], deterministic=False)}         </span>│\n",
       "│<span style=\"color: #008080; text-decoration-color: #008080\">          10 </span>│<span style=\"color: #008000; text-decoration-color: #008000\"> RandomNoise                      </span>│<span style=\"color: #808000; text-decoration-color: #808000\"> {'p': 0.1}                                                     </span>│\n",
       "│<span style=\"color: #008080; text-decoration-color: #008080\">          11 </span>│<span style=\"color: #008000; text-decoration-color: #008000\"> RandomBrightness                 </span>│<span style=\"color: #808000; text-decoration-color: #808000\"> {'p': 0.1}                                                     </span>│\n",
       "│<span style=\"color: #008080; text-decoration-color: #008080\">          12 </span>│<span style=\"color: #008000; text-decoration-color: #008000\"> RandomCrop                       </span>│<span style=\"color: #808000; text-decoration-color: #808000\"> {'p': 0.1, 'min_size': 0.5}                                    </span>│\n",
       "│<span style=\"color: #008080; text-decoration-color: #008080\">          13 </span>│<span style=\"color: #008000; text-decoration-color: #008000\"> RandomResize                     </span>│<span style=\"color: #808000; text-decoration-color: #808000\"> {'p': 0.1}                                                     </span>│\n",
       "│<span style=\"color: #008080; text-decoration-color: #008080\">          14 </span>│<span style=\"color: #008000; text-decoration-color: #008000\"> Resize                           </span>│<span style=\"color: #808000; text-decoration-color: #808000\"> {'max_size': 1024}                                             </span>│\n",
       "│<span style=\"color: #008080; text-decoration-color: #008080\">          15 </span>│<span style=\"color: #008000; text-decoration-color: #008000\"> FilterSmallBox                   </span>│<span style=\"color: #808000; text-decoration-color: #808000\"> {'min_size': 3}                                                </span>│\n",
       "│<span style=\"color: #008080; text-decoration-color: #008080\">          16 </span>│<span style=\"color: #008000; text-decoration-color: #008000\"> Format                           </span>│<span style=\"color: #808000; text-decoration-color: #808000\"> {}                                                             </span>│\n",
       "│<span style=\"color: #008080; text-decoration-color: #008080\">          17 </span>│<span style=\"color: #008000; text-decoration-color: #008000\"> BGR2RGB                          </span>│<span style=\"color: #808000; text-decoration-color: #808000\"> {}                                                             </span>│\n",
       "│<span style=\"color: #008080; text-decoration-color: #008080\">          18 </span>│<span style=\"color: #008000; text-decoration-color: #008000\"> ToTensor                         </span>│<span style=\"color: #808000; text-decoration-color: #808000\"> {}                                                             </span>│\n",
       "│<span style=\"color: #008080; text-decoration-color: #008080\">          19 </span>│<span style=\"color: #008000; text-decoration-color: #008000\"> Normalize                        </span>│<span style=\"color: #808000; text-decoration-color: #808000\"> {'mean': [0.485, 0.456, 0.406], 'std': [0.229, 0.224, 0.225]}  </span>│\n",
       "└─────────────┴──────────────────────────────────┴────────────────────────────────────────────────────────────────┘\n",
       "</pre>\n"
      ],
      "text/plain": [
       "\u001b[3m                                         Training Data Augmentation Steps                                          \u001b[0m\n",
       "┏━━━━━━━━━━━━━┳━━━━━━━━━━━━━━━━━━━━━━━━━━━━━━━━━━┳━━━━━━━━━━━━━━━━━━━━━━━━━━━━━━━━━━━━━━━━━━━━━━━━━━━━━━━━━━━━━━━━┓\n",
       "┃\u001b[1m \u001b[0m\u001b[1m        No.\u001b[0m\u001b[1m \u001b[0m┃\u001b[1m \u001b[0m\u001b[1mTransform Name                  \u001b[0m\u001b[1m \u001b[0m┃\u001b[1m \u001b[0m\u001b[1mParameters                                                    \u001b[0m\u001b[1m \u001b[0m┃\n",
       "┡━━━━━━━━━━━━━╇━━━━━━━━━━━━━━━━━━━━━━━━━━━━━━━━━━╇━━━━━━━━━━━━━━━━━━━━━━━━━━━━━━━━━━━━━━━━━━━━━━━━━━━━━━━━━━━━━━━━┩\n",
       "│\u001b[36m \u001b[0m\u001b[36m          1\u001b[0m\u001b[36m \u001b[0m│\u001b[32m \u001b[0m\u001b[32mToNumpy                         \u001b[0m\u001b[32m \u001b[0m│\u001b[33m \u001b[0m\u001b[33m{}                                                            \u001b[0m\u001b[33m \u001b[0m│\n",
       "│\u001b[36m \u001b[0m\u001b[36m          2\u001b[0m\u001b[36m \u001b[0m│\u001b[32m \u001b[0m\u001b[32mRandomHorizontalFlip            \u001b[0m\u001b[32m \u001b[0m│\u001b[33m \u001b[0m\u001b[33m{'p': 0.5}                                                    \u001b[0m\u001b[33m \u001b[0m│\n",
       "│\u001b[36m \u001b[0m\u001b[36m          3\u001b[0m\u001b[36m \u001b[0m│\u001b[32m \u001b[0m\u001b[32mRandomVerticalFlip              \u001b[0m\u001b[32m \u001b[0m│\u001b[33m \u001b[0m\u001b[33m{'p': 0.5}                                                    \u001b[0m\u001b[33m \u001b[0m│\n",
       "│\u001b[36m \u001b[0m\u001b[36m          4\u001b[0m\u001b[36m \u001b[0m│\u001b[32m \u001b[0m\u001b[32mRandomGrayScale                 \u001b[0m\u001b[32m \u001b[0m│\u001b[33m \u001b[0m\u001b[33m{'p': 0.5}                                                    \u001b[0m\u001b[33m \u001b[0m│\n",
       "│\u001b[36m \u001b[0m\u001b[36m          5\u001b[0m\u001b[36m \u001b[0m│\u001b[32m \u001b[0m\u001b[32mRandomShuffleChannel            \u001b[0m\u001b[32m \u001b[0m│\u001b[33m \u001b[0m\u001b[33m{'p': 0.5}                                                    \u001b[0m\u001b[33m \u001b[0m│\n",
       "│\u001b[36m \u001b[0m\u001b[36m          6\u001b[0m\u001b[36m \u001b[0m│\u001b[32m \u001b[0m\u001b[32mRandomRotate90                  \u001b[0m\u001b[32m \u001b[0m│\u001b[33m \u001b[0m\u001b[33m{'p': 0.1, 'transform': Rot90(name=UnnamedRot90,              \u001b[0m\u001b[33m \u001b[0m│\n",
       "│\u001b[36m             \u001b[0m│\u001b[32m                                  \u001b[0m│\u001b[33m \u001b[0m\u001b[33mparameters=[DiscreteUniform(Deterministic(int 1),             \u001b[0m\u001b[33m \u001b[0m│\n",
       "│\u001b[36m             \u001b[0m│\u001b[32m                                  \u001b[0m│\u001b[33m \u001b[0m\u001b[33mDeterministic(int 3)), True], deterministic=False)}           \u001b[0m\u001b[33m \u001b[0m│\n",
       "│\u001b[36m \u001b[0m\u001b[36m          7\u001b[0m\u001b[36m \u001b[0m│\u001b[32m \u001b[0m\u001b[32mRandomRotate                    \u001b[0m\u001b[32m \u001b[0m│\u001b[33m \u001b[0m\u001b[33m{'p': 0.1, 'transform': Affine(name=UnnamedAffine,            \u001b[0m\u001b[33m \u001b[0m│\n",
       "│\u001b[36m             \u001b[0m│\u001b[32m                                  \u001b[0m│\u001b[33m \u001b[0m\u001b[33mparameters=[Deterministic(float 1.00000000),                  \u001b[0m\u001b[33m \u001b[0m│\n",
       "│\u001b[36m             \u001b[0m│\u001b[32m                                  \u001b[0m│\u001b[33m \u001b[0m\u001b[33m(Deterministic(int 0), None, 'px'), Uniform(Deterministic(int \u001b[0m\u001b[33m \u001b[0m│\n",
       "│\u001b[36m             \u001b[0m│\u001b[32m                                  \u001b[0m│\u001b[33m \u001b[0m\u001b[33m-10), Deterministic(int 10)), Deterministic(float 0.00000000),\u001b[0m\u001b[33m \u001b[0m│\n",
       "│\u001b[36m             \u001b[0m│\u001b[32m                                  \u001b[0m│\u001b[33m \u001b[0m\u001b[33mDeterministic(int 1), Deterministic(int 0),                   \u001b[0m\u001b[33m \u001b[0m│\n",
       "│\u001b[36m             \u001b[0m│\u001b[32m                                  \u001b[0m│\u001b[33m \u001b[0m\u001b[33mDeterministic(constant), auto, False], deterministic=False)}  \u001b[0m\u001b[33m \u001b[0m│\n",
       "│\u001b[36m \u001b[0m\u001b[36m          8\u001b[0m\u001b[36m \u001b[0m│\u001b[32m \u001b[0m\u001b[32mRandomAffine                    \u001b[0m\u001b[32m \u001b[0m│\u001b[33m \u001b[0m\u001b[33m{'p': 0.1, 'transform': Affine(name=UnnamedAffine,            \u001b[0m\u001b[33m \u001b[0m│\n",
       "│\u001b[36m             \u001b[0m│\u001b[32m                                  \u001b[0m│\u001b[33m \u001b[0m\u001b[33mparameters=[Deterministic(float 1.00000000),                  \u001b[0m\u001b[33m \u001b[0m│\n",
       "│\u001b[36m             \u001b[0m│\u001b[32m                                  \u001b[0m│\u001b[33m \u001b[0m\u001b[33m(Deterministic(int 0), None, 'px'), Deterministic(float       \u001b[0m\u001b[33m \u001b[0m│\n",
       "│\u001b[36m             \u001b[0m│\u001b[32m                                  \u001b[0m│\u001b[33m \u001b[0m\u001b[33m0.00000000), Uniform(Deterministic(int -10), Deterministic(int\u001b[0m\u001b[33m \u001b[0m│\n",
       "│\u001b[36m             \u001b[0m│\u001b[32m                                  \u001b[0m│\u001b[33m \u001b[0m\u001b[33m10)), Deterministic(int 1), Deterministic(int 0),             \u001b[0m\u001b[33m \u001b[0m│\n",
       "│\u001b[36m             \u001b[0m│\u001b[32m                                  \u001b[0m│\u001b[33m \u001b[0m\u001b[33mDeterministic(constant), auto, False], deterministic=False)}  \u001b[0m\u001b[33m \u001b[0m│\n",
       "│\u001b[36m \u001b[0m\u001b[36m          9\u001b[0m\u001b[36m \u001b[0m│\u001b[32m \u001b[0m\u001b[32mRandomPerspective               \u001b[0m\u001b[32m \u001b[0m│\u001b[33m \u001b[0m\u001b[33m{'p': 0.1, 'transform':                                       \u001b[0m\u001b[33m \u001b[0m│\n",
       "│\u001b[36m             \u001b[0m│\u001b[32m                                  \u001b[0m│\u001b[33m \u001b[0m\u001b[33mPerspectiveTransform(name=UnnamedPerspectiveTransform,        \u001b[0m\u001b[33m \u001b[0m│\n",
       "│\u001b[36m             \u001b[0m│\u001b[32m                                  \u001b[0m│\u001b[33m \u001b[0m\u001b[33mparameters=[Normal(loc=Deterministic(int 0),                  \u001b[0m\u001b[33m \u001b[0m│\n",
       "│\u001b[36m             \u001b[0m│\u001b[32m                                  \u001b[0m│\u001b[33m \u001b[0m\u001b[33mscale=Uniform(Deterministic(float 0.00000000),                \u001b[0m\u001b[33m \u001b[0m│\n",
       "│\u001b[36m             \u001b[0m│\u001b[32m                                  \u001b[0m│\u001b[33m \u001b[0m\u001b[33mDeterministic(float 0.10000000))), True, Deterministic(int 0),\u001b[0m\u001b[33m \u001b[0m│\n",
       "│\u001b[36m             \u001b[0m│\u001b[32m                                  \u001b[0m│\u001b[33m \u001b[0m\u001b[33mDeterministic(constant), False], deterministic=False)}        \u001b[0m\u001b[33m \u001b[0m│\n",
       "│\u001b[36m \u001b[0m\u001b[36m         10\u001b[0m\u001b[36m \u001b[0m│\u001b[32m \u001b[0m\u001b[32mRandomNoise                     \u001b[0m\u001b[32m \u001b[0m│\u001b[33m \u001b[0m\u001b[33m{'p': 0.1}                                                    \u001b[0m\u001b[33m \u001b[0m│\n",
       "│\u001b[36m \u001b[0m\u001b[36m         11\u001b[0m\u001b[36m \u001b[0m│\u001b[32m \u001b[0m\u001b[32mRandomBrightness                \u001b[0m\u001b[32m \u001b[0m│\u001b[33m \u001b[0m\u001b[33m{'p': 0.1}                                                    \u001b[0m\u001b[33m \u001b[0m│\n",
       "│\u001b[36m \u001b[0m\u001b[36m         12\u001b[0m\u001b[36m \u001b[0m│\u001b[32m \u001b[0m\u001b[32mRandomCrop                      \u001b[0m\u001b[32m \u001b[0m│\u001b[33m \u001b[0m\u001b[33m{'p': 0.1, 'min_size': 0.5}                                   \u001b[0m\u001b[33m \u001b[0m│\n",
       "│\u001b[36m \u001b[0m\u001b[36m         13\u001b[0m\u001b[36m \u001b[0m│\u001b[32m \u001b[0m\u001b[32mRandomResize                    \u001b[0m\u001b[32m \u001b[0m│\u001b[33m \u001b[0m\u001b[33m{'p': 0.1}                                                    \u001b[0m\u001b[33m \u001b[0m│\n",
       "│\u001b[36m \u001b[0m\u001b[36m         14\u001b[0m\u001b[36m \u001b[0m│\u001b[32m \u001b[0m\u001b[32mResize                          \u001b[0m\u001b[32m \u001b[0m│\u001b[33m \u001b[0m\u001b[33m{'max_size': 1024}                                            \u001b[0m\u001b[33m \u001b[0m│\n",
       "│\u001b[36m \u001b[0m\u001b[36m         15\u001b[0m\u001b[36m \u001b[0m│\u001b[32m \u001b[0m\u001b[32mFilterSmallBox                  \u001b[0m\u001b[32m \u001b[0m│\u001b[33m \u001b[0m\u001b[33m{'min_size': 3}                                               \u001b[0m\u001b[33m \u001b[0m│\n",
       "│\u001b[36m \u001b[0m\u001b[36m         16\u001b[0m\u001b[36m \u001b[0m│\u001b[32m \u001b[0m\u001b[32mFormat                          \u001b[0m\u001b[32m \u001b[0m│\u001b[33m \u001b[0m\u001b[33m{}                                                            \u001b[0m\u001b[33m \u001b[0m│\n",
       "│\u001b[36m \u001b[0m\u001b[36m         17\u001b[0m\u001b[36m \u001b[0m│\u001b[32m \u001b[0m\u001b[32mBGR2RGB                         \u001b[0m\u001b[32m \u001b[0m│\u001b[33m \u001b[0m\u001b[33m{}                                                            \u001b[0m\u001b[33m \u001b[0m│\n",
       "│\u001b[36m \u001b[0m\u001b[36m         18\u001b[0m\u001b[36m \u001b[0m│\u001b[32m \u001b[0m\u001b[32mToTensor                        \u001b[0m\u001b[32m \u001b[0m│\u001b[33m \u001b[0m\u001b[33m{}                                                            \u001b[0m\u001b[33m \u001b[0m│\n",
       "│\u001b[36m \u001b[0m\u001b[36m         19\u001b[0m\u001b[36m \u001b[0m│\u001b[32m \u001b[0m\u001b[32mNormalize                       \u001b[0m\u001b[32m \u001b[0m│\u001b[33m \u001b[0m\u001b[33m{'mean': [0.485, 0.456, 0.406], 'std': [0.229, 0.224, 0.225]} \u001b[0m\u001b[33m \u001b[0m│\n",
       "└─────────────┴──────────────────────────────────┴────────────────────────────────────────────────────────────────┘\n"
      ]
     },
     "metadata": {},
     "output_type": "display_data"
    },
    {
     "data": {
      "text/html": [
       "<pre style=\"white-space:pre;overflow-x:auto;line-height:normal;font-family:Menlo,'DejaVu Sans Mono',consolas,'Courier New',monospace\"><span style=\"font-style: italic\">                                        Validation Data Augmentation Steps                                         </span>\n",
       "┏━━━━━━━━━━━━━┳━━━━━━━━━━━━━━━━━━━━━━━━━━━━━━━━━━┳━━━━━━━━━━━━━━━━━━━━━━━━━━━━━━━━━━━━━━━━━━━━━━━━━━━━━━━━━━━━━━━━┓\n",
       "┃<span style=\"font-weight: bold\">         No. </span>┃<span style=\"font-weight: bold\"> Transform Name                   </span>┃<span style=\"font-weight: bold\"> Parameters                                                     </span>┃\n",
       "┡━━━━━━━━━━━━━╇━━━━━━━━━━━━━━━━━━━━━━━━━━━━━━━━━━╇━━━━━━━━━━━━━━━━━━━━━━━━━━━━━━━━━━━━━━━━━━━━━━━━━━━━━━━━━━━━━━━━┩\n",
       "│<span style=\"color: #008080; text-decoration-color: #008080\">           1 </span>│<span style=\"color: #008000; text-decoration-color: #008000\"> ToNumpy                          </span>│<span style=\"color: #808000; text-decoration-color: #808000\"> {}                                                             </span>│\n",
       "│<span style=\"color: #008080; text-decoration-color: #008080\">           2 </span>│<span style=\"color: #008000; text-decoration-color: #008000\"> Resize                           </span>│<span style=\"color: #808000; text-decoration-color: #808000\"> {'max_size': 1024}                                             </span>│\n",
       "│<span style=\"color: #008080; text-decoration-color: #008080\">           3 </span>│<span style=\"color: #008000; text-decoration-color: #008000\"> FilterSmallBox                   </span>│<span style=\"color: #808000; text-decoration-color: #808000\"> {'min_size': 3}                                                </span>│\n",
       "│<span style=\"color: #008080; text-decoration-color: #008080\">           4 </span>│<span style=\"color: #008000; text-decoration-color: #008000\"> Format                           </span>│<span style=\"color: #808000; text-decoration-color: #808000\"> {}                                                             </span>│\n",
       "│<span style=\"color: #008080; text-decoration-color: #008080\">           5 </span>│<span style=\"color: #008000; text-decoration-color: #008000\"> BGR2RGB                          </span>│<span style=\"color: #808000; text-decoration-color: #808000\"> {}                                                             </span>│\n",
       "│<span style=\"color: #008080; text-decoration-color: #008080\">           6 </span>│<span style=\"color: #008000; text-decoration-color: #008000\"> ToTensor                         </span>│<span style=\"color: #808000; text-decoration-color: #808000\"> {}                                                             </span>│\n",
       "│<span style=\"color: #008080; text-decoration-color: #008080\">           7 </span>│<span style=\"color: #008000; text-decoration-color: #008000\"> Normalize                        </span>│<span style=\"color: #808000; text-decoration-color: #808000\"> {'mean': [0.485, 0.456, 0.406], 'std': [0.229, 0.224, 0.225]}  </span>│\n",
       "└─────────────┴──────────────────────────────────┴────────────────────────────────────────────────────────────────┘\n",
       "</pre>\n"
      ],
      "text/plain": [
       "\u001b[3m                                        Validation Data Augmentation Steps                                         \u001b[0m\n",
       "┏━━━━━━━━━━━━━┳━━━━━━━━━━━━━━━━━━━━━━━━━━━━━━━━━━┳━━━━━━━━━━━━━━━━━━━━━━━━━━━━━━━━━━━━━━━━━━━━━━━━━━━━━━━━━━━━━━━━┓\n",
       "┃\u001b[1m \u001b[0m\u001b[1m        No.\u001b[0m\u001b[1m \u001b[0m┃\u001b[1m \u001b[0m\u001b[1mTransform Name                  \u001b[0m\u001b[1m \u001b[0m┃\u001b[1m \u001b[0m\u001b[1mParameters                                                    \u001b[0m\u001b[1m \u001b[0m┃\n",
       "┡━━━━━━━━━━━━━╇━━━━━━━━━━━━━━━━━━━━━━━━━━━━━━━━━━╇━━━━━━━━━━━━━━━━━━━━━━━━━━━━━━━━━━━━━━━━━━━━━━━━━━━━━━━━━━━━━━━━┩\n",
       "│\u001b[36m \u001b[0m\u001b[36m          1\u001b[0m\u001b[36m \u001b[0m│\u001b[32m \u001b[0m\u001b[32mToNumpy                         \u001b[0m\u001b[32m \u001b[0m│\u001b[33m \u001b[0m\u001b[33m{}                                                            \u001b[0m\u001b[33m \u001b[0m│\n",
       "│\u001b[36m \u001b[0m\u001b[36m          2\u001b[0m\u001b[36m \u001b[0m│\u001b[32m \u001b[0m\u001b[32mResize                          \u001b[0m\u001b[32m \u001b[0m│\u001b[33m \u001b[0m\u001b[33m{'max_size': 1024}                                            \u001b[0m\u001b[33m \u001b[0m│\n",
       "│\u001b[36m \u001b[0m\u001b[36m          3\u001b[0m\u001b[36m \u001b[0m│\u001b[32m \u001b[0m\u001b[32mFilterSmallBox                  \u001b[0m\u001b[32m \u001b[0m│\u001b[33m \u001b[0m\u001b[33m{'min_size': 3}                                               \u001b[0m\u001b[33m \u001b[0m│\n",
       "│\u001b[36m \u001b[0m\u001b[36m          4\u001b[0m\u001b[36m \u001b[0m│\u001b[32m \u001b[0m\u001b[32mFormat                          \u001b[0m\u001b[32m \u001b[0m│\u001b[33m \u001b[0m\u001b[33m{}                                                            \u001b[0m\u001b[33m \u001b[0m│\n",
       "│\u001b[36m \u001b[0m\u001b[36m          5\u001b[0m\u001b[36m \u001b[0m│\u001b[32m \u001b[0m\u001b[32mBGR2RGB                         \u001b[0m\u001b[32m \u001b[0m│\u001b[33m \u001b[0m\u001b[33m{}                                                            \u001b[0m\u001b[33m \u001b[0m│\n",
       "│\u001b[36m \u001b[0m\u001b[36m          6\u001b[0m\u001b[36m \u001b[0m│\u001b[32m \u001b[0m\u001b[32mToTensor                        \u001b[0m\u001b[32m \u001b[0m│\u001b[33m \u001b[0m\u001b[33m{}                                                            \u001b[0m\u001b[33m \u001b[0m│\n",
       "│\u001b[36m \u001b[0m\u001b[36m          7\u001b[0m\u001b[36m \u001b[0m│\u001b[32m \u001b[0m\u001b[32mNormalize                       \u001b[0m\u001b[32m \u001b[0m│\u001b[33m \u001b[0m\u001b[33m{'mean': [0.485, 0.456, 0.406], 'std': [0.229, 0.224, 0.225]} \u001b[0m\u001b[33m \u001b[0m│\n",
       "└─────────────┴──────────────────────────────────┴────────────────────────────────────────────────────────────────┘\n"
      ]
     },
     "metadata": {},
     "output_type": "display_data"
    },
    {
     "name": "stdout",
     "output_type": "stream",
     "text": [
      "Loading pretrain weights\n"
     ]
    },
    {
     "name": "stderr",
     "output_type": "stream",
     "text": [
      "num_classes mismatch: pretrain weights has 90 classes, but your model has 23 classes\n",
      "reinitializing detection head with 23 classes\n"
     ]
    },
    {
     "name": "stdout",
     "output_type": "stream",
     "text": [
      "Parameters loaded successfully\n",
      "Not using distributed mode\n"
     ]
    },
    {
     "data": {
      "text/html": [
       "<pre style=\"white-space:pre;overflow-x:auto;line-height:normal;font-family:Menlo,'DejaVu Sans Mono',consolas,'Courier New',monospace\"><span style=\"color: #000080; text-decoration-color: #000080\">╭────────────────────────────────────────────── Model Architecture ───────────────────────────────────────────────╮</span>\n",
       "<span style=\"color: #000080; text-decoration-color: #000080\">│</span> <span style=\"color: #008000; text-decoration-color: #008000\">HQRFDETR(</span>                                                                                                       <span style=\"color: #000080; text-decoration-color: #000080\">│</span>\n",
       "<span style=\"color: #000080; text-decoration-color: #000080\">│</span> <span style=\"color: #008000; text-decoration-color: #008000\">  (model): LWDETR(</span>                                                                                              <span style=\"color: #000080; text-decoration-color: #000080\">│</span>\n",
       "<span style=\"color: #000080; text-decoration-color: #000080\">│</span> <span style=\"color: #008000; text-decoration-color: #008000\">    (transformer): Transformer(</span>                                                                                 <span style=\"color: #000080; text-decoration-color: #000080\">│</span>\n",
       "<span style=\"color: #000080; text-decoration-color: #000080\">│</span> <span style=\"color: #008000; text-decoration-color: #008000\">      (decoder): TransformerDecoder(</span>                                                                            <span style=\"color: #000080; text-decoration-color: #000080\">│</span>\n",
       "<span style=\"color: #000080; text-decoration-color: #000080\">│</span> <span style=\"color: #008000; text-decoration-color: #008000\">        (layers): ModuleList(</span>                                                                                   <span style=\"color: #000080; text-decoration-color: #000080\">│</span>\n",
       "<span style=\"color: #000080; text-decoration-color: #000080\">│</span> <span style=\"color: #008000; text-decoration-color: #008000\">          (0-2): 3 x TransformerDecoderLayer(</span>                                                                   <span style=\"color: #000080; text-decoration-color: #000080\">│</span>\n",
       "<span style=\"color: #000080; text-decoration-color: #000080\">│</span> <span style=\"color: #008000; text-decoration-color: #008000\">            (self_attn): MultiheadAttention(</span>                                                                    <span style=\"color: #000080; text-decoration-color: #000080\">│</span>\n",
       "<span style=\"color: #000080; text-decoration-color: #000080\">│</span> <span style=\"color: #008000; text-decoration-color: #008000\">              (out_proj): NonDynamicallyQuantizableLinear(in_features=256, out_features=256, bias=True)</span>         <span style=\"color: #000080; text-decoration-color: #000080\">│</span>\n",
       "<span style=\"color: #000080; text-decoration-color: #000080\">│</span> <span style=\"color: #008000; text-decoration-color: #008000\">            )</span>                                                                                                   <span style=\"color: #000080; text-decoration-color: #000080\">│</span>\n",
       "<span style=\"color: #000080; text-decoration-color: #000080\">│</span> <span style=\"color: #008000; text-decoration-color: #008000\">            (dropout1): Dropout(p=0, inplace=False)</span>                                                             <span style=\"color: #000080; text-decoration-color: #000080\">│</span>\n",
       "<span style=\"color: #000080; text-decoration-color: #000080\">│</span> <span style=\"color: #008000; text-decoration-color: #008000\">            (norm1): LayerNorm((256,), eps=1e-05, elementwise_affine=True)</span>                                      <span style=\"color: #000080; text-decoration-color: #000080\">│</span>\n",
       "<span style=\"color: #000080; text-decoration-color: #000080\">│</span> <span style=\"color: #008000; text-decoration-color: #008000\">            (cross_attn): MSDeformAttn(</span>                                                                         <span style=\"color: #000080; text-decoration-color: #000080\">│</span>\n",
       "<span style=\"color: #000080; text-decoration-color: #000080\">│</span> <span style=\"color: #008000; text-decoration-color: #008000\">              (sampling_offsets): Linear(in_features=256, out_features=64, bias=True)</span>                           <span style=\"color: #000080; text-decoration-color: #000080\">│</span>\n",
       "<span style=\"color: #000080; text-decoration-color: #000080\">│</span> <span style=\"color: #008000; text-decoration-color: #008000\">              (attention_weights): Linear(in_features=256, out_features=32, bias=True)</span>                          <span style=\"color: #000080; text-decoration-color: #000080\">│</span>\n",
       "<span style=\"color: #000080; text-decoration-color: #000080\">│</span> <span style=\"color: #008000; text-decoration-color: #008000\">              (value_proj): Linear(in_features=256, out_features=256, bias=True)</span>                                <span style=\"color: #000080; text-decoration-color: #000080\">│</span>\n",
       "<span style=\"color: #000080; text-decoration-color: #000080\">│</span> <span style=\"color: #008000; text-decoration-color: #008000\">              (output_proj): Linear(in_features=256, out_features=256, bias=True)</span>                               <span style=\"color: #000080; text-decoration-color: #000080\">│</span>\n",
       "<span style=\"color: #000080; text-decoration-color: #000080\">│</span> <span style=\"color: #008000; text-decoration-color: #008000\">            )</span>                                                                                                   <span style=\"color: #000080; text-decoration-color: #000080\">│</span>\n",
       "<span style=\"color: #000080; text-decoration-color: #000080\">│</span> <span style=\"color: #008000; text-decoration-color: #008000\">            (linear1): Linear(in_features=256, out_features=2048, bias=True)</span>                                    <span style=\"color: #000080; text-decoration-color: #000080\">│</span>\n",
       "<span style=\"color: #000080; text-decoration-color: #000080\">│</span> <span style=\"color: #008000; text-decoration-color: #008000\">            (dropout): Dropout(p=0, inplace=False)</span>                                                              <span style=\"color: #000080; text-decoration-color: #000080\">│</span>\n",
       "<span style=\"color: #000080; text-decoration-color: #000080\">│</span> <span style=\"color: #008000; text-decoration-color: #008000\">            (linear2): Linear(in_features=2048, out_features=256, bias=True)</span>                                    <span style=\"color: #000080; text-decoration-color: #000080\">│</span>\n",
       "<span style=\"color: #000080; text-decoration-color: #000080\">│</span> <span style=\"color: #008000; text-decoration-color: #008000\">            (norm2): LayerNorm((256,), eps=1e-05, elementwise_affine=True)</span>                                      <span style=\"color: #000080; text-decoration-color: #000080\">│</span>\n",
       "<span style=\"color: #000080; text-decoration-color: #000080\">│</span> <span style=\"color: #008000; text-decoration-color: #008000\">            (norm3): LayerNorm((256,), eps=1e-05, elementwise_affine=True)</span>                                      <span style=\"color: #000080; text-decoration-color: #000080\">│</span>\n",
       "<span style=\"color: #000080; text-decoration-color: #000080\">│</span> <span style=\"color: #008000; text-decoration-color: #008000\">            (dropout2): Dropout(p=0, inplace=False)</span>                                                             <span style=\"color: #000080; text-decoration-color: #000080\">│</span>\n",
       "<span style=\"color: #000080; text-decoration-color: #000080\">│</span> <span style=\"color: #008000; text-decoration-color: #008000\">            (dropout3): Dropout(p=0, inplace=False)</span>                                                             <span style=\"color: #000080; text-decoration-color: #000080\">│</span>\n",
       "<span style=\"color: #000080; text-decoration-color: #000080\">│</span> <span style=\"color: #008000; text-decoration-color: #008000\">          )</span>                                                                                                     <span style=\"color: #000080; text-decoration-color: #000080\">│</span>\n",
       "<span style=\"color: #000080; text-decoration-color: #000080\">│</span> <span style=\"color: #008000; text-decoration-color: #008000\">        )</span>                                                                                                       <span style=\"color: #000080; text-decoration-color: #000080\">│</span>\n",
       "<span style=\"color: #000080; text-decoration-color: #000080\">│</span> <span style=\"color: #008000; text-decoration-color: #008000\">        (norm): LayerNorm((256,), eps=1e-05, elementwise_affine=True)</span>                                           <span style=\"color: #000080; text-decoration-color: #000080\">│</span>\n",
       "<span style=\"color: #000080; text-decoration-color: #000080\">│</span> <span style=\"color: #008000; text-decoration-color: #008000\">        (ref_point_head): MLP(</span>                                                                                  <span style=\"color: #000080; text-decoration-color: #000080\">│</span>\n",
       "<span style=\"color: #000080; text-decoration-color: #000080\">│</span> <span style=\"color: #008000; text-decoration-color: #008000\">          (layers): ModuleList(</span>                                                                                 <span style=\"color: #000080; text-decoration-color: #000080\">│</span>\n",
       "<span style=\"color: #000080; text-decoration-color: #000080\">│</span> <span style=\"color: #008000; text-decoration-color: #008000\">            (0): Linear(in_features=512, out_features=256, bias=True)</span>                                           <span style=\"color: #000080; text-decoration-color: #000080\">│</span>\n",
       "<span style=\"color: #000080; text-decoration-color: #000080\">│</span> <span style=\"color: #008000; text-decoration-color: #008000\">            (1): Linear(in_features=256, out_features=256, bias=True)</span>                                           <span style=\"color: #000080; text-decoration-color: #000080\">│</span>\n",
       "<span style=\"color: #000080; text-decoration-color: #000080\">│</span> <span style=\"color: #008000; text-decoration-color: #008000\">          )</span>                                                                                                     <span style=\"color: #000080; text-decoration-color: #000080\">│</span>\n",
       "<span style=\"color: #000080; text-decoration-color: #000080\">│</span> <span style=\"color: #008000; text-decoration-color: #008000\">        )</span>                                                                                                       <span style=\"color: #000080; text-decoration-color: #000080\">│</span>\n",
       "<span style=\"color: #000080; text-decoration-color: #000080\">│</span> <span style=\"color: #008000; text-decoration-color: #008000\">      )</span>                                                                                                         <span style=\"color: #000080; text-decoration-color: #000080\">│</span>\n",
       "<span style=\"color: #000080; text-decoration-color: #000080\">│</span> <span style=\"color: #008000; text-decoration-color: #008000\">      (enc_output): ModuleList(</span>                                                                                 <span style=\"color: #000080; text-decoration-color: #000080\">│</span>\n",
       "<span style=\"color: #000080; text-decoration-color: #000080\">│</span> <span style=\"color: #008000; text-decoration-color: #008000\">        (0-12): 13 x Linear(in_features=256, out_features=256, bias=True)</span>                                       <span style=\"color: #000080; text-decoration-color: #000080\">│</span>\n",
       "<span style=\"color: #000080; text-decoration-color: #000080\">│</span> <span style=\"color: #008000; text-decoration-color: #008000\">      )</span>                                                                                                         <span style=\"color: #000080; text-decoration-color: #000080\">│</span>\n",
       "<span style=\"color: #000080; text-decoration-color: #000080\">│</span> <span style=\"color: #008000; text-decoration-color: #008000\">      (enc_output_norm): ModuleList(</span>                                                                            <span style=\"color: #000080; text-decoration-color: #000080\">│</span>\n",
       "<span style=\"color: #000080; text-decoration-color: #000080\">│</span> <span style=\"color: #008000; text-decoration-color: #008000\">        (0-12): 13 x LayerNorm((256,), eps=1e-05, elementwise_affine=True)</span>                                      <span style=\"color: #000080; text-decoration-color: #000080\">│</span>\n",
       "<span style=\"color: #000080; text-decoration-color: #000080\">│</span> <span style=\"color: #008000; text-decoration-color: #008000\">      )</span>                                                                                                         <span style=\"color: #000080; text-decoration-color: #000080\">│</span>\n",
       "<span style=\"color: #000080; text-decoration-color: #000080\">│</span> <span style=\"color: #008000; text-decoration-color: #008000\">      (enc_out_bbox_embed): ModuleList(</span>                                                                         <span style=\"color: #000080; text-decoration-color: #000080\">│</span>\n",
       "<span style=\"color: #000080; text-decoration-color: #000080\">│</span> <span style=\"color: #008000; text-decoration-color: #008000\">        (0-12): 13 x MLP(</span>                                                                                       <span style=\"color: #000080; text-decoration-color: #000080\">│</span>\n",
       "<span style=\"color: #000080; text-decoration-color: #000080\">│</span> <span style=\"color: #008000; text-decoration-color: #008000\">          (layers): ModuleList(</span>                                                                                 <span style=\"color: #000080; text-decoration-color: #000080\">│</span>\n",
       "<span style=\"color: #000080; text-decoration-color: #000080\">│</span> <span style=\"color: #008000; text-decoration-color: #008000\">            (0-1): 2 x Linear(in_features=256, out_features=256, bias=True)</span>                                     <span style=\"color: #000080; text-decoration-color: #000080\">│</span>\n",
       "<span style=\"color: #000080; text-decoration-color: #000080\">│</span> <span style=\"color: #008000; text-decoration-color: #008000\">            (2): Linear(in_features=256, out_features=4, bias=True)</span>                                             <span style=\"color: #000080; text-decoration-color: #000080\">│</span>\n",
       "<span style=\"color: #000080; text-decoration-color: #000080\">│</span> <span style=\"color: #008000; text-decoration-color: #008000\">          )</span>                                                                                                     <span style=\"color: #000080; text-decoration-color: #000080\">│</span>\n",
       "<span style=\"color: #000080; text-decoration-color: #000080\">│</span> <span style=\"color: #008000; text-decoration-color: #008000\">        )</span>                                                                                                       <span style=\"color: #000080; text-decoration-color: #000080\">│</span>\n",
       "<span style=\"color: #000080; text-decoration-color: #000080\">│</span> <span style=\"color: #008000; text-decoration-color: #008000\">      )</span>                                                                                                         <span style=\"color: #000080; text-decoration-color: #000080\">│</span>\n",
       "<span style=\"color: #000080; text-decoration-color: #000080\">│</span> <span style=\"color: #008000; text-decoration-color: #008000\">      (enc_out_class_embed): ModuleList(</span>                                                                        <span style=\"color: #000080; text-decoration-color: #000080\">│</span>\n",
       "<span style=\"color: #000080; text-decoration-color: #000080\">│</span> <span style=\"color: #008000; text-decoration-color: #008000\">        (0-12): 13 x Linear(in_features=256, out_features=24, bias=True)</span>                                        <span style=\"color: #000080; text-decoration-color: #000080\">│</span>\n",
       "<span style=\"color: #000080; text-decoration-color: #000080\">│</span> <span style=\"color: #008000; text-decoration-color: #008000\">      )</span>                                                                                                         <span style=\"color: #000080; text-decoration-color: #000080\">│</span>\n",
       "<span style=\"color: #000080; text-decoration-color: #000080\">│</span> <span style=\"color: #008000; text-decoration-color: #008000\">    )</span>                                                                                                           <span style=\"color: #000080; text-decoration-color: #000080\">│</span>\n",
       "<span style=\"color: #000080; text-decoration-color: #000080\">│</span> <span style=\"color: #008000; text-decoration-color: #008000\">    (bbox_embed): MLP(</span>                                                                                          <span style=\"color: #000080; text-decoration-color: #000080\">│</span>\n",
       "<span style=\"color: #000080; text-decoration-color: #000080\">│</span> <span style=\"color: #008000; text-decoration-color: #008000\">      (layers): ModuleList(</span>                                                                                     <span style=\"color: #000080; text-decoration-color: #000080\">│</span>\n",
       "<span style=\"color: #000080; text-decoration-color: #000080\">│</span> <span style=\"color: #008000; text-decoration-color: #008000\">        (0-1): 2 x Linear(in_features=256, out_features=256, bias=True)</span>                                         <span style=\"color: #000080; text-decoration-color: #000080\">│</span>\n",
       "<span style=\"color: #000080; text-decoration-color: #000080\">│</span> <span style=\"color: #008000; text-decoration-color: #008000\">        (2): Linear(in_features=256, out_features=4, bias=True)</span>                                                 <span style=\"color: #000080; text-decoration-color: #000080\">│</span>\n",
       "<span style=\"color: #000080; text-decoration-color: #000080\">│</span> <span style=\"color: #008000; text-decoration-color: #008000\">      )</span>                                                                                                         <span style=\"color: #000080; text-decoration-color: #000080\">│</span>\n",
       "<span style=\"color: #000080; text-decoration-color: #000080\">│</span> <span style=\"color: #008000; text-decoration-color: #008000\">    )</span>                                                                                                           <span style=\"color: #000080; text-decoration-color: #000080\">│</span>\n",
       "<span style=\"color: #000080; text-decoration-color: #000080\">│</span> <span style=\"color: #008000; text-decoration-color: #008000\">    (refpoint_embed): Embedding(3900, 4)</span>                                                                        <span style=\"color: #000080; text-decoration-color: #000080\">│</span>\n",
       "<span style=\"color: #000080; text-decoration-color: #000080\">│</span> <span style=\"color: #008000; text-decoration-color: #008000\">    (query_feat): Embedding(3900, 256)</span>                                                                          <span style=\"color: #000080; text-decoration-color: #000080\">│</span>\n",
       "<span style=\"color: #000080; text-decoration-color: #000080\">│</span> <span style=\"color: #008000; text-decoration-color: #008000\">    (backbone): Joiner(</span>                                                                                         <span style=\"color: #000080; text-decoration-color: #000080\">│</span>\n",
       "<span style=\"color: #000080; text-decoration-color: #000080\">│</span> <span style=\"color: #008000; text-decoration-color: #008000\">      (0): Backbone(</span>                                                                                            <span style=\"color: #000080; text-decoration-color: #000080\">│</span>\n",
       "<span style=\"color: #000080; text-decoration-color: #000080\">│</span> <span style=\"color: #008000; text-decoration-color: #008000\">        (encoder): DinoV2(</span>                                                                                      <span style=\"color: #000080; text-decoration-color: #000080\">│</span>\n",
       "<span style=\"color: #000080; text-decoration-color: #000080\">│</span> <span style=\"color: #008000; text-decoration-color: #008000\">          (encoder): WindowedDinov2WithRegistersBackbone(</span>                                                       <span style=\"color: #000080; text-decoration-color: #000080\">│</span>\n",
       "<span style=\"color: #000080; text-decoration-color: #000080\">│</span> <span style=\"color: #008000; text-decoration-color: #008000\">            (embeddings): WindowedDinov2WithRegistersEmbeddings(</span>                                                <span style=\"color: #000080; text-decoration-color: #000080\">│</span>\n",
       "<span style=\"color: #000080; text-decoration-color: #000080\">│</span> <span style=\"color: #008000; text-decoration-color: #008000\">              (patch_embeddings): Dinov2WithRegistersPatchEmbeddings(</span>                                           <span style=\"color: #000080; text-decoration-color: #000080\">│</span>\n",
       "<span style=\"color: #000080; text-decoration-color: #000080\">│</span> <span style=\"color: #008000; text-decoration-color: #008000\">                (projection): Conv2d(3, 384, kernel_size=(14, 14), stride=(14, 14))</span>                             <span style=\"color: #000080; text-decoration-color: #000080\">│</span>\n",
       "<span style=\"color: #000080; text-decoration-color: #000080\">│</span> <span style=\"color: #008000; text-decoration-color: #008000\">              )</span>                                                                                                 <span style=\"color: #000080; text-decoration-color: #000080\">│</span>\n",
       "<span style=\"color: #000080; text-decoration-color: #000080\">│</span> <span style=\"color: #008000; text-decoration-color: #008000\">              (dropout): Dropout(p=0.0, inplace=False)</span>                                                          <span style=\"color: #000080; text-decoration-color: #000080\">│</span>\n",
       "<span style=\"color: #000080; text-decoration-color: #000080\">│</span> <span style=\"color: #008000; text-decoration-color: #008000\">            )</span>                                                                                                   <span style=\"color: #000080; text-decoration-color: #000080\">│</span>\n",
       "<span style=\"color: #000080; text-decoration-color: #000080\">│</span> <span style=\"color: #008000; text-decoration-color: #008000\">            (encoder): WindowedDinov2WithRegistersEncoder(</span>                                                      <span style=\"color: #000080; text-decoration-color: #000080\">│</span>\n",
       "<span style=\"color: #000080; text-decoration-color: #000080\">│</span> <span style=\"color: #008000; text-decoration-color: #008000\">              (layer): ModuleList(</span>                                                                              <span style=\"color: #000080; text-decoration-color: #000080\">│</span>\n",
       "<span style=\"color: #000080; text-decoration-color: #000080\">│</span> <span style=\"color: #008000; text-decoration-color: #008000\">                (0-11): 12 x WindowedDinov2WithRegistersLayer(</span>                                                  <span style=\"color: #000080; text-decoration-color: #000080\">│</span>\n",
       "<span style=\"color: #000080; text-decoration-color: #000080\">│</span> <span style=\"color: #008000; text-decoration-color: #008000\">                  (norm1): LayerNorm((384,), eps=1e-06, elementwise_affine=True)</span>                                <span style=\"color: #000080; text-decoration-color: #000080\">│</span>\n",
       "<span style=\"color: #000080; text-decoration-color: #000080\">│</span> <span style=\"color: #008000; text-decoration-color: #008000\">                  (attention): Dinov2WithRegistersSdpaAttention(</span>                                                <span style=\"color: #000080; text-decoration-color: #000080\">│</span>\n",
       "<span style=\"color: #000080; text-decoration-color: #000080\">│</span> <span style=\"color: #008000; text-decoration-color: #008000\">                    (attention): Dinov2WithRegistersSdpaSelfAttention(</span>                                          <span style=\"color: #000080; text-decoration-color: #000080\">│</span>\n",
       "<span style=\"color: #000080; text-decoration-color: #000080\">│</span> <span style=\"color: #008000; text-decoration-color: #008000\">                      (query): Linear(in_features=384, out_features=384, bias=True)</span>                             <span style=\"color: #000080; text-decoration-color: #000080\">│</span>\n",
       "<span style=\"color: #000080; text-decoration-color: #000080\">│</span> <span style=\"color: #008000; text-decoration-color: #008000\">                      (key): Linear(in_features=384, out_features=384, bias=True)</span>                               <span style=\"color: #000080; text-decoration-color: #000080\">│</span>\n",
       "<span style=\"color: #000080; text-decoration-color: #000080\">│</span> <span style=\"color: #008000; text-decoration-color: #008000\">                      (value): Linear(in_features=384, out_features=384, bias=True)</span>                             <span style=\"color: #000080; text-decoration-color: #000080\">│</span>\n",
       "<span style=\"color: #000080; text-decoration-color: #000080\">│</span> <span style=\"color: #008000; text-decoration-color: #008000\">                      (dropout): Dropout(p=0.0, inplace=False)</span>                                                  <span style=\"color: #000080; text-decoration-color: #000080\">│</span>\n",
       "<span style=\"color: #000080; text-decoration-color: #000080\">│</span> <span style=\"color: #008000; text-decoration-color: #008000\">                    )</span>                                                                                           <span style=\"color: #000080; text-decoration-color: #000080\">│</span>\n",
       "<span style=\"color: #000080; text-decoration-color: #000080\">│</span> <span style=\"color: #008000; text-decoration-color: #008000\">                    (output): Dinov2WithRegistersSelfOutput(</span>                                                    <span style=\"color: #000080; text-decoration-color: #000080\">│</span>\n",
       "<span style=\"color: #000080; text-decoration-color: #000080\">│</span> <span style=\"color: #008000; text-decoration-color: #008000\">                      (dense): Linear(in_features=384, out_features=384, bias=True)</span>                             <span style=\"color: #000080; text-decoration-color: #000080\">│</span>\n",
       "<span style=\"color: #000080; text-decoration-color: #000080\">│</span> <span style=\"color: #008000; text-decoration-color: #008000\">                      (dropout): Dropout(p=0.0, inplace=False)</span>                                                  <span style=\"color: #000080; text-decoration-color: #000080\">│</span>\n",
       "<span style=\"color: #000080; text-decoration-color: #000080\">│</span> <span style=\"color: #008000; text-decoration-color: #008000\">                    )</span>                                                                                           <span style=\"color: #000080; text-decoration-color: #000080\">│</span>\n",
       "<span style=\"color: #000080; text-decoration-color: #000080\">│</span> <span style=\"color: #008000; text-decoration-color: #008000\">                  )</span>                                                                                             <span style=\"color: #000080; text-decoration-color: #000080\">│</span>\n",
       "<span style=\"color: #000080; text-decoration-color: #000080\">│</span> <span style=\"color: #008000; text-decoration-color: #008000\">                  (layer_scale1): Dinov2WithRegistersLayerScale()</span>                                               <span style=\"color: #000080; text-decoration-color: #000080\">│</span>\n",
       "<span style=\"color: #000080; text-decoration-color: #000080\">│</span> <span style=\"color: #008000; text-decoration-color: #008000\">                  (drop_path): Identity()</span>                                                                       <span style=\"color: #000080; text-decoration-color: #000080\">│</span>\n",
       "<span style=\"color: #000080; text-decoration-color: #000080\">│</span> <span style=\"color: #008000; text-decoration-color: #008000\">                  (norm2): LayerNorm((384,), eps=1e-06, elementwise_affine=True)</span>                                <span style=\"color: #000080; text-decoration-color: #000080\">│</span>\n",
       "<span style=\"color: #000080; text-decoration-color: #000080\">│</span> <span style=\"color: #008000; text-decoration-color: #008000\">                  (mlp): Dinov2WithRegistersMLP(</span>                                                                <span style=\"color: #000080; text-decoration-color: #000080\">│</span>\n",
       "<span style=\"color: #000080; text-decoration-color: #000080\">│</span> <span style=\"color: #008000; text-decoration-color: #008000\">                    (fc1): Linear(in_features=384, out_features=1536, bias=True)</span>                                <span style=\"color: #000080; text-decoration-color: #000080\">│</span>\n",
       "<span style=\"color: #000080; text-decoration-color: #000080\">│</span> <span style=\"color: #008000; text-decoration-color: #008000\">                    (activation): GELUActivation()</span>                                                              <span style=\"color: #000080; text-decoration-color: #000080\">│</span>\n",
       "<span style=\"color: #000080; text-decoration-color: #000080\">│</span> <span style=\"color: #008000; text-decoration-color: #008000\">                    (fc2): Linear(in_features=1536, out_features=384, bias=True)</span>                                <span style=\"color: #000080; text-decoration-color: #000080\">│</span>\n",
       "<span style=\"color: #000080; text-decoration-color: #000080\">│</span> <span style=\"color: #008000; text-decoration-color: #008000\">                  )</span>                                                                                             <span style=\"color: #000080; text-decoration-color: #000080\">│</span>\n",
       "<span style=\"color: #000080; text-decoration-color: #000080\">│</span> <span style=\"color: #008000; text-decoration-color: #008000\">                  (layer_scale2): Dinov2WithRegistersLayerScale()</span>                                               <span style=\"color: #000080; text-decoration-color: #000080\">│</span>\n",
       "<span style=\"color: #000080; text-decoration-color: #000080\">│</span> <span style=\"color: #008000; text-decoration-color: #008000\">                )</span>                                                                                               <span style=\"color: #000080; text-decoration-color: #000080\">│</span>\n",
       "<span style=\"color: #000080; text-decoration-color: #000080\">│</span> <span style=\"color: #008000; text-decoration-color: #008000\">              )</span>                                                                                                 <span style=\"color: #000080; text-decoration-color: #000080\">│</span>\n",
       "<span style=\"color: #000080; text-decoration-color: #000080\">│</span> <span style=\"color: #008000; text-decoration-color: #008000\">            )</span>                                                                                                   <span style=\"color: #000080; text-decoration-color: #000080\">│</span>\n",
       "<span style=\"color: #000080; text-decoration-color: #000080\">│</span> <span style=\"color: #008000; text-decoration-color: #008000\">            (layernorm): LayerNorm((384,), eps=1e-06, elementwise_affine=True)</span>                                  <span style=\"color: #000080; text-decoration-color: #000080\">│</span>\n",
       "<span style=\"color: #000080; text-decoration-color: #000080\">│</span> <span style=\"color: #008000; text-decoration-color: #008000\">          )</span>                                                                                                     <span style=\"color: #000080; text-decoration-color: #000080\">│</span>\n",
       "<span style=\"color: #000080; text-decoration-color: #000080\">│</span> <span style=\"color: #008000; text-decoration-color: #008000\">        )</span>                                                                                                       <span style=\"color: #000080; text-decoration-color: #000080\">│</span>\n",
       "<span style=\"color: #000080; text-decoration-color: #000080\">│</span> <span style=\"color: #008000; text-decoration-color: #008000\">        (projector): MultiScaleProjector(</span>                                                                       <span style=\"color: #000080; text-decoration-color: #000080\">│</span>\n",
       "<span style=\"color: #000080; text-decoration-color: #000080\">│</span> <span style=\"color: #008000; text-decoration-color: #008000\">          (stages_sampling): ModuleList(</span>                                                                        <span style=\"color: #000080; text-decoration-color: #000080\">│</span>\n",
       "<span style=\"color: #000080; text-decoration-color: #000080\">│</span> <span style=\"color: #008000; text-decoration-color: #008000\">            (0): ModuleList(</span>                                                                                    <span style=\"color: #000080; text-decoration-color: #000080\">│</span>\n",
       "<span style=\"color: #000080; text-decoration-color: #000080\">│</span> <span style=\"color: #008000; text-decoration-color: #008000\">              (0-3): 4 x Sequential()</span>                                                                           <span style=\"color: #000080; text-decoration-color: #000080\">│</span>\n",
       "<span style=\"color: #000080; text-decoration-color: #000080\">│</span> <span style=\"color: #008000; text-decoration-color: #008000\">            )</span>                                                                                                   <span style=\"color: #000080; text-decoration-color: #000080\">│</span>\n",
       "<span style=\"color: #000080; text-decoration-color: #000080\">│</span> <span style=\"color: #008000; text-decoration-color: #008000\">          )</span>                                                                                                     <span style=\"color: #000080; text-decoration-color: #000080\">│</span>\n",
       "<span style=\"color: #000080; text-decoration-color: #000080\">│</span> <span style=\"color: #008000; text-decoration-color: #008000\">          (stages): ModuleList(</span>                                                                                 <span style=\"color: #000080; text-decoration-color: #000080\">│</span>\n",
       "<span style=\"color: #000080; text-decoration-color: #000080\">│</span> <span style=\"color: #008000; text-decoration-color: #008000\">            (0): Sequential(</span>                                                                                    <span style=\"color: #000080; text-decoration-color: #000080\">│</span>\n",
       "<span style=\"color: #000080; text-decoration-color: #000080\">│</span> <span style=\"color: #008000; text-decoration-color: #008000\">              (0): C2f(</span>                                                                                         <span style=\"color: #000080; text-decoration-color: #000080\">│</span>\n",
       "<span style=\"color: #000080; text-decoration-color: #000080\">│</span> <span style=\"color: #008000; text-decoration-color: #008000\">                (cv1): ConvX(</span>                                                                                   <span style=\"color: #000080; text-decoration-color: #000080\">│</span>\n",
       "<span style=\"color: #000080; text-decoration-color: #000080\">│</span> <span style=\"color: #008000; text-decoration-color: #008000\">                  (conv): Conv2d(1536, 256, kernel_size=(1, 1), stride=(1, 1), bias=False)</span>                      <span style=\"color: #000080; text-decoration-color: #000080\">│</span>\n",
       "<span style=\"color: #000080; text-decoration-color: #000080\">│</span> <span style=\"color: #008000; text-decoration-color: #008000\">                  (bn): LayerNorm()</span>                                                                             <span style=\"color: #000080; text-decoration-color: #000080\">│</span>\n",
       "<span style=\"color: #000080; text-decoration-color: #000080\">│</span> <span style=\"color: #008000; text-decoration-color: #008000\">                  (act): SiLU(inplace=True)</span>                                                                     <span style=\"color: #000080; text-decoration-color: #000080\">│</span>\n",
       "<span style=\"color: #000080; text-decoration-color: #000080\">│</span> <span style=\"color: #008000; text-decoration-color: #008000\">                )</span>                                                                                               <span style=\"color: #000080; text-decoration-color: #000080\">│</span>\n",
       "<span style=\"color: #000080; text-decoration-color: #000080\">│</span> <span style=\"color: #008000; text-decoration-color: #008000\">                (cv2): ConvX(</span>                                                                                   <span style=\"color: #000080; text-decoration-color: #000080\">│</span>\n",
       "<span style=\"color: #000080; text-decoration-color: #000080\">│</span> <span style=\"color: #008000; text-decoration-color: #008000\">                  (conv): Conv2d(640, 256, kernel_size=(1, 1), stride=(1, 1), bias=False)</span>                       <span style=\"color: #000080; text-decoration-color: #000080\">│</span>\n",
       "<span style=\"color: #000080; text-decoration-color: #000080\">│</span> <span style=\"color: #008000; text-decoration-color: #008000\">                  (bn): LayerNorm()</span>                                                                             <span style=\"color: #000080; text-decoration-color: #000080\">│</span>\n",
       "<span style=\"color: #000080; text-decoration-color: #000080\">│</span> <span style=\"color: #008000; text-decoration-color: #008000\">                  (act): SiLU(inplace=True)</span>                                                                     <span style=\"color: #000080; text-decoration-color: #000080\">│</span>\n",
       "<span style=\"color: #000080; text-decoration-color: #000080\">│</span> <span style=\"color: #008000; text-decoration-color: #008000\">                )</span>                                                                                               <span style=\"color: #000080; text-decoration-color: #000080\">│</span>\n",
       "<span style=\"color: #000080; text-decoration-color: #000080\">│</span> <span style=\"color: #008000; text-decoration-color: #008000\">                (m): ModuleList(</span>                                                                                <span style=\"color: #000080; text-decoration-color: #000080\">│</span>\n",
       "<span style=\"color: #000080; text-decoration-color: #000080\">│</span> <span style=\"color: #008000; text-decoration-color: #008000\">                  (0-2): 3 x Bottleneck(</span>                                                                        <span style=\"color: #000080; text-decoration-color: #000080\">│</span>\n",
       "<span style=\"color: #000080; text-decoration-color: #000080\">│</span> <span style=\"color: #008000; text-decoration-color: #008000\">                    (cv1): ConvX(</span>                                                                               <span style=\"color: #000080; text-decoration-color: #000080\">│</span>\n",
       "<span style=\"color: #000080; text-decoration-color: #000080\">│</span> <span style=\"color: #008000; text-decoration-color: #008000\">                      (conv): Conv2d(128, 128, kernel_size=(3, 3), stride=(1, 1), padding=(1, 1), bias=False)</span>   <span style=\"color: #000080; text-decoration-color: #000080\">│</span>\n",
       "<span style=\"color: #000080; text-decoration-color: #000080\">│</span> <span style=\"color: #008000; text-decoration-color: #008000\">                      (bn): LayerNorm()</span>                                                                         <span style=\"color: #000080; text-decoration-color: #000080\">│</span>\n",
       "<span style=\"color: #000080; text-decoration-color: #000080\">│</span> <span style=\"color: #008000; text-decoration-color: #008000\">                      (act): SiLU(inplace=True)</span>                                                                 <span style=\"color: #000080; text-decoration-color: #000080\">│</span>\n",
       "<span style=\"color: #000080; text-decoration-color: #000080\">│</span> <span style=\"color: #008000; text-decoration-color: #008000\">                    )</span>                                                                                           <span style=\"color: #000080; text-decoration-color: #000080\">│</span>\n",
       "<span style=\"color: #000080; text-decoration-color: #000080\">│</span> <span style=\"color: #008000; text-decoration-color: #008000\">                    (cv2): ConvX(</span>                                                                               <span style=\"color: #000080; text-decoration-color: #000080\">│</span>\n",
       "<span style=\"color: #000080; text-decoration-color: #000080\">│</span> <span style=\"color: #008000; text-decoration-color: #008000\">                      (conv): Conv2d(128, 128, kernel_size=(3, 3), stride=(1, 1), padding=(1, 1), bias=False)</span>   <span style=\"color: #000080; text-decoration-color: #000080\">│</span>\n",
       "<span style=\"color: #000080; text-decoration-color: #000080\">│</span> <span style=\"color: #008000; text-decoration-color: #008000\">                      (bn): LayerNorm()</span>                                                                         <span style=\"color: #000080; text-decoration-color: #000080\">│</span>\n",
       "<span style=\"color: #000080; text-decoration-color: #000080\">│</span> <span style=\"color: #008000; text-decoration-color: #008000\">                      (act): SiLU(inplace=True)</span>                                                                 <span style=\"color: #000080; text-decoration-color: #000080\">│</span>\n",
       "<span style=\"color: #000080; text-decoration-color: #000080\">│</span> <span style=\"color: #008000; text-decoration-color: #008000\">                    )</span>                                                                                           <span style=\"color: #000080; text-decoration-color: #000080\">│</span>\n",
       "<span style=\"color: #000080; text-decoration-color: #000080\">│</span> <span style=\"color: #008000; text-decoration-color: #008000\">                  )</span>                                                                                             <span style=\"color: #000080; text-decoration-color: #000080\">│</span>\n",
       "<span style=\"color: #000080; text-decoration-color: #000080\">│</span> <span style=\"color: #008000; text-decoration-color: #008000\">                )</span>                                                                                               <span style=\"color: #000080; text-decoration-color: #000080\">│</span>\n",
       "<span style=\"color: #000080; text-decoration-color: #000080\">│</span> <span style=\"color: #008000; text-decoration-color: #008000\">              )</span>                                                                                                 <span style=\"color: #000080; text-decoration-color: #000080\">│</span>\n",
       "<span style=\"color: #000080; text-decoration-color: #000080\">│</span> <span style=\"color: #008000; text-decoration-color: #008000\">              (1): LayerNorm()</span>                                                                                  <span style=\"color: #000080; text-decoration-color: #000080\">│</span>\n",
       "<span style=\"color: #000080; text-decoration-color: #000080\">│</span> <span style=\"color: #008000; text-decoration-color: #008000\">            )</span>                                                                                                   <span style=\"color: #000080; text-decoration-color: #000080\">│</span>\n",
       "<span style=\"color: #000080; text-decoration-color: #000080\">│</span> <span style=\"color: #008000; text-decoration-color: #008000\">          )</span>                                                                                                     <span style=\"color: #000080; text-decoration-color: #000080\">│</span>\n",
       "<span style=\"color: #000080; text-decoration-color: #000080\">│</span> <span style=\"color: #008000; text-decoration-color: #008000\">        )</span>                                                                                                       <span style=\"color: #000080; text-decoration-color: #000080\">│</span>\n",
       "<span style=\"color: #000080; text-decoration-color: #000080\">│</span> <span style=\"color: #008000; text-decoration-color: #008000\">      )</span>                                                                                                         <span style=\"color: #000080; text-decoration-color: #000080\">│</span>\n",
       "<span style=\"color: #000080; text-decoration-color: #000080\">│</span> <span style=\"color: #008000; text-decoration-color: #008000\">      (1): PositionEmbeddingSine()</span>                                                                              <span style=\"color: #000080; text-decoration-color: #000080\">│</span>\n",
       "<span style=\"color: #000080; text-decoration-color: #000080\">│</span> <span style=\"color: #008000; text-decoration-color: #008000\">    )</span>                                                                                                           <span style=\"color: #000080; text-decoration-color: #000080\">│</span>\n",
       "<span style=\"color: #000080; text-decoration-color: #000080\">│</span> <span style=\"color: #008000; text-decoration-color: #008000\">    (class_embed): Linear(in_features=256, out_features=24, bias=True)</span>                                          <span style=\"color: #000080; text-decoration-color: #000080\">│</span>\n",
       "<span style=\"color: #000080; text-decoration-color: #000080\">│</span> <span style=\"color: #008000; text-decoration-color: #008000\">  )</span>                                                                                                             <span style=\"color: #000080; text-decoration-color: #000080\">│</span>\n",
       "<span style=\"color: #000080; text-decoration-color: #000080\">│</span> <span style=\"color: #008000; text-decoration-color: #008000\">  (criterion): SetCriterion(</span>                                                                                    <span style=\"color: #000080; text-decoration-color: #000080\">│</span>\n",
       "<span style=\"color: #000080; text-decoration-color: #000080\">│</span> <span style=\"color: #008000; text-decoration-color: #008000\">    (matcher): HungarianMatcher()</span>                                                                               <span style=\"color: #000080; text-decoration-color: #000080\">│</span>\n",
       "<span style=\"color: #000080; text-decoration-color: #000080\">│</span> <span style=\"color: #008000; text-decoration-color: #008000\">  )</span>                                                                                                             <span style=\"color: #000080; text-decoration-color: #000080\">│</span>\n",
       "<span style=\"color: #000080; text-decoration-color: #000080\">│</span> <span style=\"color: #008000; text-decoration-color: #008000\">)</span>                                                                                                               <span style=\"color: #000080; text-decoration-color: #000080\">│</span>\n",
       "<span style=\"color: #000080; text-decoration-color: #000080\">╰─────────────────────────────────────────────────────────────────────────────────────────────────────────────────╯</span>\n",
       "</pre>\n"
      ],
      "text/plain": [
       "\u001b[34m╭─\u001b[0m\u001b[34m─────────────────────────────────────────────\u001b[0m\u001b[34m Model Architecture \u001b[0m\u001b[34m──────────────────────────────────────────────\u001b[0m\u001b[34m─╮\u001b[0m\n",
       "\u001b[34m│\u001b[0m \u001b[32mHQRFDETR(\u001b[0m                                                                                                       \u001b[34m│\u001b[0m\n",
       "\u001b[34m│\u001b[0m \u001b[32m  (model): LWDETR(\u001b[0m                                                                                              \u001b[34m│\u001b[0m\n",
       "\u001b[34m│\u001b[0m \u001b[32m    (transformer): Transformer(\u001b[0m                                                                                 \u001b[34m│\u001b[0m\n",
       "\u001b[34m│\u001b[0m \u001b[32m      (decoder): TransformerDecoder(\u001b[0m                                                                            \u001b[34m│\u001b[0m\n",
       "\u001b[34m│\u001b[0m \u001b[32m        (layers): ModuleList(\u001b[0m                                                                                   \u001b[34m│\u001b[0m\n",
       "\u001b[34m│\u001b[0m \u001b[32m          (0-2): 3 x TransformerDecoderLayer(\u001b[0m                                                                   \u001b[34m│\u001b[0m\n",
       "\u001b[34m│\u001b[0m \u001b[32m            (self_attn): MultiheadAttention(\u001b[0m                                                                    \u001b[34m│\u001b[0m\n",
       "\u001b[34m│\u001b[0m \u001b[32m              (out_proj): NonDynamicallyQuantizableLinear(in_features=256, out_features=256, bias=True)\u001b[0m         \u001b[34m│\u001b[0m\n",
       "\u001b[34m│\u001b[0m \u001b[32m            )\u001b[0m                                                                                                   \u001b[34m│\u001b[0m\n",
       "\u001b[34m│\u001b[0m \u001b[32m            (dropout1): Dropout(p=0, inplace=False)\u001b[0m                                                             \u001b[34m│\u001b[0m\n",
       "\u001b[34m│\u001b[0m \u001b[32m            (norm1): LayerNorm((256,), eps=1e-05, elementwise_affine=True)\u001b[0m                                      \u001b[34m│\u001b[0m\n",
       "\u001b[34m│\u001b[0m \u001b[32m            (cross_attn): MSDeformAttn(\u001b[0m                                                                         \u001b[34m│\u001b[0m\n",
       "\u001b[34m│\u001b[0m \u001b[32m              (sampling_offsets): Linear(in_features=256, out_features=64, bias=True)\u001b[0m                           \u001b[34m│\u001b[0m\n",
       "\u001b[34m│\u001b[0m \u001b[32m              (attention_weights): Linear(in_features=256, out_features=32, bias=True)\u001b[0m                          \u001b[34m│\u001b[0m\n",
       "\u001b[34m│\u001b[0m \u001b[32m              (value_proj): Linear(in_features=256, out_features=256, bias=True)\u001b[0m                                \u001b[34m│\u001b[0m\n",
       "\u001b[34m│\u001b[0m \u001b[32m              (output_proj): Linear(in_features=256, out_features=256, bias=True)\u001b[0m                               \u001b[34m│\u001b[0m\n",
       "\u001b[34m│\u001b[0m \u001b[32m            )\u001b[0m                                                                                                   \u001b[34m│\u001b[0m\n",
       "\u001b[34m│\u001b[0m \u001b[32m            (linear1): Linear(in_features=256, out_features=2048, bias=True)\u001b[0m                                    \u001b[34m│\u001b[0m\n",
       "\u001b[34m│\u001b[0m \u001b[32m            (dropout): Dropout(p=0, inplace=False)\u001b[0m                                                              \u001b[34m│\u001b[0m\n",
       "\u001b[34m│\u001b[0m \u001b[32m            (linear2): Linear(in_features=2048, out_features=256, bias=True)\u001b[0m                                    \u001b[34m│\u001b[0m\n",
       "\u001b[34m│\u001b[0m \u001b[32m            (norm2): LayerNorm((256,), eps=1e-05, elementwise_affine=True)\u001b[0m                                      \u001b[34m│\u001b[0m\n",
       "\u001b[34m│\u001b[0m \u001b[32m            (norm3): LayerNorm((256,), eps=1e-05, elementwise_affine=True)\u001b[0m                                      \u001b[34m│\u001b[0m\n",
       "\u001b[34m│\u001b[0m \u001b[32m            (dropout2): Dropout(p=0, inplace=False)\u001b[0m                                                             \u001b[34m│\u001b[0m\n",
       "\u001b[34m│\u001b[0m \u001b[32m            (dropout3): Dropout(p=0, inplace=False)\u001b[0m                                                             \u001b[34m│\u001b[0m\n",
       "\u001b[34m│\u001b[0m \u001b[32m          )\u001b[0m                                                                                                     \u001b[34m│\u001b[0m\n",
       "\u001b[34m│\u001b[0m \u001b[32m        )\u001b[0m                                                                                                       \u001b[34m│\u001b[0m\n",
       "\u001b[34m│\u001b[0m \u001b[32m        (norm): LayerNorm((256,), eps=1e-05, elementwise_affine=True)\u001b[0m                                           \u001b[34m│\u001b[0m\n",
       "\u001b[34m│\u001b[0m \u001b[32m        (ref_point_head): MLP(\u001b[0m                                                                                  \u001b[34m│\u001b[0m\n",
       "\u001b[34m│\u001b[0m \u001b[32m          (layers): ModuleList(\u001b[0m                                                                                 \u001b[34m│\u001b[0m\n",
       "\u001b[34m│\u001b[0m \u001b[32m            (0): Linear(in_features=512, out_features=256, bias=True)\u001b[0m                                           \u001b[34m│\u001b[0m\n",
       "\u001b[34m│\u001b[0m \u001b[32m            (1): Linear(in_features=256, out_features=256, bias=True)\u001b[0m                                           \u001b[34m│\u001b[0m\n",
       "\u001b[34m│\u001b[0m \u001b[32m          )\u001b[0m                                                                                                     \u001b[34m│\u001b[0m\n",
       "\u001b[34m│\u001b[0m \u001b[32m        )\u001b[0m                                                                                                       \u001b[34m│\u001b[0m\n",
       "\u001b[34m│\u001b[0m \u001b[32m      )\u001b[0m                                                                                                         \u001b[34m│\u001b[0m\n",
       "\u001b[34m│\u001b[0m \u001b[32m      (enc_output): ModuleList(\u001b[0m                                                                                 \u001b[34m│\u001b[0m\n",
       "\u001b[34m│\u001b[0m \u001b[32m        (0-12): 13 x Linear(in_features=256, out_features=256, bias=True)\u001b[0m                                       \u001b[34m│\u001b[0m\n",
       "\u001b[34m│\u001b[0m \u001b[32m      )\u001b[0m                                                                                                         \u001b[34m│\u001b[0m\n",
       "\u001b[34m│\u001b[0m \u001b[32m      (enc_output_norm): ModuleList(\u001b[0m                                                                            \u001b[34m│\u001b[0m\n",
       "\u001b[34m│\u001b[0m \u001b[32m        (0-12): 13 x LayerNorm((256,), eps=1e-05, elementwise_affine=True)\u001b[0m                                      \u001b[34m│\u001b[0m\n",
       "\u001b[34m│\u001b[0m \u001b[32m      )\u001b[0m                                                                                                         \u001b[34m│\u001b[0m\n",
       "\u001b[34m│\u001b[0m \u001b[32m      (enc_out_bbox_embed): ModuleList(\u001b[0m                                                                         \u001b[34m│\u001b[0m\n",
       "\u001b[34m│\u001b[0m \u001b[32m        (0-12): 13 x MLP(\u001b[0m                                                                                       \u001b[34m│\u001b[0m\n",
       "\u001b[34m│\u001b[0m \u001b[32m          (layers): ModuleList(\u001b[0m                                                                                 \u001b[34m│\u001b[0m\n",
       "\u001b[34m│\u001b[0m \u001b[32m            (0-1): 2 x Linear(in_features=256, out_features=256, bias=True)\u001b[0m                                     \u001b[34m│\u001b[0m\n",
       "\u001b[34m│\u001b[0m \u001b[32m            (2): Linear(in_features=256, out_features=4, bias=True)\u001b[0m                                             \u001b[34m│\u001b[0m\n",
       "\u001b[34m│\u001b[0m \u001b[32m          )\u001b[0m                                                                                                     \u001b[34m│\u001b[0m\n",
       "\u001b[34m│\u001b[0m \u001b[32m        )\u001b[0m                                                                                                       \u001b[34m│\u001b[0m\n",
       "\u001b[34m│\u001b[0m \u001b[32m      )\u001b[0m                                                                                                         \u001b[34m│\u001b[0m\n",
       "\u001b[34m│\u001b[0m \u001b[32m      (enc_out_class_embed): ModuleList(\u001b[0m                                                                        \u001b[34m│\u001b[0m\n",
       "\u001b[34m│\u001b[0m \u001b[32m        (0-12): 13 x Linear(in_features=256, out_features=24, bias=True)\u001b[0m                                        \u001b[34m│\u001b[0m\n",
       "\u001b[34m│\u001b[0m \u001b[32m      )\u001b[0m                                                                                                         \u001b[34m│\u001b[0m\n",
       "\u001b[34m│\u001b[0m \u001b[32m    )\u001b[0m                                                                                                           \u001b[34m│\u001b[0m\n",
       "\u001b[34m│\u001b[0m \u001b[32m    (bbox_embed): MLP(\u001b[0m                                                                                          \u001b[34m│\u001b[0m\n",
       "\u001b[34m│\u001b[0m \u001b[32m      (layers): ModuleList(\u001b[0m                                                                                     \u001b[34m│\u001b[0m\n",
       "\u001b[34m│\u001b[0m \u001b[32m        (0-1): 2 x Linear(in_features=256, out_features=256, bias=True)\u001b[0m                                         \u001b[34m│\u001b[0m\n",
       "\u001b[34m│\u001b[0m \u001b[32m        (2): Linear(in_features=256, out_features=4, bias=True)\u001b[0m                                                 \u001b[34m│\u001b[0m\n",
       "\u001b[34m│\u001b[0m \u001b[32m      )\u001b[0m                                                                                                         \u001b[34m│\u001b[0m\n",
       "\u001b[34m│\u001b[0m \u001b[32m    )\u001b[0m                                                                                                           \u001b[34m│\u001b[0m\n",
       "\u001b[34m│\u001b[0m \u001b[32m    (refpoint_embed): Embedding(3900, 4)\u001b[0m                                                                        \u001b[34m│\u001b[0m\n",
       "\u001b[34m│\u001b[0m \u001b[32m    (query_feat): Embedding(3900, 256)\u001b[0m                                                                          \u001b[34m│\u001b[0m\n",
       "\u001b[34m│\u001b[0m \u001b[32m    (backbone): Joiner(\u001b[0m                                                                                         \u001b[34m│\u001b[0m\n",
       "\u001b[34m│\u001b[0m \u001b[32m      (0): Backbone(\u001b[0m                                                                                            \u001b[34m│\u001b[0m\n",
       "\u001b[34m│\u001b[0m \u001b[32m        (encoder): DinoV2(\u001b[0m                                                                                      \u001b[34m│\u001b[0m\n",
       "\u001b[34m│\u001b[0m \u001b[32m          (encoder): WindowedDinov2WithRegistersBackbone(\u001b[0m                                                       \u001b[34m│\u001b[0m\n",
       "\u001b[34m│\u001b[0m \u001b[32m            (embeddings): WindowedDinov2WithRegistersEmbeddings(\u001b[0m                                                \u001b[34m│\u001b[0m\n",
       "\u001b[34m│\u001b[0m \u001b[32m              (patch_embeddings): Dinov2WithRegistersPatchEmbeddings(\u001b[0m                                           \u001b[34m│\u001b[0m\n",
       "\u001b[34m│\u001b[0m \u001b[32m                (projection): Conv2d(3, 384, kernel_size=(14, 14), stride=(14, 14))\u001b[0m                             \u001b[34m│\u001b[0m\n",
       "\u001b[34m│\u001b[0m \u001b[32m              )\u001b[0m                                                                                                 \u001b[34m│\u001b[0m\n",
       "\u001b[34m│\u001b[0m \u001b[32m              (dropout): Dropout(p=0.0, inplace=False)\u001b[0m                                                          \u001b[34m│\u001b[0m\n",
       "\u001b[34m│\u001b[0m \u001b[32m            )\u001b[0m                                                                                                   \u001b[34m│\u001b[0m\n",
       "\u001b[34m│\u001b[0m \u001b[32m            (encoder): WindowedDinov2WithRegistersEncoder(\u001b[0m                                                      \u001b[34m│\u001b[0m\n",
       "\u001b[34m│\u001b[0m \u001b[32m              (layer): ModuleList(\u001b[0m                                                                              \u001b[34m│\u001b[0m\n",
       "\u001b[34m│\u001b[0m \u001b[32m                (0-11): 12 x WindowedDinov2WithRegistersLayer(\u001b[0m                                                  \u001b[34m│\u001b[0m\n",
       "\u001b[34m│\u001b[0m \u001b[32m                  (norm1): LayerNorm((384,), eps=1e-06, elementwise_affine=True)\u001b[0m                                \u001b[34m│\u001b[0m\n",
       "\u001b[34m│\u001b[0m \u001b[32m                  (attention): Dinov2WithRegistersSdpaAttention(\u001b[0m                                                \u001b[34m│\u001b[0m\n",
       "\u001b[34m│\u001b[0m \u001b[32m                    (attention): Dinov2WithRegistersSdpaSelfAttention(\u001b[0m                                          \u001b[34m│\u001b[0m\n",
       "\u001b[34m│\u001b[0m \u001b[32m                      (query): Linear(in_features=384, out_features=384, bias=True)\u001b[0m                             \u001b[34m│\u001b[0m\n",
       "\u001b[34m│\u001b[0m \u001b[32m                      (key): Linear(in_features=384, out_features=384, bias=True)\u001b[0m                               \u001b[34m│\u001b[0m\n",
       "\u001b[34m│\u001b[0m \u001b[32m                      (value): Linear(in_features=384, out_features=384, bias=True)\u001b[0m                             \u001b[34m│\u001b[0m\n",
       "\u001b[34m│\u001b[0m \u001b[32m                      (dropout): Dropout(p=0.0, inplace=False)\u001b[0m                                                  \u001b[34m│\u001b[0m\n",
       "\u001b[34m│\u001b[0m \u001b[32m                    )\u001b[0m                                                                                           \u001b[34m│\u001b[0m\n",
       "\u001b[34m│\u001b[0m \u001b[32m                    (output): Dinov2WithRegistersSelfOutput(\u001b[0m                                                    \u001b[34m│\u001b[0m\n",
       "\u001b[34m│\u001b[0m \u001b[32m                      (dense): Linear(in_features=384, out_features=384, bias=True)\u001b[0m                             \u001b[34m│\u001b[0m\n",
       "\u001b[34m│\u001b[0m \u001b[32m                      (dropout): Dropout(p=0.0, inplace=False)\u001b[0m                                                  \u001b[34m│\u001b[0m\n",
       "\u001b[34m│\u001b[0m \u001b[32m                    )\u001b[0m                                                                                           \u001b[34m│\u001b[0m\n",
       "\u001b[34m│\u001b[0m \u001b[32m                  )\u001b[0m                                                                                             \u001b[34m│\u001b[0m\n",
       "\u001b[34m│\u001b[0m \u001b[32m                  (layer_scale1): Dinov2WithRegistersLayerScale()\u001b[0m                                               \u001b[34m│\u001b[0m\n",
       "\u001b[34m│\u001b[0m \u001b[32m                  (drop_path): Identity()\u001b[0m                                                                       \u001b[34m│\u001b[0m\n",
       "\u001b[34m│\u001b[0m \u001b[32m                  (norm2): LayerNorm((384,), eps=1e-06, elementwise_affine=True)\u001b[0m                                \u001b[34m│\u001b[0m\n",
       "\u001b[34m│\u001b[0m \u001b[32m                  (mlp): Dinov2WithRegistersMLP(\u001b[0m                                                                \u001b[34m│\u001b[0m\n",
       "\u001b[34m│\u001b[0m \u001b[32m                    (fc1): Linear(in_features=384, out_features=1536, bias=True)\u001b[0m                                \u001b[34m│\u001b[0m\n",
       "\u001b[34m│\u001b[0m \u001b[32m                    (activation): GELUActivation()\u001b[0m                                                              \u001b[34m│\u001b[0m\n",
       "\u001b[34m│\u001b[0m \u001b[32m                    (fc2): Linear(in_features=1536, out_features=384, bias=True)\u001b[0m                                \u001b[34m│\u001b[0m\n",
       "\u001b[34m│\u001b[0m \u001b[32m                  )\u001b[0m                                                                                             \u001b[34m│\u001b[0m\n",
       "\u001b[34m│\u001b[0m \u001b[32m                  (layer_scale2): Dinov2WithRegistersLayerScale()\u001b[0m                                               \u001b[34m│\u001b[0m\n",
       "\u001b[34m│\u001b[0m \u001b[32m                )\u001b[0m                                                                                               \u001b[34m│\u001b[0m\n",
       "\u001b[34m│\u001b[0m \u001b[32m              )\u001b[0m                                                                                                 \u001b[34m│\u001b[0m\n",
       "\u001b[34m│\u001b[0m \u001b[32m            )\u001b[0m                                                                                                   \u001b[34m│\u001b[0m\n",
       "\u001b[34m│\u001b[0m \u001b[32m            (layernorm): LayerNorm((384,), eps=1e-06, elementwise_affine=True)\u001b[0m                                  \u001b[34m│\u001b[0m\n",
       "\u001b[34m│\u001b[0m \u001b[32m          )\u001b[0m                                                                                                     \u001b[34m│\u001b[0m\n",
       "\u001b[34m│\u001b[0m \u001b[32m        )\u001b[0m                                                                                                       \u001b[34m│\u001b[0m\n",
       "\u001b[34m│\u001b[0m \u001b[32m        (projector): MultiScaleProjector(\u001b[0m                                                                       \u001b[34m│\u001b[0m\n",
       "\u001b[34m│\u001b[0m \u001b[32m          (stages_sampling): ModuleList(\u001b[0m                                                                        \u001b[34m│\u001b[0m\n",
       "\u001b[34m│\u001b[0m \u001b[32m            (0): ModuleList(\u001b[0m                                                                                    \u001b[34m│\u001b[0m\n",
       "\u001b[34m│\u001b[0m \u001b[32m              (0-3): 4 x Sequential()\u001b[0m                                                                           \u001b[34m│\u001b[0m\n",
       "\u001b[34m│\u001b[0m \u001b[32m            )\u001b[0m                                                                                                   \u001b[34m│\u001b[0m\n",
       "\u001b[34m│\u001b[0m \u001b[32m          )\u001b[0m                                                                                                     \u001b[34m│\u001b[0m\n",
       "\u001b[34m│\u001b[0m \u001b[32m          (stages): ModuleList(\u001b[0m                                                                                 \u001b[34m│\u001b[0m\n",
       "\u001b[34m│\u001b[0m \u001b[32m            (0): Sequential(\u001b[0m                                                                                    \u001b[34m│\u001b[0m\n",
       "\u001b[34m│\u001b[0m \u001b[32m              (0): C2f(\u001b[0m                                                                                         \u001b[34m│\u001b[0m\n",
       "\u001b[34m│\u001b[0m \u001b[32m                (cv1): ConvX(\u001b[0m                                                                                   \u001b[34m│\u001b[0m\n",
       "\u001b[34m│\u001b[0m \u001b[32m                  (conv): Conv2d(1536, 256, kernel_size=(1, 1), stride=(1, 1), bias=False)\u001b[0m                      \u001b[34m│\u001b[0m\n",
       "\u001b[34m│\u001b[0m \u001b[32m                  (bn): LayerNorm()\u001b[0m                                                                             \u001b[34m│\u001b[0m\n",
       "\u001b[34m│\u001b[0m \u001b[32m                  (act): SiLU(inplace=True)\u001b[0m                                                                     \u001b[34m│\u001b[0m\n",
       "\u001b[34m│\u001b[0m \u001b[32m                )\u001b[0m                                                                                               \u001b[34m│\u001b[0m\n",
       "\u001b[34m│\u001b[0m \u001b[32m                (cv2): ConvX(\u001b[0m                                                                                   \u001b[34m│\u001b[0m\n",
       "\u001b[34m│\u001b[0m \u001b[32m                  (conv): Conv2d(640, 256, kernel_size=(1, 1), stride=(1, 1), bias=False)\u001b[0m                       \u001b[34m│\u001b[0m\n",
       "\u001b[34m│\u001b[0m \u001b[32m                  (bn): LayerNorm()\u001b[0m                                                                             \u001b[34m│\u001b[0m\n",
       "\u001b[34m│\u001b[0m \u001b[32m                  (act): SiLU(inplace=True)\u001b[0m                                                                     \u001b[34m│\u001b[0m\n",
       "\u001b[34m│\u001b[0m \u001b[32m                )\u001b[0m                                                                                               \u001b[34m│\u001b[0m\n",
       "\u001b[34m│\u001b[0m \u001b[32m                (m): ModuleList(\u001b[0m                                                                                \u001b[34m│\u001b[0m\n",
       "\u001b[34m│\u001b[0m \u001b[32m                  (0-2): 3 x Bottleneck(\u001b[0m                                                                        \u001b[34m│\u001b[0m\n",
       "\u001b[34m│\u001b[0m \u001b[32m                    (cv1): ConvX(\u001b[0m                                                                               \u001b[34m│\u001b[0m\n",
       "\u001b[34m│\u001b[0m \u001b[32m                      (conv): Conv2d(128, 128, kernel_size=(3, 3), stride=(1, 1), padding=(1, 1), bias=False)\u001b[0m   \u001b[34m│\u001b[0m\n",
       "\u001b[34m│\u001b[0m \u001b[32m                      (bn): LayerNorm()\u001b[0m                                                                         \u001b[34m│\u001b[0m\n",
       "\u001b[34m│\u001b[0m \u001b[32m                      (act): SiLU(inplace=True)\u001b[0m                                                                 \u001b[34m│\u001b[0m\n",
       "\u001b[34m│\u001b[0m \u001b[32m                    )\u001b[0m                                                                                           \u001b[34m│\u001b[0m\n",
       "\u001b[34m│\u001b[0m \u001b[32m                    (cv2): ConvX(\u001b[0m                                                                               \u001b[34m│\u001b[0m\n",
       "\u001b[34m│\u001b[0m \u001b[32m                      (conv): Conv2d(128, 128, kernel_size=(3, 3), stride=(1, 1), padding=(1, 1), bias=False)\u001b[0m   \u001b[34m│\u001b[0m\n",
       "\u001b[34m│\u001b[0m \u001b[32m                      (bn): LayerNorm()\u001b[0m                                                                         \u001b[34m│\u001b[0m\n",
       "\u001b[34m│\u001b[0m \u001b[32m                      (act): SiLU(inplace=True)\u001b[0m                                                                 \u001b[34m│\u001b[0m\n",
       "\u001b[34m│\u001b[0m \u001b[32m                    )\u001b[0m                                                                                           \u001b[34m│\u001b[0m\n",
       "\u001b[34m│\u001b[0m \u001b[32m                  )\u001b[0m                                                                                             \u001b[34m│\u001b[0m\n",
       "\u001b[34m│\u001b[0m \u001b[32m                )\u001b[0m                                                                                               \u001b[34m│\u001b[0m\n",
       "\u001b[34m│\u001b[0m \u001b[32m              )\u001b[0m                                                                                                 \u001b[34m│\u001b[0m\n",
       "\u001b[34m│\u001b[0m \u001b[32m              (1): LayerNorm()\u001b[0m                                                                                  \u001b[34m│\u001b[0m\n",
       "\u001b[34m│\u001b[0m \u001b[32m            )\u001b[0m                                                                                                   \u001b[34m│\u001b[0m\n",
       "\u001b[34m│\u001b[0m \u001b[32m          )\u001b[0m                                                                                                     \u001b[34m│\u001b[0m\n",
       "\u001b[34m│\u001b[0m \u001b[32m        )\u001b[0m                                                                                                       \u001b[34m│\u001b[0m\n",
       "\u001b[34m│\u001b[0m \u001b[32m      )\u001b[0m                                                                                                         \u001b[34m│\u001b[0m\n",
       "\u001b[34m│\u001b[0m \u001b[32m      (1): PositionEmbeddingSine()\u001b[0m                                                                              \u001b[34m│\u001b[0m\n",
       "\u001b[34m│\u001b[0m \u001b[32m    )\u001b[0m                                                                                                           \u001b[34m│\u001b[0m\n",
       "\u001b[34m│\u001b[0m \u001b[32m    (class_embed): Linear(in_features=256, out_features=24, bias=True)\u001b[0m                                          \u001b[34m│\u001b[0m\n",
       "\u001b[34m│\u001b[0m \u001b[32m  )\u001b[0m                                                                                                             \u001b[34m│\u001b[0m\n",
       "\u001b[34m│\u001b[0m \u001b[32m  (criterion): SetCriterion(\u001b[0m                                                                                    \u001b[34m│\u001b[0m\n",
       "\u001b[34m│\u001b[0m \u001b[32m    (matcher): HungarianMatcher()\u001b[0m                                                                               \u001b[34m│\u001b[0m\n",
       "\u001b[34m│\u001b[0m \u001b[32m  )\u001b[0m                                                                                                             \u001b[34m│\u001b[0m\n",
       "\u001b[34m│\u001b[0m \u001b[32m)\u001b[0m                                                                                                               \u001b[34m│\u001b[0m\n",
       "\u001b[34m╰─────────────────────────────────────────────────────────────────────────────────────────────────────────────────╯\u001b[0m\n"
      ]
     },
     "metadata": {},
     "output_type": "display_data"
    },
    {
     "data": {
      "text/html": [
       "<pre style=\"white-space:pre;overflow-x:auto;line-height:normal;font-family:Menlo,'DejaVu Sans Mono',consolas,'Courier New',monospace\"><span style=\"font-style: italic\">                                             Model Parameters Summary                                              </span>\n",
       "┏━━━━━━━━━━━━━━━━━━━━━━━━━━━━━━━━━━━━━━━━━━━━━━┳━━━━━━━━━━━━━━━━━━━━━━━━━━━━━━━━━━━━━━━━━━━━━━━━━━━━━━━━━━━━━━━━━━┓\n",
       "┃<span style=\"font-weight: bold\"> Parameter Type                               </span>┃<span style=\"font-weight: bold\">                                                            Count </span>┃\n",
       "┡━━━━━━━━━━━━━━━━━━━━━━━━━━━━━━━━━━━━━━━━━━━━━━╇━━━━━━━━━━━━━━━━━━━━━━━━━━━━━━━━━━━━━━━━━━━━━━━━━━━━━━━━━━━━━━━━━━┩\n",
       "│<span style=\"color: #008080; text-decoration-color: #008080\"> Total                                        </span>│<span style=\"color: #008000; text-decoration-color: #008000\">                                                       31,933,464 </span>│\n",
       "│<span style=\"color: #008080; text-decoration-color: #008080\"> Trainable                                    </span>│<span style=\"color: #008000; text-decoration-color: #008000\">                                                       31,933,464 </span>│\n",
       "│<span style=\"color: #008080; text-decoration-color: #008080\"> Frozen                                       </span>│<span style=\"color: #008000; text-decoration-color: #008000\">                                                                0 </span>│\n",
       "└──────────────────────────────────────────────┴──────────────────────────────────────────────────────────────────┘\n",
       "</pre>\n"
      ],
      "text/plain": [
       "\u001b[3m                                             Model Parameters Summary                                              \u001b[0m\n",
       "┏━━━━━━━━━━━━━━━━━━━━━━━━━━━━━━━━━━━━━━━━━━━━━━┳━━━━━━━━━━━━━━━━━━━━━━━━━━━━━━━━━━━━━━━━━━━━━━━━━━━━━━━━━━━━━━━━━━┓\n",
       "┃\u001b[1m \u001b[0m\u001b[1mParameter Type                              \u001b[0m\u001b[1m \u001b[0m┃\u001b[1m \u001b[0m\u001b[1m                                                           Count\u001b[0m\u001b[1m \u001b[0m┃\n",
       "┡━━━━━━━━━━━━━━━━━━━━━━━━━━━━━━━━━━━━━━━━━━━━━━╇━━━━━━━━━━━━━━━━━━━━━━━━━━━━━━━━━━━━━━━━━━━━━━━━━━━━━━━━━━━━━━━━━━┩\n",
       "│\u001b[36m \u001b[0m\u001b[36mTotal                                       \u001b[0m\u001b[36m \u001b[0m│\u001b[32m \u001b[0m\u001b[32m                                                      31,933,464\u001b[0m\u001b[32m \u001b[0m│\n",
       "│\u001b[36m \u001b[0m\u001b[36mTrainable                                   \u001b[0m\u001b[36m \u001b[0m│\u001b[32m \u001b[0m\u001b[32m                                                      31,933,464\u001b[0m\u001b[32m \u001b[0m│\n",
       "│\u001b[36m \u001b[0m\u001b[36mFrozen                                      \u001b[0m\u001b[36m \u001b[0m│\u001b[32m \u001b[0m\u001b[32m                                                               0\u001b[0m\u001b[32m \u001b[0m│\n",
       "└──────────────────────────────────────────────┴──────────────────────────────────────────────────────────────────┘\n"
      ]
     },
     "metadata": {},
     "output_type": "display_data"
    },
    {
     "data": {
      "text/html": [
       "<pre style=\"white-space:pre;overflow-x:auto;line-height:normal;font-family:Menlo,'DejaVu Sans Mono',consolas,'Courier New',monospace\">Frozen ratio: <span style=\"color: #008080; text-decoration-color: #008080; font-weight: bold\">0.00</span>%\n",
       "</pre>\n"
      ],
      "text/plain": [
       "Frozen ratio: \u001b[1;36m0.00\u001b[0m%\n"
      ]
     },
     "metadata": {},
     "output_type": "display_data"
    },
    {
     "name": "stderr",
     "output_type": "stream",
     "text": [
      "\u001b[32m2025-06-23 02:58:22.937\u001b[0m | \u001b[1mINFO    \u001b[0m | \u001b[36mhq_det.trainer\u001b[0m:\u001b[36m_setup_distributed_training\u001b[0m:\u001b[36m389\u001b[0m - \u001b[1mSetting up single GPU training environment...\u001b[0m\n",
      "\u001b[32m2025-06-23 02:58:22.945\u001b[0m | \u001b[1mINFO    \u001b[0m | \u001b[36mhq_det.trainer\u001b[0m:\u001b[36m_setup_distributed_training\u001b[0m:\u001b[36m396\u001b[0m - \u001b[1mSingle GPU training initialized - Device: cuda\u001b[0m\n"
     ]
    }
   ],
   "source": [
    "trainer = MyTrainer(\n",
    "    HQTrainerArguments(\n",
    "        data_path=dataset_path,   # 数据集路径\n",
    "        num_epoches=10,  # 训练轮数\n",
    "        warmup_epochs=5,  # 预热轮数\n",
    "        num_data_workers=4,  # 数据加载线程数\n",
    "        lr0=1e-4,  # 初始学习率\n",
    "        lr_min=1e-5,  # 最小学习率\n",
    "        batch_size=16,  # 批量大小\n",
    "        device='cuda',  # 设备\n",
    "        checkpoint_path='./output',  # 检查点路径\n",
    "        output_path='./output',  # 输出路径\n",
    "        checkpoint_interval=1,  # 检查点间隔\n",
    "        image_size=1024,  # 图像大小\n",
    "        gradient_update_interval=2,  # 梯度更新间隔\n",
    "        model_argument={\n",
    "            \"model\": model_path,  # 加载的模型路径\n",
    "            \"model_type\": \"base\",  # 模型类型\n",
    "            \"lr_encoder\": 1.5e-4,  # 编码器学习率\n",
    "            \"lr_component_decay\": 0.7,  # 组件衰减率\n",
    "        },\n",
    "        eval_class_names=[],   # 评估类别名称\n",
    "    )\n",
    ")"
   ]
  },
  {
   "cell_type": "code",
   "execution_count": 13,
   "metadata": {},
   "outputs": [],
   "source": [
    "checkpoint = torch.load(model_path, map_location='cuda:0', weights_only=False)"
   ]
  },
  {
   "cell_type": "code",
   "execution_count": 14,
   "metadata": {},
   "outputs": [
    {
     "name": "stdout",
     "output_type": "stream",
     "text": [
      "transformer.decoder.layers.0.self_attn.in_proj_weight torch.Size([768, 256])\n",
      "model.transformer.decoder.layers.0.self_attn.in_proj_weight torch.Size([768, 256])\n"
     ]
    }
   ],
   "source": [
    "param1 = None\n",
    "for name, param in checkpoint['model'].items():\n",
    "    print(name, param.shape)\n",
    "    param1 = param\n",
    "    break\n",
    "\n",
    "param2 = None\n",
    "for name, param in trainer.model.named_parameters():\n",
    "    print(name, param.shape)\n",
    "    param2 = param\n",
    "    break"
   ]
  },
  {
   "cell_type": "code",
   "execution_count": 16,
   "metadata": {},
   "outputs": [
    {
     "data": {
      "text/plain": [
       "tensor(True, device='cuda:0')"
      ]
     },
     "execution_count": 16,
     "metadata": {},
     "output_type": "execute_result"
    }
   ],
   "source": [
    "torch.all(param1 == param2)"
   ]
  }
 ],
 "metadata": {
  "kernelspec": {
   "display_name": "base",
   "language": "python",
   "name": "python3"
  },
  "language_info": {
   "codemirror_mode": {
    "name": "ipython",
    "version": 3
   },
   "file_extension": ".py",
   "mimetype": "text/x-python",
   "name": "python",
   "nbconvert_exporter": "python",
   "pygments_lexer": "ipython3",
   "version": "3.12.3"
  }
 },
 "nbformat": 4,
 "nbformat_minor": 2
}
