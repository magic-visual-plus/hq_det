{
 "cells": [
  {
   "cell_type": "markdown",
   "metadata": {},
   "source": [
    "# RF DETR 测试"
   ]
  },
  {
   "cell_type": "code",
   "execution_count": 1,
   "metadata": {},
   "outputs": [
    {
     "name": "stdout",
     "output_type": "stream",
     "text": [
      "/root/hq_det\n"
     ]
    }
   ],
   "source": [
    "import os\n",
    "os.chdir('/root/hq_det')\n",
    "from pprint import pprint\n",
    "!pwd"
   ]
  },
  {
   "cell_type": "markdown",
   "metadata": {},
   "source": [
    "## src"
   ]
  },
  {
   "cell_type": "code",
   "execution_count": 2,
   "metadata": {},
   "outputs": [],
   "source": [
    "from rfdetr import RFDETRBase"
   ]
  },
  {
   "cell_type": "code",
   "execution_count": 3,
   "metadata": {},
   "outputs": [],
   "source": [
    "from rfdetr.config import RFDETRBaseConfig, TrainConfig"
   ]
  },
  {
   "cell_type": "code",
   "execution_count": 4,
   "metadata": {},
   "outputs": [
    {
     "name": "stdout",
     "output_type": "stream",
     "text": [
      "RFDETRBaseConfig(encoder='dinov2_windowed_small', out_feature_indexes=[2, 5, 8, 11], dec_layers=3, two_stage=True, projector_scale=['P4'], hidden_dim=256, sa_nheads=8, ca_nheads=16, dec_n_points=2, bbox_reparam=True, lite_refpoint_refine=True, layer_norm=True, amp=True, num_classes=90, pretrain_weights='rf-detr-base.pth', device='cuda', resolution=560, group_detr=13, gradient_checkpointing=False, num_queries=300, num_select=300)\n"
     ]
    }
   ],
   "source": [
    "pprint(RFDETRBaseConfig())"
   ]
  },
  {
   "cell_type": "code",
   "execution_count": 5,
   "metadata": {},
   "outputs": [
    {
     "name": "stdout",
     "output_type": "stream",
     "text": [
      "TrainConfig(lr=0.0001, lr_encoder=0.00015, batch_size=4, grad_accum_steps=4, epochs=100, ema_decay=0.993, ema_tau=100, lr_drop=100, checkpoint_interval=10, warmup_epochs=0, lr_vit_layer_decay=0.8, lr_component_decay=0.7, drop_path=0.0, group_detr=13, ia_bce_loss=True, cls_loss_coef=1.0, num_select=300, dataset_file='roboflow', square_resize_div_64=True, dataset_dir='/root/autodl-tmp/chengdu_v2_dataset', output_dir='output', multi_scale=True, expanded_scales=True, use_ema=True, num_workers=2, weight_decay=0.0001, early_stopping=False, early_stopping_patience=10, early_stopping_min_delta=0.001, early_stopping_use_ema=False, tensorboard=True, wandb=False, project=None, run=None, class_names=None)\n"
     ]
    }
   ],
   "source": [
    "pprint(TrainConfig(dataset_dir=\"/root/autodl-tmp/chengdu_v2_dataset\"))"
   ]
  },
  {
   "cell_type": "code",
   "execution_count": 6,
   "metadata": {},
   "outputs": [
    {
     "name": "stdout",
     "output_type": "stream",
     "text": [
      "Loading pretrain weights\n"
     ]
    },
    {
     "name": "stderr",
     "output_type": "stream",
     "text": [
      "num_classes mismatch: pretrain weights has 90 classes, but your model has 23 classes\n",
      "reinitializing detection head with 90 classes\n"
     ]
    }
   ],
   "source": [
    "rfdetr = RFDETRBase(pretrain_weights=\"/root/autodl-tmp/model/rfdetr/rf-detr-base.pth\", num_classes=23)"
   ]
  },
  {
   "cell_type": "code",
   "execution_count": 2,
   "metadata": {},
   "outputs": [
    {
     "ename": "NameError",
     "evalue": "name 'rfdetr' is not defined",
     "output_type": "error",
     "traceback": [
      "\u001b[0;31m---------------------------------------------------------------------------\u001b[0m",
      "\u001b[0;31mNameError\u001b[0m                                 Traceback (most recent call last)",
      "Cell \u001b[0;32mIn[2], line 1\u001b[0m\n\u001b[0;32m----> 1\u001b[0m \u001b[43mrfdetr\u001b[49m\u001b[38;5;241m.\u001b[39mtrain(\n\u001b[1;32m      2\u001b[0m     dataset_dir\u001b[38;5;241m=\u001b[39m\u001b[38;5;124m\"\u001b[39m\u001b[38;5;124m/root/autodl-tmp/chengdu_v2_dataset\u001b[39m\u001b[38;5;124m\"\u001b[39m, \n\u001b[1;32m      3\u001b[0m     epochs\u001b[38;5;241m=\u001b[39m\u001b[38;5;241m1\u001b[39m, \n\u001b[1;32m      4\u001b[0m     batch_size\u001b[38;5;241m=\u001b[39m\u001b[38;5;241m4\u001b[39m, \n\u001b[1;32m      5\u001b[0m     grad_accum_steps\u001b[38;5;241m=\u001b[39m\u001b[38;5;241m4\u001b[39m,\n\u001b[1;32m      6\u001b[0m     lr\u001b[38;5;241m=\u001b[39m\u001b[38;5;241m1e-4\u001b[39m, \n\u001b[1;32m      7\u001b[0m     output_dir\u001b[38;5;241m=\u001b[39m\u001b[38;5;124m\"\u001b[39m\u001b[38;5;124m/root/autodl-tmp/rfdetr/output\u001b[39m\u001b[38;5;124m\"\u001b[39m\n\u001b[1;32m      8\u001b[0m )\n",
      "\u001b[0;31mNameError\u001b[0m: name 'rfdetr' is not defined"
     ]
    }
   ],
   "source": [
    "rfdetr.train(\n",
    "    dataset_dir=\"/root/autodl-tmp/chengdu_v2_dataset\", \n",
    "    epochs=1, \n",
    "    batch_size=4, \n",
    "    grad_accum_steps=4,\n",
    "    lr=1e-4, \n",
    "    output_dir=\"/root/autodl-tmp/rfdetr/output\"\n",
    ")"
   ]
  },
  {
   "cell_type": "markdown",
   "metadata": {},
   "source": [
    "## My Code"
   ]
  },
  {
   "cell_type": "code",
   "execution_count": 4,
   "metadata": {},
   "outputs": [
    {
     "name": "stdout",
     "output_type": "stream",
     "text": [
      "^C\n",
      "Traceback (most recent call last):\n",
      "  File \"/root/hq_det/scripts/run_train_rfdetr.py\", line 4, in <module>\n",
      "    import torch\n",
      "  File \"/root/miniconda3/lib/python3.12/site-packages/torch/__init__.py\", line 1593, in <module>\n",
      "    from torch import hub as hub\n",
      "  File \"/root/miniconda3/lib/python3.12/site-packages/torch/hub.py\", line 17, in <module>\n",
      "    from urllib.request import urlopen, Request\n",
      "  File \"/root/miniconda3/lib/python3.12/urllib/request.py\", line 1057, in <module>\n",
      "    class ProxyBasicAuthHandler(AbstractBasicAuthHandler, BaseHandler):\n",
      "KeyboardInterrupt\n"
     ]
    }
   ],
   "source": [
    "!python scripts/run_train_rfdetr.py \\\n",
    "    --data_path  /root/autodl-tmp/chengdu_v2_dataset \\\n",
    "    --output_path /root/autodl-tmp/rfdetr/output \\\n",
    "    --load_checkpoint /root/autodl-tmp/model/rfdetr/rf-detr-base.pth \\\n",
    "    --num_epoches 10 \\\n",
    "    --warmup_epochs 0 \\\n",
    "    --num_data_workers 8 \\\n",
    "    --lr0 1e-4 \\\n",
    "    --lr_min 5e-5 \\\n",
    "    --batch_size 4 \\\n",
    "    --device cuda:0 \\\n",
    "    --checkpoint_interval -1 \\\n",
    "    --image_size 1008 \\\n",
    "    --gradient_update_interval 4"
   ]
  }
 ],
 "metadata": {
  "kernelspec": {
   "display_name": "base",
   "language": "python",
   "name": "python3"
  },
  "language_info": {
   "codemirror_mode": {
    "name": "ipython",
    "version": 3
   },
   "file_extension": ".py",
   "mimetype": "text/x-python",
   "name": "python",
   "nbconvert_exporter": "python",
   "pygments_lexer": "ipython3",
   "version": "3.12.3"
  }
 },
 "nbformat": 4,
 "nbformat_minor": 4
}
