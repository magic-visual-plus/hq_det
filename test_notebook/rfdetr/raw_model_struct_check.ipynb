{
 "cells": [
  {
   "cell_type": "code",
   "execution_count": 1,
   "metadata": {},
   "outputs": [],
   "source": [
    "import os\n",
    "from train_rfdetr_check import MyTrainerCheck, HQTrainerArguments"
   ]
  },
  {
   "cell_type": "code",
   "execution_count": 2,
   "metadata": {},
   "outputs": [],
   "source": [
    "dataset_path = \"/root/autodl-tmp/chengdu_v2_dataset\"\n",
    "model_path = \"/root/autodl-tmp/model/rfdetr/rf-detr-base.pth\"\n",
    "os.environ['HQ_DEBUG'] = '0'"
   ]
  },
  {
   "cell_type": "code",
   "execution_count": 3,
   "metadata": {},
   "outputs": [
    {
     "name": "stderr",
     "output_type": "stream",
     "text": [
      "\u001b[32m2025-06-23 20:26:56.825\u001b[0m | \u001b[1mINFO    \u001b[0m | \u001b[36mhq_det.dataset\u001b[0m:\u001b[36m__init__\u001b[0m:\u001b[36m118\u001b[0m - \u001b[1mCocoDetection: img_folder /root/autodl-tmp/chengdu_v2_dataset/train using 3204 images\u001b[0m\n",
      "\u001b[32m2025-06-23 20:26:56.826\u001b[0m | \u001b[1mINFO    \u001b[0m | \u001b[36mhq_det.dataset\u001b[0m:\u001b[36m__init__\u001b[0m:\u001b[36m124\u001b[0m - \u001b[1mid 2 names {0: '其他', 1: '划伤', 2: '划痕', 3: '压痕', 4: '吊紧', 5: '异物外漏', 6: '折痕', 7: '抛线', 8: '拼接间隙', 9: '水渍', 10: '水珠', 11: '烫伤', 12: '爆针线', 13: '白点', 14: '破损', 15: '碰伤', 16: '红标签', 17: '线头', 18: '脏污', 19: '褶皱(贯穿)', 20: '褶皱（轻度）', 21: '褶皱（重度）', 22: '重跳针'}\u001b[0m\n",
      "\u001b[32m2025-06-23 20:26:56.835\u001b[0m | \u001b[1mINFO    \u001b[0m | \u001b[36mhq_det.dataset\u001b[0m:\u001b[36m__init__\u001b[0m:\u001b[36m118\u001b[0m - \u001b[1mCocoDetection: img_folder /root/autodl-tmp/chengdu_v2_dataset/valid using 802 images\u001b[0m\n",
      "\u001b[32m2025-06-23 20:26:56.836\u001b[0m | \u001b[1mINFO    \u001b[0m | \u001b[36mhq_det.dataset\u001b[0m:\u001b[36m__init__\u001b[0m:\u001b[36m124\u001b[0m - \u001b[1mid 2 names {0: '其他', 1: '划伤', 2: '划痕', 3: '压痕', 4: '吊紧', 5: '异物外漏', 6: '折痕', 7: '抛线', 8: '拼接间隙', 9: '水渍', 10: '水珠', 11: '烫伤', 12: '爆针线', 13: '白点', 14: '破损', 15: '碰伤', 16: '红标签', 17: '线头', 18: '脏污', 19: '褶皱(贯穿)', 20: '褶皱（轻度）', 21: '褶皱（重度）', 22: '重跳针'}\u001b[0m\n"
     ]
    },
    {
     "name": "stdout",
     "output_type": "stream",
     "text": [
      "loading annotations into memory...\n",
      "Done (t=0.03s)\n",
      "creating index...\n",
      "index created!\n",
      "loading annotations into memory...\n",
      "Done (t=0.01s)\n",
      "creating index...\n",
      "index created!\n",
      "Loading pretrain weights\n"
     ]
    },
    {
     "name": "stderr",
     "output_type": "stream",
     "text": [
      "num_classes mismatch: pretrain weights has 90 classes, but your model has 23 classes\n",
      "reinitializing detection head with 23 classes\n",
      "\u001b[32m2025-06-23 20:26:59.980\u001b[0m | \u001b[1mINFO    \u001b[0m | \u001b[36mhq_det.trainer\u001b[0m:\u001b[36m_setup_distributed_training\u001b[0m:\u001b[36m389\u001b[0m - \u001b[1mSetting up single GPU training environment...\u001b[0m\n",
      "\u001b[32m2025-06-23 20:26:59.988\u001b[0m | \u001b[1mINFO    \u001b[0m | \u001b[36mhq_det.trainer\u001b[0m:\u001b[36m_setup_distributed_training\u001b[0m:\u001b[36m396\u001b[0m - \u001b[1mSingle GPU training initialized - Device: cuda\u001b[0m\n"
     ]
    },
    {
     "name": "stdout",
     "output_type": "stream",
     "text": [
      "Parameters loaded successfully\n",
      "Not using distributed mode\n",
      "Namespace(num_classes=23, grad_accum_steps=4, amp=False, lr=0.0001, lr_encoder=0.00015, batch_size=4, weight_decay=0.0001, epochs=100, lr_drop=100, clip_max_norm=0.1, lr_vit_layer_decay=0.8, lr_component_decay=0.7, do_benchmark=False, dropout=0, drop_path=0.0, drop_mode='standard', drop_schedule='constant', cutoff_epoch=0, pretrained_encoder=None, pretrain_weights='/root/autodl-tmp/model/rfdetr/rf-detr-base.pth', pretrain_exclude_keys=None, pretrain_keys_modify_to_load=None, pretrained_distiller=None, encoder='dinov2_windowed_small', vit_encoder_num_layers=12, window_block_indexes=None, position_embedding='sine', out_feature_indexes=[2, 5, 8, 11], freeze_encoder=False, layer_norm=True, rms_norm=False, backbone_lora=False, force_no_pretrain=False, dec_layers=3, dim_feedforward=2048, hidden_dim=256, sa_nheads=8, ca_nheads=16, num_queries=300, group_detr=13, two_stage=True, projector_scale=['P4'], lite_refpoint_refine=True, num_select=300, dec_n_points=2, decoder_norm='LN', bbox_reparam=True, freeze_batch_norm=False, set_cost_class=2, set_cost_bbox=5, set_cost_giou=2, cls_loss_coef=1.0, bbox_loss_coef=5, giou_loss_coef=2, focal_alpha=0.25, aux_loss=True, sum_group_losses=False, use_varifocal_loss=False, use_position_supervised_loss=False, ia_bce_loss=True, dataset_file='roboflow', coco_path=None, dataset_dir='/root/autodl-tmp/chengdu_v2_dataset', square_resize_div_64=True, output_dir='output', dont_save_weights=False, checkpoint_interval=10, seed=42, resume='', start_epoch=0, eval=False, use_ema=True, ema_decay=0.993, ema_tau=100, num_workers=2, device='cuda', world_size=1, dist_url='env://', sync_bn=True, fp16_eval=False, encoder_only=False, backbone_only=False, resolution=560, use_cls_token=False, multi_scale=True, expanded_scales=True, warmup_epochs=0, lr_scheduler='step', lr_min_factor=0.0, early_stopping=False, early_stopping_patience=10, early_stopping_min_delta=0.001, early_stopping_use_ema=False, gradient_checkpointing=False, tensorboard=True, wandb=False, project=None, run=None, class_names=['其他', '划伤', '划痕', '压痕', '吊紧', '异物外漏', '折痕', '抛线', '拼接间隙', '水渍', '水珠', '烫伤', '爆针线', '白点', '破损', '碰伤', '红标签', '线头', '脏污', '褶皱(贯穿)', '褶皱（轻度）', '褶皱（重度）', '重跳针'], distributed=False)\n"
     ]
    }
   ],
   "source": [
    "trainer = MyTrainerCheck(\n",
    "    HQTrainerArguments(\n",
    "        data_path=dataset_path,   # 数据集路径\n",
    "        num_epoches=10,  # 训练轮数\n",
    "        warmup_epochs=0,  # 预热轮数\n",
    "        num_data_workers=4,  # 数据加载线程数\n",
    "        lr0=1e-4,  # 初始学习率\n",
    "        lr_min=1e-5,  # 最小学习率\n",
    "        batch_size=4,  # 批量大小\n",
    "        device='cuda',  # 设备\n",
    "        checkpoint_path='./output',  # 检查点路径\n",
    "        output_path='./output',  # 输出路径\n",
    "        checkpoint_interval=1,  # 检查点间隔\n",
    "        image_size=1024,  # 图像大小\n",
    "        gradient_update_interval=4,  # 梯度更新间隔\n",
    "        model_argument={\n",
    "            'dataset_dir': dataset_path,\n",
    "            'num_classes': 23,\n",
    "            \"model\": model_path,  # 加载的模型路径\n",
    "            \"model_type\": \"base\",  # 模型类型\n",
    "            \"lr_encoder\": 1.5e-4,  # 编码器学习率\n",
    "            \"lr_component_decay\": 0.7,  # 组件衰减率\n",
    "            'amp': False,\n",
    "        },\n",
    "        class_id2names={\n",
    "            0: '其他',\n",
    "            1: '划伤',\n",
    "            2: '划痕',\n",
    "            3: '压痕',\n",
    "            4: '吊紧',\n",
    "            5: '异物外漏',\n",
    "            6: '折痕',\n",
    "            7: '抛线',\n",
    "            8: '拼接间隙',\n",
    "            9: '水渍',\n",
    "            10: '水珠',\n",
    "            11: '烫伤',\n",
    "            12: '爆针线',\n",
    "            13: '白点',\n",
    "            14: '破损',\n",
    "            15: '碰伤',\n",
    "            16: '红标签',\n",
    "            17: '线头',\n",
    "            18: '脏污',\n",
    "            19: '褶皱(贯穿)',\n",
    "            20: '褶皱（轻度）',\n",
    "            21: '褶皱（重度）',\n",
    "            22: '重跳针',\n",
    "        },\n",
    "        eval_class_names=[],   # 评估类别名称\n",
    "    )\n",
    ")"
   ]
  },
  {
   "cell_type": "code",
   "execution_count": 4,
   "metadata": {},
   "outputs": [
    {
     "name": "stderr",
     "output_type": "stream",
     "text": [
      "\u001b[32m2025-06-23 20:27:00.050\u001b[0m | \u001b[1mINFO    \u001b[0m | \u001b[36mhq_det.trainer\u001b[0m:\u001b[36mrun\u001b[0m:\u001b[36m574\u001b[0m - \u001b[1mStart training...\u001b[0m\n",
      "Train Epoch[0/9]:   0%|          | 0/801 [00:00<?, ?it/s]UserWarning: torch.meshgrid: in an upcoming release, it will be required to pass the indexing argument. (Triggered internally at ../aten/src/ATen/native/TensorShape.cpp:3587.)\n",
      "Train Epoch[0/9]: 100%|██████████| 801/801 [05:24<00:00,  2.47it/s, box=0.0211, class_error=53.8, cls=0.87, giou=0.443, loss=7.46]  \n",
      "Valid Epoch[0/9]: 100%|██████████| 201/201 [00:26<00:00,  7.62it/s, box=0, class_error=100, cls=0.156, giou=0, loss=0.631]         \n"
     ]
    },
    {
     "name": "stdout",
     "output_type": "stream",
     "text": [
      "creating index...\n",
      "index created!\n",
      "creating index...\n",
      "index created!\n",
      "Running per image evaluation...\n",
      "Evaluate annotation type *bbox*\n",
      "DONE (t=0.08s).\n",
      "Accumulating evaluation results...\n",
      "DONE (t=0.02s).\n",
      " Average Precision  (AP) @[ IoU=0.50:0.95 | area=   all | maxDets=100 ] = 0.000\n",
      " Average Precision  (AP) @[ IoU=0.50      | area=   all | maxDets=100 ] = 0.000\n",
      " Average Precision  (AP) @[ IoU=0.75      | area=   all | maxDets=100 ] = 0.000\n",
      " Average Precision  (AP) @[ IoU=0.50:0.95 | area= small | maxDets=100 ] = 0.000\n",
      " Average Precision  (AP) @[ IoU=0.50:0.95 | area=medium | maxDets=100 ] = 0.000\n",
      " Average Precision  (AP) @[ IoU=0.50:0.95 | area= large | maxDets=100 ] = 0.000\n",
      " Average Recall     (AR) @[ IoU=0.50:0.95 | area=   all | maxDets=  1 ] = 0.000\n",
      " Average Recall     (AR) @[ IoU=0.50:0.95 | area=   all | maxDets= 10 ] = 0.000\n",
      " Average Recall     (AR) @[ IoU=0.50:0.95 | area=   all | maxDets=100 ] = 0.000\n",
      " Average Recall     (AR) @[ IoU=0.50:0.95 | area= small | maxDets=100 ] = 0.000\n",
      " Average Recall     (AR) @[ IoU=0.50:0.95 | area=medium | maxDets=100 ] = 0.000\n",
      " Average Recall     (AR) @[ IoU=0.50:0.95 | area= large | maxDets=100 ] = 0.000\n"
     ]
    },
    {
     "ename": "AttributeError",
     "evalue": "'MyTrainerCheck' object has no attribute 'model_args'",
     "output_type": "error",
     "traceback": [
      "\u001b[0;31m---------------------------------------------------------------------------\u001b[0m",
      "\u001b[0;31mAttributeError\u001b[0m                            Traceback (most recent call last)",
      "Cell \u001b[0;32mIn[4], line 1\u001b[0m\n\u001b[0;32m----> 1\u001b[0m \u001b[43mtrainer\u001b[49m\u001b[38;5;241;43m.\u001b[39;49m\u001b[43mrun\u001b[49m\u001b[43m(\u001b[49m\u001b[43m)\u001b[49m\n",
      "File \u001b[0;32m~/hq_det/hq_det/trainer.py:588\u001b[0m, in \u001b[0;36mHQTrainer.run\u001b[0;34m(self)\u001b[0m\n\u001b[1;32m    586\u001b[0m \u001b[38;5;66;03m# Validation process\u001b[39;00m\n\u001b[1;32m    587\u001b[0m val_start_time \u001b[38;5;241m=\u001b[39m time\u001b[38;5;241m.\u001b[39mtime()\n\u001b[0;32m--> 588\u001b[0m val_losses, val_info, stat \u001b[38;5;241m=\u001b[39m \u001b[38;5;28;43mself\u001b[39;49m\u001b[38;5;241;43m.\u001b[39;49m\u001b[43mvalid_epoch\u001b[49m\u001b[43m(\u001b[49m\u001b[43mi_epoch\u001b[49m\u001b[43m)\u001b[49m\n\u001b[1;32m    589\u001b[0m val_time \u001b[38;5;241m=\u001b[39m time\u001b[38;5;241m.\u001b[39mtime() \u001b[38;5;241m-\u001b[39m val_start_time\n\u001b[1;32m    590\u001b[0m val_time_formatted \u001b[38;5;241m=\u001b[39m \u001b[38;5;28mself\u001b[39m\u001b[38;5;241m.\u001b[39m_format_time(val_time)\n",
      "File \u001b[0;32m~/hq_det/hq_det/trainer.py:320\u001b[0m, in \u001b[0;36mHQTrainer.valid_epoch\u001b[0;34m(self, epoch)\u001b[0m\n\u001b[1;32m    317\u001b[0m         bar_val\u001b[38;5;241m.\u001b[39mset_postfix(\u001b[38;5;241m*\u001b[39m\u001b[38;5;241m*\u001b[39minfo)\n\u001b[1;32m    319\u001b[0m     val_info \u001b[38;5;241m=\u001b[39m divide_stats(val_info, \u001b[38;5;28mlen\u001b[39m(\u001b[38;5;28mself\u001b[39m\u001b[38;5;241m.\u001b[39mdataloader_val))\n\u001b[0;32m--> 320\u001b[0m     stat \u001b[38;5;241m=\u001b[39m \u001b[38;5;28;43mself\u001b[39;49m\u001b[38;5;241;43m.\u001b[39;49m\u001b[43m_process_validation_results\u001b[49m\u001b[43m(\u001b[49m\u001b[43mall_preds\u001b[49m\u001b[43m,\u001b[49m\u001b[43m \u001b[49m\u001b[43mall_gts\u001b[49m\u001b[43m,\u001b[49m\u001b[43m \u001b[49m\u001b[38;5;28;43mself\u001b[39;49m\u001b[38;5;241;43m.\u001b[39;49m\u001b[43meval_class_ids\u001b[49m\u001b[43m)\u001b[49m\n\u001b[1;32m    322\u001b[0m     \u001b[38;5;28;01mreturn\u001b[39;00m val_losses, val_info, stat\n\u001b[1;32m    324\u001b[0m \u001b[38;5;28;01mreturn\u001b[39;00m [], {}, {}\n",
      "File \u001b[0;32m~/hq_det/test_notebook/rfdetr/train_rfdetr_check.py:112\u001b[0m, in \u001b[0;36mMyTrainerCheck._process_validation_results\u001b[0;34m(self, all_preds, all_gts, eval_class_ids)\u001b[0m\n\u001b[1;32m    111\u001b[0m \u001b[38;5;28;01mdef\u001b[39;00m \u001b[38;5;21m_process_validation_results\u001b[39m(\u001b[38;5;28mself\u001b[39m,  all_preds, all_gts, eval_class_ids) \u001b[38;5;241m-\u001b[39m\u001b[38;5;241m>\u001b[39m \u001b[38;5;28mdict\u001b[39m:\n\u001b[0;32m--> 112\u001b[0m     stat \u001b[38;5;241m=\u001b[39m \u001b[38;5;28;43msuper\u001b[39;49m\u001b[43m(\u001b[49m\u001b[43m)\u001b[49m\u001b[38;5;241;43m.\u001b[39;49m\u001b[43m_process_validation_results\u001b[49m\u001b[43m(\u001b[49m\u001b[43mall_preds\u001b[49m\u001b[43m,\u001b[49m\u001b[43m \u001b[49m\u001b[43mall_gts\u001b[49m\u001b[43m,\u001b[49m\u001b[43m \u001b[49m\u001b[43meval_class_ids\u001b[49m\u001b[43m)\u001b[49m\n\u001b[1;32m    113\u001b[0m     model \u001b[38;5;241m=\u001b[39m \u001b[38;5;28mself\u001b[39m\u001b[38;5;241m.\u001b[39mmodel\n\u001b[1;32m    114\u001b[0m     criterion \u001b[38;5;241m=\u001b[39m model\u001b[38;5;241m.\u001b[39mcriterion\n",
      "File \u001b[0;32m~/hq_det/hq_det/tools/train_rfdetr.py:34\u001b[0m, in \u001b[0;36mMyTrainer._process_validation_results\u001b[0;34m(self, all_preds, all_gts, eval_class_ids)\u001b[0m\n\u001b[1;32m     31\u001b[0m dataloader_val \u001b[38;5;241m=\u001b[39m \u001b[38;5;28mself\u001b[39m\u001b[38;5;241m.\u001b[39mdataloader_val\n\u001b[1;32m     32\u001b[0m base_ds \u001b[38;5;241m=\u001b[39m get_coco_api_from_dataset(dataloader_val)\n\u001b[1;32m     33\u001b[0m test_stats, coco_evaluator \u001b[38;5;241m=\u001b[39m evaluate(\n\u001b[0;32m---> 34\u001b[0m         model, criterion, postprocessors, dataloader_val, base_ds, \u001b[38;5;28mself\u001b[39m\u001b[38;5;241m.\u001b[39mdevice, \u001b[38;5;28;43mself\u001b[39;49m\u001b[38;5;241;43m.\u001b[39;49m\u001b[43mmodel_args\u001b[49m)\n\u001b[1;32m     36\u001b[0m \u001b[38;5;28;01mreturn\u001b[39;00m stat\n",
      "\u001b[0;31mAttributeError\u001b[0m: 'MyTrainerCheck' object has no attribute 'model_args'"
     ]
    }
   ],
   "source": [
    "trainer.run()"
   ]
  },
  {
   "cell_type": "code",
   "execution_count": null,
   "metadata": {},
   "outputs": [],
   "source": []
  }
 ],
 "metadata": {
  "kernelspec": {
   "display_name": "base",
   "language": "python",
   "name": "python3"
  },
  "language_info": {
   "codemirror_mode": {
    "name": "ipython",
    "version": 3
   },
   "file_extension": ".py",
   "mimetype": "text/x-python",
   "name": "python",
   "nbconvert_exporter": "python",
   "pygments_lexer": "ipython3",
   "version": "3.12.3"
  }
 },
 "nbformat": 4,
 "nbformat_minor": 2
}
