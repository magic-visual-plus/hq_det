{
 "cells": [
  {
   "cell_type": "markdown",
   "metadata": {},
   "source": [
    "# RF DETR 测试"
   ]
  },
  {
   "cell_type": "code",
   "execution_count": 1,
   "metadata": {},
   "outputs": [
    {
     "name": "stdout",
     "output_type": "stream",
     "text": [
      "/root/hq_det\n"
     ]
    }
   ],
   "source": [
    "import os\n",
    "os.chdir('/root/hq_det')\n",
    "from pprint import pprint\n",
    "!pwd"
   ]
  },
  {
   "cell_type": "markdown",
   "metadata": {},
   "source": [
    "## src"
   ]
  },
  {
   "cell_type": "code",
   "execution_count": 2,
   "metadata": {},
   "outputs": [],
   "source": [
    "from rfdetr import RFDETRBase"
   ]
  },
  {
   "cell_type": "code",
   "execution_count": 3,
   "metadata": {},
   "outputs": [],
   "source": [
    "from rfdetr.config import RFDETRBaseConfig, TrainConfig"
   ]
  },
  {
   "cell_type": "code",
   "execution_count": 4,
   "metadata": {},
   "outputs": [
    {
     "name": "stdout",
     "output_type": "stream",
     "text": [
      "RFDETRBaseConfig(encoder='dinov2_windowed_small', out_feature_indexes=[2, 5, 8, 11], dec_layers=3, two_stage=True, projector_scale=['P4'], hidden_dim=256, sa_nheads=8, ca_nheads=16, dec_n_points=2, bbox_reparam=True, lite_refpoint_refine=True, layer_norm=True, amp=True, num_classes=90, pretrain_weights='rf-detr-base.pth', device='cuda', resolution=560, group_detr=13, gradient_checkpointing=False, num_queries=300, num_select=300)\n"
     ]
    }
   ],
   "source": [
    "pprint(RFDETRBaseConfig())"
   ]
  },
  {
   "cell_type": "code",
   "execution_count": 5,
   "metadata": {},
   "outputs": [
    {
     "name": "stdout",
     "output_type": "stream",
     "text": [
      "TrainConfig(lr=0.0001, lr_encoder=0.00015, batch_size=4, grad_accum_steps=4, epochs=100, ema_decay=0.993, ema_tau=100, lr_drop=100, checkpoint_interval=10, warmup_epochs=0, lr_vit_layer_decay=0.8, lr_component_decay=0.7, drop_path=0.0, group_detr=13, ia_bce_loss=True, cls_loss_coef=1.0, num_select=300, dataset_file='roboflow', square_resize_div_64=True, dataset_dir='/root/autodl-tmp/chengdu_v2_dataset', output_dir='output', multi_scale=True, expanded_scales=True, use_ema=True, num_workers=2, weight_decay=0.0001, early_stopping=False, early_stopping_patience=10, early_stopping_min_delta=0.001, early_stopping_use_ema=False, tensorboard=True, wandb=False, project=None, run=None, class_names=None)\n"
     ]
    }
   ],
   "source": [
    "pprint(TrainConfig(dataset_dir=\"/root/autodl-tmp/chengdu_v2_dataset\"))"
   ]
  },
  {
   "cell_type": "code",
   "execution_count": 6,
   "metadata": {},
   "outputs": [
    {
     "name": "stdout",
     "output_type": "stream",
     "text": [
      "Loading pretrain weights\n"
     ]
    },
    {
     "name": "stderr",
     "output_type": "stream",
     "text": [
      "num_classes mismatch: pretrain weights has 90 classes, but your model has 23 classes\n",
      "reinitializing detection head with 90 classes\n"
     ]
    }
   ],
   "source": [
    "rfdetr = RFDETRBase(pretrain_weights=\"/root/autodl-tmp/model/rfdetr/rf-detr-base.pth\", num_classes=23)"
   ]
  },
  {
   "cell_type": "code",
   "execution_count": 7,
   "metadata": {},
   "outputs": [
    {
     "name": "stdout",
     "output_type": "stream",
     "text": [
      "TensorBoard logging initialized. To monitor logs, use 'tensorboard --logdir /root/autodl-tmp/rfdetr/output' and open http://localhost:6006/ in browser.\n",
      "Not using distributed mode\n",
      "git:\n",
      "  sha: 28390bbf40f831dbd74f64df58085e742fcbc709, status: has uncommited changes, branch: develop\n",
      "\n",
      "Namespace(num_classes=23, grad_accum_steps=4, amp=True, lr=0.0001, lr_encoder=0.00015, batch_size=4, weight_decay=0.0001, epochs=1, lr_drop=100, clip_max_norm=0.1, lr_vit_layer_decay=0.8, lr_component_decay=0.7, do_benchmark=False, dropout=0, drop_path=0.0, drop_mode='standard', drop_schedule='constant', cutoff_epoch=0, pretrained_encoder=None, pretrain_weights='/root/autodl-tmp/model/rfdetr/rf-detr-base.pth', pretrain_exclude_keys=None, pretrain_keys_modify_to_load=None, pretrained_distiller=None, encoder='dinov2_windowed_small', vit_encoder_num_layers=12, window_block_indexes=None, position_embedding='sine', out_feature_indexes=[2, 5, 8, 11], freeze_encoder=False, layer_norm=True, rms_norm=False, backbone_lora=False, force_no_pretrain=False, dec_layers=3, dim_feedforward=2048, hidden_dim=256, sa_nheads=8, ca_nheads=16, num_queries=300, group_detr=13, two_stage=True, projector_scale=['P4'], lite_refpoint_refine=True, num_select=300, dec_n_points=2, decoder_norm='LN', bbox_reparam=True, freeze_batch_norm=False, set_cost_class=2, set_cost_bbox=5, set_cost_giou=2, cls_loss_coef=1.0, bbox_loss_coef=5, giou_loss_coef=2, focal_alpha=0.25, aux_loss=True, sum_group_losses=False, use_varifocal_loss=False, use_position_supervised_loss=False, ia_bce_loss=True, dataset_file='roboflow', coco_path=None, dataset_dir='/root/autodl-tmp/chengdu_v2_dataset', square_resize_div_64=True, output_dir='/root/autodl-tmp/rfdetr/output', dont_save_weights=False, checkpoint_interval=10, seed=42, resume='', start_epoch=0, eval=False, use_ema=True, ema_decay=0.993, ema_tau=100, num_workers=2, device='cuda', world_size=1, dist_url='env://', sync_bn=True, fp16_eval=False, encoder_only=False, backbone_only=False, resolution=560, use_cls_token=False, multi_scale=True, expanded_scales=True, warmup_epochs=0, lr_scheduler='step', lr_min_factor=0.0, early_stopping=False, early_stopping_patience=10, early_stopping_min_delta=0.001, early_stopping_use_ema=False, gradient_checkpointing=False, tensorboard=True, wandb=False, project=None, run=None, class_names=[], distributed=False)\n",
      "number of params: 32174530\n",
      "[392, 448, 504, 560, 616, 672, 728, 784]\n",
      "loading annotations into memory...\n",
      "Done (t=0.04s)\n",
      "creating index...\n",
      "index created!\n",
      "[392, 448, 504, 560, 616, 672, 728, 784]\n",
      "loading annotations into memory...\n",
      "Done (t=0.01s)\n",
      "creating index...\n",
      "index created!\n",
      "Get benchmark\n",
      "Start training\n",
      "Grad accum steps:  4\n",
      "Total batch size:  16\n",
      "LENGTH OF DATA LOADER: 200\n",
      "data_iter_step: 0\n",
      "samples: <class 'rfdetr.util.misc.NestedTensor'>\n",
      "targets: 16 <class 'tuple'>\n"
     ]
    },
    {
     "ename": "NameError",
     "evalue": "name 'exit' is not defined",
     "output_type": "error",
     "traceback": [
      "\u001b[0;31m---------------------------------------------------------------------------\u001b[0m",
      "\u001b[0;31mNameError\u001b[0m                                 Traceback (most recent call last)",
      "Cell \u001b[0;32mIn[7], line 1\u001b[0m\n\u001b[0;32m----> 1\u001b[0m \u001b[43mrfdetr\u001b[49m\u001b[38;5;241;43m.\u001b[39;49m\u001b[43mtrain\u001b[49m\u001b[43m(\u001b[49m\n\u001b[1;32m      2\u001b[0m \u001b[43m    \u001b[49m\u001b[43mdataset_dir\u001b[49m\u001b[38;5;241;43m=\u001b[39;49m\u001b[38;5;124;43m\"\u001b[39;49m\u001b[38;5;124;43m/root/autodl-tmp/chengdu_v2_dataset\u001b[39;49m\u001b[38;5;124;43m\"\u001b[39;49m\u001b[43m,\u001b[49m\u001b[43m \u001b[49m\n\u001b[1;32m      3\u001b[0m \u001b[43m    \u001b[49m\u001b[43mepochs\u001b[49m\u001b[38;5;241;43m=\u001b[39;49m\u001b[38;5;241;43m1\u001b[39;49m\u001b[43m,\u001b[49m\u001b[43m \u001b[49m\n\u001b[1;32m      4\u001b[0m \u001b[43m    \u001b[49m\u001b[43mbatch_size\u001b[49m\u001b[38;5;241;43m=\u001b[39;49m\u001b[38;5;241;43m4\u001b[39;49m\u001b[43m,\u001b[49m\u001b[43m \u001b[49m\n\u001b[1;32m      5\u001b[0m \u001b[43m    \u001b[49m\u001b[43mgrad_accum_steps\u001b[49m\u001b[38;5;241;43m=\u001b[39;49m\u001b[38;5;241;43m4\u001b[39;49m\u001b[43m,\u001b[49m\n\u001b[1;32m      6\u001b[0m \u001b[43m    \u001b[49m\u001b[43mlr\u001b[49m\u001b[38;5;241;43m=\u001b[39;49m\u001b[38;5;241;43m1e-4\u001b[39;49m\u001b[43m,\u001b[49m\u001b[43m \u001b[49m\n\u001b[1;32m      7\u001b[0m \u001b[43m    \u001b[49m\u001b[43moutput_dir\u001b[49m\u001b[38;5;241;43m=\u001b[39;49m\u001b[38;5;124;43m\"\u001b[39;49m\u001b[38;5;124;43m/root/autodl-tmp/rfdetr/output\u001b[39;49m\u001b[38;5;124;43m\"\u001b[39;49m\n\u001b[1;32m      8\u001b[0m \u001b[43m)\u001b[49m\n",
      "File \u001b[0;32m~/hq_det/test/rf-detr/rfdetr/detr.py:58\u001b[0m, in \u001b[0;36mRFDETR.train\u001b[0;34m(self, **kwargs)\u001b[0m\n\u001b[1;32m     56\u001b[0m \u001b[38;5;28;01mdef\u001b[39;00m \u001b[38;5;21mtrain\u001b[39m(\u001b[38;5;28mself\u001b[39m, \u001b[38;5;241m*\u001b[39m\u001b[38;5;241m*\u001b[39mkwargs):\n\u001b[1;32m     57\u001b[0m     config \u001b[38;5;241m=\u001b[39m \u001b[38;5;28mself\u001b[39m\u001b[38;5;241m.\u001b[39mget_train_config(\u001b[38;5;241m*\u001b[39m\u001b[38;5;241m*\u001b[39mkwargs)\n\u001b[0;32m---> 58\u001b[0m     \u001b[38;5;28;43mself\u001b[39;49m\u001b[38;5;241;43m.\u001b[39;49m\u001b[43mtrain_from_config\u001b[49m\u001b[43m(\u001b[49m\u001b[43mconfig\u001b[49m\u001b[43m,\u001b[49m\u001b[43m \u001b[49m\u001b[38;5;241;43m*\u001b[39;49m\u001b[38;5;241;43m*\u001b[39;49m\u001b[43mkwargs\u001b[49m\u001b[43m)\u001b[49m\n",
      "File \u001b[0;32m~/hq_det/test/rf-detr/rfdetr/detr.py:159\u001b[0m, in \u001b[0;36mRFDETR.train_from_config\u001b[0;34m(self, config, **kwargs)\u001b[0m\n\u001b[1;32m    151\u001b[0m     early_stopping_callback \u001b[38;5;241m=\u001b[39m EarlyStoppingCallback(\n\u001b[1;32m    152\u001b[0m         model\u001b[38;5;241m=\u001b[39m\u001b[38;5;28mself\u001b[39m\u001b[38;5;241m.\u001b[39mmodel,\n\u001b[1;32m    153\u001b[0m         patience\u001b[38;5;241m=\u001b[39mconfig\u001b[38;5;241m.\u001b[39mearly_stopping_patience,\n\u001b[1;32m    154\u001b[0m         min_delta\u001b[38;5;241m=\u001b[39mconfig\u001b[38;5;241m.\u001b[39mearly_stopping_min_delta,\n\u001b[1;32m    155\u001b[0m         use_ema\u001b[38;5;241m=\u001b[39mconfig\u001b[38;5;241m.\u001b[39mearly_stopping_use_ema\n\u001b[1;32m    156\u001b[0m     )\n\u001b[1;32m    157\u001b[0m     \u001b[38;5;28mself\u001b[39m\u001b[38;5;241m.\u001b[39mcallbacks[\u001b[38;5;124m\"\u001b[39m\u001b[38;5;124mon_fit_epoch_end\u001b[39m\u001b[38;5;124m\"\u001b[39m]\u001b[38;5;241m.\u001b[39mappend(early_stopping_callback\u001b[38;5;241m.\u001b[39mupdate)\n\u001b[0;32m--> 159\u001b[0m \u001b[38;5;28;43mself\u001b[39;49m\u001b[38;5;241;43m.\u001b[39;49m\u001b[43mmodel\u001b[49m\u001b[38;5;241;43m.\u001b[39;49m\u001b[43mtrain\u001b[49m\u001b[43m(\u001b[49m\n\u001b[1;32m    160\u001b[0m \u001b[43m    \u001b[49m\u001b[38;5;241;43m*\u001b[39;49m\u001b[38;5;241;43m*\u001b[39;49m\u001b[43mall_kwargs\u001b[49m\u001b[43m,\u001b[49m\n\u001b[1;32m    161\u001b[0m \u001b[43m    \u001b[49m\u001b[43mcallbacks\u001b[49m\u001b[38;5;241;43m=\u001b[39;49m\u001b[38;5;28;43mself\u001b[39;49m\u001b[38;5;241;43m.\u001b[39;49m\u001b[43mcallbacks\u001b[49m\u001b[43m,\u001b[49m\n\u001b[1;32m    162\u001b[0m \u001b[43m\u001b[49m\u001b[43m)\u001b[49m\n",
      "File \u001b[0;32m~/hq_det/test/rf-detr/rfdetr/main.py:326\u001b[0m, in \u001b[0;36mModel.train\u001b[0;34m(self, callbacks, **kwargs)\u001b[0m\n\u001b[1;32m    324\u001b[0m model\u001b[38;5;241m.\u001b[39mtrain()\n\u001b[1;32m    325\u001b[0m criterion\u001b[38;5;241m.\u001b[39mtrain()   \n\u001b[0;32m--> 326\u001b[0m train_stats \u001b[38;5;241m=\u001b[39m \u001b[43mtrain_one_epoch\u001b[49m\u001b[43m(\u001b[49m\n\u001b[1;32m    327\u001b[0m \u001b[43m    \u001b[49m\u001b[43mmodel\u001b[49m\u001b[43m,\u001b[49m\u001b[43m \u001b[49m\u001b[43mcriterion\u001b[49m\u001b[43m,\u001b[49m\u001b[43m \u001b[49m\u001b[43mlr_scheduler\u001b[49m\u001b[43m,\u001b[49m\u001b[43m \u001b[49m\u001b[43mdata_loader_train\u001b[49m\u001b[43m,\u001b[49m\u001b[43m \u001b[49m\u001b[43moptimizer\u001b[49m\u001b[43m,\u001b[49m\u001b[43m \u001b[49m\u001b[43mdevice\u001b[49m\u001b[43m,\u001b[49m\u001b[43m \u001b[49m\u001b[43mepoch\u001b[49m\u001b[43m,\u001b[49m\n\u001b[1;32m    328\u001b[0m \u001b[43m    \u001b[49m\u001b[43meffective_batch_size\u001b[49m\u001b[43m,\u001b[49m\u001b[43m \u001b[49m\u001b[43margs\u001b[49m\u001b[38;5;241;43m.\u001b[39;49m\u001b[43mclip_max_norm\u001b[49m\u001b[43m,\u001b[49m\u001b[43m \u001b[49m\u001b[43mema_m\u001b[49m\u001b[38;5;241;43m=\u001b[39;49m\u001b[38;5;28;43mself\u001b[39;49m\u001b[38;5;241;43m.\u001b[39;49m\u001b[43mema_m\u001b[49m\u001b[43m,\u001b[49m\u001b[43m \u001b[49m\u001b[43mschedules\u001b[49m\u001b[38;5;241;43m=\u001b[39;49m\u001b[43mschedules\u001b[49m\u001b[43m,\u001b[49m\u001b[43m \u001b[49m\n\u001b[1;32m    329\u001b[0m \u001b[43m    \u001b[49m\u001b[43mnum_training_steps_per_epoch\u001b[49m\u001b[38;5;241;43m=\u001b[39;49m\u001b[43mnum_training_steps_per_epoch\u001b[49m\u001b[43m,\u001b[49m\n\u001b[1;32m    330\u001b[0m \u001b[43m    \u001b[49m\u001b[43mvit_encoder_num_layers\u001b[49m\u001b[38;5;241;43m=\u001b[39;49m\u001b[43margs\u001b[49m\u001b[38;5;241;43m.\u001b[39;49m\u001b[43mvit_encoder_num_layers\u001b[49m\u001b[43m,\u001b[49m\u001b[43m \u001b[49m\u001b[43margs\u001b[49m\u001b[38;5;241;43m=\u001b[39;49m\u001b[43margs\u001b[49m\u001b[43m,\u001b[49m\u001b[43m \u001b[49m\u001b[43mcallbacks\u001b[49m\u001b[38;5;241;43m=\u001b[39;49m\u001b[43mcallbacks\u001b[49m\u001b[43m)\u001b[49m\n\u001b[1;32m    331\u001b[0m train_epoch_time \u001b[38;5;241m=\u001b[39m time\u001b[38;5;241m.\u001b[39mtime() \u001b[38;5;241m-\u001b[39m epoch_start_time\n\u001b[1;32m    332\u001b[0m train_epoch_time_str \u001b[38;5;241m=\u001b[39m \u001b[38;5;28mstr\u001b[39m(datetime\u001b[38;5;241m.\u001b[39mtimedelta(seconds\u001b[38;5;241m=\u001b[39m\u001b[38;5;28mint\u001b[39m(train_epoch_time)))\n",
      "File \u001b[0;32m~/hq_det/test/rf-detr/rfdetr/engine.py:96\u001b[0m, in \u001b[0;36mtrain_one_epoch\u001b[0;34m(model, criterion, lr_scheduler, data_loader, optimizer, device, epoch, batch_size, max_norm, ema_m, schedules, num_training_steps_per_epoch, vit_encoder_num_layers, args, callbacks)\u001b[0m\n\u001b[1;32m     94\u001b[0m \u001b[38;5;28mprint\u001b[39m(\u001b[38;5;124m\"\u001b[39m\u001b[38;5;124msamples:\u001b[39m\u001b[38;5;124m\"\u001b[39m, \u001b[38;5;28mtype\u001b[39m(samples))\n\u001b[1;32m     95\u001b[0m \u001b[38;5;28mprint\u001b[39m(\u001b[38;5;124m\"\u001b[39m\u001b[38;5;124mtargets:\u001b[39m\u001b[38;5;124m\"\u001b[39m, \u001b[38;5;28mlen\u001b[39m(targets), \u001b[38;5;28mtype\u001b[39m(targets))\n\u001b[0;32m---> 96\u001b[0m \u001b[43mexit\u001b[49m()\n\u001b[1;32m     97\u001b[0m it \u001b[38;5;241m=\u001b[39m start_steps \u001b[38;5;241m+\u001b[39m data_iter_step  \u001b[38;5;66;03m# 当前总步数\u001b[39;00m\n\u001b[1;32m     98\u001b[0m \u001b[38;5;66;03m# 执行训练批次开始时的回调函数\u001b[39;00m\n",
      "\u001b[0;31mNameError\u001b[0m: name 'exit' is not defined"
     ]
    }
   ],
   "source": [
    "rfdetr.train(\n",
    "    dataset_dir=\"/root/autodl-tmp/chengdu_v2_dataset\", \n",
    "    epochs=1, \n",
    "    batch_size=4, \n",
    "    grad_accum_steps=4,\n",
    "    lr=1e-4, \n",
    "    output_dir=\"/root/autodl-tmp/rfdetr/output\"\n",
    ")"
   ]
  },
  {
   "cell_type": "markdown",
   "metadata": {},
   "source": [
    "## My Code"
   ]
  },
  {
   "cell_type": "code",
   "execution_count": 5,
   "metadata": {},
   "outputs": [
    {
     "name": "stdout",
     "output_type": "stream",
     "text": [
      "2025-06-17 23:02:26.916 | INFO     | hq_det.trainer:run:192 - data_path='/root/autodl-tmp/chengdu_v2_dataset' num_epoches=10 warmup_epochs=2 num_data_workers=8 lr0=0.0001 lr_min=5e-05 lr_backbone_mult=0.1 batch_size=8 device='cuda:0' checkpoint_path='/root/autodl-tmp/rfdetr/output' output_path='/root/autodl-tmp/rfdetr/output' checkpoint_interval=-1 model_argument={'model': '/root/autodl-tmp/model/rfdetr/rf-detr-base.pth', 'model_type': 'base', 'lr_encoder': 0.00015, 'lr_component_decay': 0.7} image_size=1024 enable_amp=False gradient_update_interval=2 class_id2names=None eval_class_names=[] devices=[0]\n",
      "loading annotations into memory...\n",
      "Done (t=0.04s)\n",
      "creating index...\n",
      "index created!\n",
      "2025-06-17 23:02:26.963 | INFO     | hq_det.dataset:__init__:118 - CocoDetection: img_folder /root/autodl-tmp/chengdu_v2_dataset/train using 3204 images\n",
      "2025-06-17 23:02:26.963 | INFO     | hq_det.dataset:__init__:124 - id 2 names {0: '其他', 1: '划伤', 2: '划痕', 3: '压痕', 4: '吊紧', 5: '异物外漏', 6: '折痕', 7: '抛线', 8: '拼接间隙', 9: '水渍', 10: '水珠', 11: '烫伤', 12: '爆针线', 13: '白点', 14: '破损', 15: '碰伤', 16: '红标签', 17: '线头', 18: '脏污', 19: '褶皱(贯穿)', 20: '褶皱（轻度）', 21: '褶皱（重度）', 22: '重跳针'}\n",
      "loading annotations into memory...\n",
      "Done (t=0.22s)\n",
      "creating index...\n",
      "index created!\n",
      "2025-06-17 23:02:27.183 | INFO     | hq_det.dataset:__init__:118 - CocoDetection: img_folder /root/autodl-tmp/chengdu_v2_dataset/valid using 802 images\n",
      "2025-06-17 23:02:27.183 | INFO     | hq_det.dataset:__init__:124 - id 2 names {0: '其他', 1: '划伤', 2: '划痕', 3: '压痕', 4: '吊紧', 5: '异物外漏', 6: '折痕', 7: '抛线', 8: '拼接间隙', 9: '水渍', 10: '水珠', 11: '烫伤', 12: '爆针线', 13: '白点', 14: '破损', 15: '碰伤', 16: '红标签', 17: '线头', 18: '脏污', 19: '褶皱(贯穿)', 20: '褶皱（轻度）', 21: '褶皱（重度）', 22: '重跳针'}\n",
      "Namespace(num_classes={'encoder': 'dinov2_windowed_small', 'out_feature_indexes': [2, 5, 8, 11], 'dec_layers': 3, 'two_stage': True, 'projector_scale': ['P4'], 'hidden_dim': 256, 'sa_nheads': 8, 'ca_nheads': 16, 'dec_n_points': 2, 'bbox_reparam': True, 'lite_refpoint_refine': True, 'layer_norm': True, 'amp': True, 'num_classes': 23, 'pretrain_weights': '/root/autodl-tmp/model/rfdetr/rf-detr-base.pth', 'device': 'cuda', 'resolution': 560, 'group_detr': 13, 'gradient_checkpointing': False, 'num_queries': 300, 'num_select': 300, 'lr': 0.0001, 'lr_encoder': 0.00015, 'batch_size': 4, 'grad_accum_steps': 4, 'epochs': 100, 'ema_decay': 0.993, 'ema_tau': 100, 'lr_drop': 100, 'checkpoint_interval': 10, 'warmup_epochs': 0, 'lr_vit_layer_decay': 0.8, 'lr_component_decay': 0.7, 'drop_path': 0.0, 'ia_bce_loss': True, 'cls_loss_coef': 1.0, 'dataset_file': 'roboflow', 'square_resize_div_64': True, 'dataset_dir': '/root/autodl-tmp/chengdu_v2_dataset', 'output_dir': 'output', 'multi_scale': True, 'expanded_scales': True, 'use_ema': True, 'num_workers': 2, 'weight_decay': 0.0001, 'early_stopping': False, 'early_stopping_patience': 10, 'early_stopping_min_delta': 0.001, 'early_stopping_use_ema': False, 'tensorboard': True, 'wandb': False, 'project': None, 'run': None, 'class_names': None}, grad_accum_steps=1, amp=False, lr=0.0001, lr_encoder=0.00015, batch_size=2, weight_decay=0.0001, epochs=12, lr_drop=11, clip_max_norm=0.1, lr_vit_layer_decay=0.8, lr_component_decay=1.0, do_benchmark=False, dropout=0, drop_path=0, drop_mode='standard', drop_schedule='constant', cutoff_epoch=0, pretrained_encoder=None, pretrain_weights=None, pretrain_exclude_keys=None, pretrain_keys_modify_to_load=None, pretrained_distiller=None, encoder='vit_tiny', vit_encoder_num_layers=12, window_block_indexes=None, position_embedding='sine', out_feature_indexes=[-1], freeze_encoder=False, layer_norm=False, rms_norm=False, backbone_lora=False, force_no_pretrain=False, dec_layers=3, dim_feedforward=2048, hidden_dim=256, sa_nheads=8, ca_nheads=8, num_queries=300, group_detr=13, two_stage=False, projector_scale='P4', lite_refpoint_refine=False, num_select=100, dec_n_points=4, decoder_norm='LN', bbox_reparam=False, freeze_batch_norm=False, set_cost_class=2, set_cost_bbox=5, set_cost_giou=2, cls_loss_coef=2, bbox_loss_coef=5, giou_loss_coef=2, focal_alpha=0.25, aux_loss=True, sum_group_losses=False, use_varifocal_loss=False, use_position_supervised_loss=False, ia_bce_loss=False, dataset_file='coco', coco_path=None, dataset_dir=None, square_resize_div_64=False, output_dir='output', dont_save_weights=False, checkpoint_interval=10, seed=42, resume='', start_epoch=0, eval=False, use_ema=False, ema_decay=0.9997, ema_tau=0, num_workers=2, device='cuda', world_size=1, dist_url='env://', sync_bn=True, fp16_eval=False, encoder_only=False, backbone_only=False, resolution=640, use_cls_token=False, multi_scale=False, expanded_scales=False, warmup_epochs=1, lr_scheduler='step', lr_min_factor=0.0, early_stopping=True, early_stopping_patience=10, early_stopping_min_delta=0.001, early_stopping_use_ema=False, gradient_checkpointing=False)\n",
      "Loading pretrain weights\n",
      "num_classes mismatch: pretrain weights has 90 classes, but your model has 23 classes\n",
      "reinitializing detection head with 23 classes\n",
      "Train Epoch[0/11]:   0%|          | 0/401 [00:00<?, ?it/s]UserWarning: torch.meshgrid: in an upcoming release, it will be required to pass the indexing argument. (Triggered internally at ../aten/src/ATen/native/TensorShape.cpp:3587.)\n",
      "Train Epoch[0/11]: 100%|##########| 401/401 [04:10<00:00,  1.60it/s, box=0.146, class_error=66.7, cls=0.86, giou=1, loss=18]        \n",
      "Valid Epoch[0/11]: 100%|##########| 101/101 [00:23<00:00,  4.34it/s, box=0, class_error=100, cls=0.426, giou=0, loss=3.06]        \n",
      "creating index...\n",
      "index created!\n",
      "creating index...\n",
      "index created!\n",
      "Running per image evaluation...\n",
      "Evaluate annotation type *bbox*\n",
      "DONE (t=5.00s).\n",
      "Accumulating evaluation results...\n",
      "DONE (t=0.72s).\n",
      " Average Precision  (AP) @[ IoU=0.50:0.95 | area=   all | maxDets=100 ] = 0.000\n",
      " Average Precision  (AP) @[ IoU=0.50      | area=   all | maxDets=100 ] = 0.000\n",
      " Average Precision  (AP) @[ IoU=0.75      | area=   all | maxDets=100 ] = 0.000\n",
      " Average Precision  (AP) @[ IoU=0.50:0.95 | area= small | maxDets=100 ] = 0.000\n",
      " Average Precision  (AP) @[ IoU=0.50:0.95 | area=medium | maxDets=100 ] = 0.000\n",
      " Average Precision  (AP) @[ IoU=0.50:0.95 | area= large | maxDets=100 ] = 0.000\n",
      " Average Recall     (AR) @[ IoU=0.50:0.95 | area=   all | maxDets=  1 ] = 0.000\n",
      " Average Recall     (AR) @[ IoU=0.50:0.95 | area=   all | maxDets= 10 ] = 0.000\n",
      " Average Recall     (AR) @[ IoU=0.50:0.95 | area=   all | maxDets=100 ] = 0.004\n",
      " Average Recall     (AR) @[ IoU=0.50:0.95 | area= small | maxDets=100 ] = 0.000\n",
      " Average Recall     (AR) @[ IoU=0.50:0.95 | area=medium | maxDets=100 ] = 0.001\n",
      " Average Recall     (AR) @[ IoU=0.50:0.95 | area= large | maxDets=100 ] = 0.015\n",
      "2025-06-17 23:07:11.574 | INFO     | hq_det.trainer:run:382 - Elapsed Time: Train 00:04:10 | Valid 00:00:23 | Epoch 00:04:33\n",
      "Train Epoch[1/11]: 100%|##########| 401/401 [04:11<00:00,  1.59it/s, box=0.151, class_error=100, cls=0.932, giou=0.699, loss=16.8]  \n",
      "Valid Epoch[1/11]: 100%|##########| 101/101 [00:23<00:00,  4.39it/s, box=0.0577, class_error=100, cls=0.956, giou=0.623, loss=14.6]\n",
      "creating index...\n",
      "index created!\n",
      "creating index...\n",
      "index created!\n",
      "Running per image evaluation...\n",
      "Evaluate annotation type *bbox*\n",
      "DONE (t=4.94s).\n",
      "Accumulating evaluation results...\n",
      "DONE (t=0.74s).\n",
      " Average Precision  (AP) @[ IoU=0.50:0.95 | area=   all | maxDets=100 ] = 0.000\n",
      " Average Precision  (AP) @[ IoU=0.50      | area=   all | maxDets=100 ] = 0.000\n",
      " Average Precision  (AP) @[ IoU=0.75      | area=   all | maxDets=100 ] = 0.000\n",
      " Average Precision  (AP) @[ IoU=0.50:0.95 | area= small | maxDets=100 ] = 0.000\n",
      " Average Precision  (AP) @[ IoU=0.50:0.95 | area=medium | maxDets=100 ] = 0.000\n",
      " Average Precision  (AP) @[ IoU=0.50:0.95 | area= large | maxDets=100 ] = 0.000\n",
      " Average Recall     (AR) @[ IoU=0.50:0.95 | area=   all | maxDets=  1 ] = 0.000\n",
      " Average Recall     (AR) @[ IoU=0.50:0.95 | area=   all | maxDets= 10 ] = 0.000\n",
      " Average Recall     (AR) @[ IoU=0.50:0.95 | area=   all | maxDets=100 ] = 0.003\n",
      " Average Recall     (AR) @[ IoU=0.50:0.95 | area= small | maxDets=100 ] = 0.000\n",
      " Average Recall     (AR) @[ IoU=0.50:0.95 | area=medium | maxDets=100 ] = 0.006\n",
      " Average Recall     (AR) @[ IoU=0.50:0.95 | area= large | maxDets=100 ] = 0.002\n",
      "2025-06-17 23:11:54.698 | INFO     | hq_det.trainer:run:382 - Elapsed Time: Train 00:04:11 | Valid 00:00:23 | Epoch 00:04:34\n",
      "Train Epoch[2/11]:  11%|#         | 44/401 [00:32<03:18,  1.80it/s, box=0.156, class_error=73.3, cls=0.82, giou=0.871, loss=17.1] ^C\n",
      "Error idx: 2534\n"
     ]
    }
   ],
   "source": [
    "!python scripts/run_train_rfdetr.py \\\n",
    "    --data_path /root/autodl-tmp/chengdu_v2_dataset \\\n",
    "    --output_path /root/autodl-tmp/rfdetr/output \\\n",
    "    --load_checkpoint /root/autodl-tmp/model/rfdetr/rf-detr-base.pth \\\n",
    "    --num_epoches 10 \\\n",
    "    --warmup_epochs 2 \\\n",
    "    --num_data_workers 8 \\\n",
    "    --lr0 1e-4 \\\n",
    "    --lr_min 5e-5 \\\n",
    "    --batch_size 8 \\\n",
    "    --device cuda:0 \\\n",
    "    --checkpoint_interval -1 \\\n",
    "    --image_size 1024 \\\n",
    "    --gradient_update_interval 2"
   ]
  },
  {
   "cell_type": "code",
   "execution_count": null,
   "metadata": {},
   "outputs": [],
   "source": []
  }
 ],
 "metadata": {
  "kernelspec": {
   "display_name": "base",
   "language": "python",
   "name": "python3"
  },
  "language_info": {
   "codemirror_mode": {
    "name": "ipython",
    "version": 3
   },
   "file_extension": ".py",
   "mimetype": "text/x-python",
   "name": "python",
   "nbconvert_exporter": "python",
   "pygments_lexer": "ipython3",
   "version": "3.12.3"
  }
 },
 "nbformat": 4,
 "nbformat_minor": 2
}
