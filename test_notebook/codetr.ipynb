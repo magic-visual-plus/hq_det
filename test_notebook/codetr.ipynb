{
 "cells": [
  {
   "cell_type": "markdown",
   "metadata": {},
   "source": [
    "# Co Detr"
   ]
  },
  {
   "cell_type": "code",
   "execution_count": 1,
   "metadata": {},
   "outputs": [],
   "source": [
    "from IPython.core.magic import register_cell_magic  \n",
    "\n",
    "@register_cell_magic  \n",
    "def locals(line, cell):  \n",
    "    \"\"\"  \n",
    "    用法：  \n",
    "    1. %%locals --skip   # 当前cell的代码不会被执行  \n",
    "    2. %%locals         # 当前cell在隔离环境执行，不会污染kernel变量  \n",
    "    \"\"\"  \n",
    "    line = line.split(\"#\")[0]\n",
    "    if '--skip' in line:  \n",
    "        return  \n",
    "    else:  \n",
    "        local_env = {}  \n",
    "        exec(cell, {}, local_env)"
   ]
  },
  {
   "cell_type": "markdown",
   "metadata": {},
   "source": [
    "## my"
   ]
  },
  {
   "cell_type": "code",
   "execution_count": 2,
   "metadata": {},
   "outputs": [],
   "source": [
    "%%locals --skip\n",
    "import os\n",
    "os.chdir('/root/hq_det')\n",
    "\n",
    "!python scripts/run_train_codetr.py \\\n",
    "    --data_path /root/autodl-tmp/chengdu_v2_dataset \\\n",
    "    --output_path /root/autodl-tmp/codetr/output \\\n",
    "    --load_checkpoint /root/autodl-tmp/model/codetr/co_dino_5scale_swin_large_16e_o365tococo-614254c9.pth \\\n",
    "    --num_epoches 10 \\\n",
    "    --warmup_epochs 2 \\\n",
    "    --num_data_workers 8 \\\n",
    "    --lr0 1e-3 \\\n",
    "    --lr_min 5e-5 \\\n",
    "    --batch_size 2 \\\n",
    "    --device cuda:0 \\\n",
    "    --checkpoint_interval -1 \\\n",
    "    --image_size 1024"
   ]
  },
  {
   "cell_type": "code",
   "execution_count": 9,
   "metadata": {},
   "outputs": [
    {
     "name": "stdout",
     "output_type": "stream",
     "text": [
      "{'data_path': '/root/autodl-tmp/chengdu_v2_dataset', 'output_path': '/root/autodl-tmp/codetr/output', 'load_checkpoint': '/root/autodl-tmp/model/codetr/co_dino_5scale_swin_large_16e_o365tococo-614254c9.pth', 'num_epoches': 1, 'warmup_epochs': 2, 'num_data_workers': 8, 'lr0': 0.001, 'lr_min': 5e-05, 'batch_size': 1, 'device': 'cuda:0', 'checkpoint_interval': -1, 'image_size': 1024, 'log_file': None, 'eval_class_names': None, 'experiment_info': None}\n"
     ]
    }
   ],
   "source": [
    "%%locals\n",
    "import os\n",
    "os.chdir('/root/hq_det')\n",
    "from scripts.run_train_codetr import run_train_codetr, get_args\n",
    "\n",
    "args = get_args(use_kwargs=True, \n",
    "    batch_size=1, \n",
    "    num_epoches=1, \n",
    "    data_path='/root/autodl-tmp/chengdu_v2_dataset', \n",
    "    output_path='/root/autodl-tmp/codetr/output', \n",
    "    load_checkpoint='/root/autodl-tmp/model/codetr/co_dino_5scale_swin_large_16e_o365tococo-614254c9.pth',\n",
    "    device='cuda:0', \n",
    "    checkpoint_interval=-1, \n",
    "    image_size=1024\n",
    ")\n",
    "print(args.__dict__)\n",
    "\n",
    "run_train_codetr(args)"
   ]
  },
  {
   "cell_type": "markdown",
   "metadata": {},
   "source": [
    "## raw"
   ]
  },
  {
   "cell_type": "code",
   "execution_count": null,
   "metadata": {},
   "outputs": [],
   "source": [
    "%%locals --skip\n",
    "import os\n",
    "os.chdir('/root/mmdetection')\n",
    "\n",
    "\n",
    "!python tools/train.py \\\n",
    "    /root/hq_det/test_notebook/configs/co_dino_5scale_swin_l_16xb1_16e_o365tococo.py \\\n",
    "    --work-dir /root/autodl-tmp/codetr/output \\\n",
    "    # --load_from /root/autodl-tmp/model/codetr/co_dino_5scale_swin_large_16e_o365tococo-614254c9.pth \\\n",
    "    --num_epochs 10 \\\n",
    "    --batch_size 4 \\"
   ]
  },
  {
   "cell_type": "code",
   "execution_count": null,
   "metadata": {},
   "outputs": [],
   "source": []
  }
 ],
 "metadata": {
  "kernelspec": {
   "display_name": "base",
   "language": "python",
   "name": "python3"
  },
  "language_info": {
   "codemirror_mode": {
    "name": "ipython",
    "version": 3
   },
   "file_extension": ".py",
   "mimetype": "text/x-python",
   "name": "python",
   "nbconvert_exporter": "python",
   "pygments_lexer": "ipython3",
   "version": "3.12.3"
  }
 },
 "nbformat": 4,
 "nbformat_minor": 2
}
